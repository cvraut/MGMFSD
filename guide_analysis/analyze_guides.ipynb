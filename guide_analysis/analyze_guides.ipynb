{
 "cells": [
  {
   "cell_type": "markdown",
   "id": "5e237c80-fc0e-47fc-affb-b7acfea1ff0a",
   "metadata": {},
   "source": [
    "# Analyze guides"
   ]
  },
  {
   "cell_type": "markdown",
   "id": "9cafa506-ee30-4139-a593-00b52d325e35",
   "metadata": {},
   "source": [
    "Since the guides can be given to us in a variety of orders and we need to order different ranges of sequence, this becomes rather tricky & I am having trouble working directly with R."
   ]
  },
  {
   "cell_type": "markdown",
   "id": "61c1b748-2761-4937-96e6-5ecc2f4a476e",
   "metadata": {},
   "source": [
    "# imports & globals 🌎"
   ]
  },
  {
   "cell_type": "code",
   "execution_count": 50,
   "id": "d1c2555c-f6c4-4b6a-ba0e-9d1e01e5e6ab",
   "metadata": {
    "ExecuteTime": {
     "end_time": "2022-09-28T19:44:37.871929Z",
     "start_time": "2022-09-28T19:44:37.156310Z"
    },
    "execution": {
     "iopub.execute_input": "2022-09-29T14:43:56.019810Z",
     "iopub.status.busy": "2022-09-29T14:43:56.019426Z",
     "iopub.status.idle": "2022-09-29T14:43:56.024574Z",
     "shell.execute_reply": "2022-09-29T14:43:56.023815Z",
     "shell.execute_reply.started": "2022-09-29T14:43:56.019780Z"
    },
    "tags": []
   },
   "outputs": [],
   "source": [
    "import pandas as pd\n",
    "import requests\n",
    "from bs4 import BeautifulSoup\n",
    "import random\n",
    "import regex as re\n",
    "from pickle import dump,load\n",
    "import sys"
   ]
  },
  {
   "cell_type": "markdown",
   "id": "a326684b-9290-4ed2-8525-e9fbbff41e6c",
   "metadata": {},
   "source": [
    "# Grab data & example"
   ]
  },
  {
   "cell_type": "code",
   "execution_count": 51,
   "id": "83d27e49-c90f-403d-83f6-8bb15ac407c1",
   "metadata": {
    "ExecuteTime": {
     "end_time": "2022-09-28T19:44:39.033747Z",
     "start_time": "2022-09-28T19:44:39.002956Z"
    },
    "execution": {
     "iopub.execute_input": "2022-09-29T14:43:56.025958Z",
     "iopub.status.busy": "2022-09-29T14:43:56.025663Z",
     "iopub.status.idle": "2022-09-29T14:43:56.063482Z",
     "shell.execute_reply": "2022-09-29T14:43:56.062898Z",
     "shell.execute_reply.started": "2022-09-29T14:43:56.025937Z"
    },
    "tags": []
   },
   "outputs": [
    {
     "name": "stdout",
     "output_type": "stream",
     "text": [
      "(47, 13)\n"
     ]
    }
   ],
   "source": [
    "gene_data = pd.read_csv(\"../data/gene_data.csv\")\n",
    "print(gene_data.shape)"
   ]
  },
  {
   "cell_type": "code",
   "execution_count": 52,
   "id": "fc7f8afb-24be-467e-9ad4-41dfd725f367",
   "metadata": {
    "ExecuteTime": {
     "end_time": "2022-09-28T19:44:42.790106Z",
     "start_time": "2022-09-28T19:44:42.062395Z"
    },
    "execution": {
     "iopub.execute_input": "2022-09-29T14:43:56.064512Z",
     "iopub.status.busy": "2022-09-29T14:43:56.064194Z",
     "iopub.status.idle": "2022-09-29T14:43:56.087158Z",
     "shell.execute_reply": "2022-09-29T14:43:56.086622Z",
     "shell.execute_reply.started": "2022-09-29T14:43:56.064492Z"
    },
    "tags": []
   },
   "outputs": [
    {
     "name": "stdout",
     "output_type": "stream",
     "text": [
      "(162, 2)\n"
     ]
    }
   ],
   "source": [
    "guide_data = pd.read_excel(\"../inputs/47 genes and its guide sequence- synthego.xlsx\")\n",
    "print(guide_data.shape)"
   ]
  },
  {
   "cell_type": "code",
   "execution_count": 53,
   "id": "1f7f210a-917d-4bcf-a5e7-2978a24e0edf",
   "metadata": {
    "ExecuteTime": {
     "end_time": "2022-09-28T20:06:35.870349Z",
     "start_time": "2022-09-28T20:06:35.860133Z"
    },
    "execution": {
     "iopub.execute_input": "2022-09-29T14:43:56.088742Z",
     "iopub.status.busy": "2022-09-29T14:43:56.088460Z",
     "iopub.status.idle": "2022-09-29T14:43:56.095900Z",
     "shell.execute_reply": "2022-09-29T14:43:56.095395Z",
     "shell.execute_reply.started": "2022-09-29T14:43:56.088721Z"
    },
    "tags": []
   },
   "outputs": [
    {
     "data": {
      "text/html": [
       "<div>\n",
       "<style scoped>\n",
       "    .dataframe tbody tr th:only-of-type {\n",
       "        vertical-align: middle;\n",
       "    }\n",
       "\n",
       "    .dataframe tbody tr th {\n",
       "        vertical-align: top;\n",
       "    }\n",
       "\n",
       "    .dataframe thead th {\n",
       "        text-align: right;\n",
       "    }\n",
       "</style>\n",
       "<table border=\"1\" class=\"dataframe\">\n",
       "  <thead>\n",
       "    <tr style=\"text-align: right;\">\n",
       "      <th></th>\n",
       "      <th>Gene Name</th>\n",
       "      <th>Guides</th>\n",
       "    </tr>\n",
       "  </thead>\n",
       "  <tbody>\n",
       "    <tr>\n",
       "      <th>129</th>\n",
       "      <td>LYPLAL1</td>\n",
       "      <td>A*U*A*CUGGGGUAACCGAGGGG</td>\n",
       "    </tr>\n",
       "    <tr>\n",
       "      <th>130</th>\n",
       "      <td>LYPLAL1</td>\n",
       "      <td>G*C*C*AUGCAGGAAGAUCAGAG</td>\n",
       "    </tr>\n",
       "    <tr>\n",
       "      <th>131</th>\n",
       "      <td>LYPLAL1</td>\n",
       "      <td>A*U*C*AGCGAUGGCGGCUGCGU</td>\n",
       "    </tr>\n",
       "  </tbody>\n",
       "</table>\n",
       "</div>"
      ],
      "text/plain": [
       "    Gene Name                   Guides\n",
       "129   LYPLAL1  A*U*A*CUGGGGUAACCGAGGGG\n",
       "130   LYPLAL1  G*C*C*AUGCAGGAAGAUCAGAG\n",
       "131   LYPLAL1  A*U*C*AGCGAUGGCGGCUGCGU"
      ]
     },
     "execution_count": 53,
     "metadata": {},
     "output_type": "execute_result"
    }
   ],
   "source": [
    "guide_data[guide_data[\"Gene Name\"] == \"LYPLAL1\"]"
   ]
  },
  {
   "cell_type": "code",
   "execution_count": 54,
   "id": "1bd34d30-971a-47e4-ad79-9f2418a76e65",
   "metadata": {
    "ExecuteTime": {
     "end_time": "2022-09-28T20:06:38.905418Z",
     "start_time": "2022-09-28T20:06:38.892676Z"
    },
    "execution": {
     "iopub.execute_input": "2022-09-29T14:43:56.096840Z",
     "iopub.status.busy": "2022-09-29T14:43:56.096575Z",
     "iopub.status.idle": "2022-09-29T14:43:56.117567Z",
     "shell.execute_reply": "2022-09-29T14:43:56.117040Z",
     "shell.execute_reply.started": "2022-09-29T14:43:56.096820Z"
    },
    "tags": []
   },
   "outputs": [
    {
     "data": {
      "text/html": [
       "<div>\n",
       "<style scoped>\n",
       "    .dataframe tbody tr th:only-of-type {\n",
       "        vertical-align: middle;\n",
       "    }\n",
       "\n",
       "    .dataframe tbody tr th {\n",
       "        vertical-align: top;\n",
       "    }\n",
       "\n",
       "    .dataframe thead th {\n",
       "        text-align: right;\n",
       "    }\n",
       "</style>\n",
       "<table border=\"1\" class=\"dataframe\">\n",
       "  <thead>\n",
       "    <tr style=\"text-align: right;\">\n",
       "      <th></th>\n",
       "      <th>Unnamed: 0</th>\n",
       "      <th>gene</th>\n",
       "      <th>organism</th>\n",
       "      <th>gene_link</th>\n",
       "      <th>gene_bank_url</th>\n",
       "      <th>ncbi_id</th>\n",
       "      <th>start</th>\n",
       "      <th>stop</th>\n",
       "      <th>strand</th>\n",
       "      <th>ncbi_phid</th>\n",
       "      <th>genbank_jquery</th>\n",
       "      <th>CDS</th>\n",
       "      <th>seq</th>\n",
       "    </tr>\n",
       "  </thead>\n",
       "  <tbody>\n",
       "    <tr>\n",
       "      <th>40</th>\n",
       "      <td>40</td>\n",
       "      <td>LYPLAL1</td>\n",
       "      <td>Homo sapiens</td>\n",
       "      <td>https://www.ncbi.nlm.nih.gov/gene/127018</td>\n",
       "      <td>https://www.ncbi.nlm.nih.gov//nuccore/NC_00000...</td>\n",
       "      <td>568815597</td>\n",
       "      <td>219173878</td>\n",
       "      <td>219445496</td>\n",
       "      <td>off</td>\n",
       "      <td>CE8C9E9A32CEF9910000000001B900A1.m_23</td>\n",
       "      <td>https://www.ncbi.nlm.nih.gov/sviewer/viewer.fc...</td>\n",
       "      <td>14..104,5270..5369,5523..5549,19205..19374,366...</td>\n",
       "      <td>agtggcatcagcgatggcggctgcgtcggggtcggttctgcagcgc...</td>\n",
       "    </tr>\n",
       "  </tbody>\n",
       "</table>\n",
       "</div>"
      ],
      "text/plain": [
       "    Unnamed: 0     gene      organism  \\\n",
       "40          40  LYPLAL1  Homo sapiens   \n",
       "\n",
       "                                   gene_link  \\\n",
       "40  https://www.ncbi.nlm.nih.gov/gene/127018   \n",
       "\n",
       "                                        gene_bank_url    ncbi_id      start  \\\n",
       "40  https://www.ncbi.nlm.nih.gov//nuccore/NC_00000...  568815597  219173878   \n",
       "\n",
       "         stop strand                              ncbi_phid  \\\n",
       "40  219445496    off  CE8C9E9A32CEF9910000000001B900A1.m_23   \n",
       "\n",
       "                                       genbank_jquery  \\\n",
       "40  https://www.ncbi.nlm.nih.gov/sviewer/viewer.fc...   \n",
       "\n",
       "                                                  CDS  \\\n",
       "40  14..104,5270..5369,5523..5549,19205..19374,366...   \n",
       "\n",
       "                                                  seq  \n",
       "40  agtggcatcagcgatggcggctgcgtcggggtcggttctgcagcgc...  "
      ]
     },
     "execution_count": 54,
     "metadata": {},
     "output_type": "execute_result"
    }
   ],
   "source": [
    "gene_data[gene_data.gene == \"LYPLAL1\"]"
   ]
  },
  {
   "cell_type": "code",
   "execution_count": 55,
   "id": "bb6dfc1c-a584-4565-9036-b8731d024e69",
   "metadata": {
    "ExecuteTime": {
     "end_time": "2022-09-28T20:06:42.478773Z",
     "start_time": "2022-09-28T20:06:42.472432Z"
    },
    "execution": {
     "iopub.execute_input": "2022-09-29T14:43:56.118515Z",
     "iopub.status.busy": "2022-09-29T14:43:56.118241Z",
     "iopub.status.idle": "2022-09-29T14:43:56.132719Z",
     "shell.execute_reply": "2022-09-29T14:43:56.132148Z",
     "shell.execute_reply.started": "2022-09-29T14:43:56.118494Z"
    },
    "tags": []
   },
   "outputs": [
    {
     "data": {
      "text/plain": [
       "{'A*U*A*CUGGGGUAACCGAGGGG',\n",
       " 'A*U*C*AGCGAUGGCGGCUGCGU',\n",
       " 'G*C*C*AUGCAGGAAGAUCAGAG'}"
      ]
     },
     "execution_count": 55,
     "metadata": {},
     "output_type": "execute_result"
    }
   ],
   "source": [
    "guides = set(guide_data[guide_data[\"Gene Name\"] == \"LYPLAL1\"].Guides)\n",
    "guides"
   ]
  },
  {
   "cell_type": "code",
   "execution_count": 56,
   "id": "a425e585-33d6-4124-ab7e-4e11126657e3",
   "metadata": {
    "ExecuteTime": {
     "end_time": "2022-09-28T20:06:45.989993Z",
     "start_time": "2022-09-28T20:06:45.981531Z"
    },
    "execution": {
     "iopub.execute_input": "2022-09-29T14:43:56.133684Z",
     "iopub.status.busy": "2022-09-29T14:43:56.133427Z",
     "iopub.status.idle": "2022-09-29T14:43:56.147949Z",
     "shell.execute_reply": "2022-09-29T14:43:56.147365Z",
     "shell.execute_reply.started": "2022-09-29T14:43:56.133665Z"
    },
    "tags": []
   },
   "outputs": [
    {
     "name": "stdout",
     "output_type": "stream",
     "text": [
      "14..104,5270..5369,5523..5549,19205..19374,36655..36770,37615..37851\n"
     ]
    }
   ],
   "source": [
    "seq = gene_data[gene_data.gene == \"LYPLAL1\"].seq.iloc[0]\n",
    "cds = gene_data[gene_data.gene == \"LYPLAL1\"].CDS.iloc[0]\n",
    "print(cds)\n",
    "#print(seq)"
   ]
  },
  {
   "cell_type": "markdown",
   "id": "ddd7dd19-767d-4f5a-a149-c37829da17d7",
   "metadata": {},
   "source": [
    "# Perform the matching & the cuts"
   ]
  },
  {
   "cell_type": "code",
   "execution_count": 57,
   "id": "2c3efa49-3c71-46f3-abe1-78cc79b10533",
   "metadata": {
    "ExecuteTime": {
     "end_time": "2022-09-28T19:44:54.779664Z",
     "start_time": "2022-09-28T19:44:54.773610Z"
    },
    "execution": {
     "iopub.execute_input": "2022-09-29T14:43:56.148921Z",
     "iopub.status.busy": "2022-09-29T14:43:56.148672Z",
     "iopub.status.idle": "2022-09-29T14:43:56.162522Z",
     "shell.execute_reply": "2022-09-29T14:43:56.161950Z",
     "shell.execute_reply.started": "2022-09-29T14:43:56.148902Z"
    },
    "tags": []
   },
   "outputs": [
    {
     "data": {
      "text/plain": [
       "['atactggggtaaccgagggg', 'gccatgcaggaagatcagag', 'atcagcgatggcggctgcgt']"
      ]
     },
     "execution_count": 57,
     "metadata": {},
     "output_type": "execute_result"
    }
   ],
   "source": [
    "preprocess = lambda s: \"\".join(s.lower().split(\"*\"))\n",
    "def rna_2_dna(s):\n",
    "    s = preprocess(s)\n",
    "    s = s.replace(\"u\",\"t\")\n",
    "    return s\n",
    "[rna_2_dna(g) for g in guides]"
   ]
  },
  {
   "cell_type": "code",
   "execution_count": 58,
   "id": "154ad3aa-0301-4786-9a0d-8aed2c6ecb37",
   "metadata": {
    "ExecuteTime": {
     "end_time": "2022-09-28T19:44:56.509078Z",
     "start_time": "2022-09-28T19:44:56.502994Z"
    },
    "execution": {
     "iopub.execute_input": "2022-09-29T14:43:56.164764Z",
     "iopub.status.busy": "2022-09-29T14:43:56.164479Z",
     "iopub.status.idle": "2022-09-29T14:43:56.178224Z",
     "shell.execute_reply": "2022-09-29T14:43:56.177681Z",
     "shell.execute_reply.started": "2022-09-29T14:43:56.164729Z"
    },
    "tags": []
   },
   "outputs": [
    {
     "data": {
      "text/plain": [
       "['tatgaccccattggctcccc', 'cggtacgtccttctagtctc', 'tagtcgctaccgccgacgca']"
      ]
     },
     "execution_count": 58,
     "metadata": {},
     "output_type": "execute_result"
    }
   ],
   "source": [
    "def dna_to_complement(s):\n",
    "    s = preprocess(s)\n",
    "    s = s.replace(\"a\",\"+\")\n",
    "    s = s.replace(\"t\",\"a\")\n",
    "    s = s.replace(\"+\",\"t\")\n",
    "    s = s.replace(\"g\",\"+\")\n",
    "    s = s.replace(\"c\",\"g\")\n",
    "    s = s.replace(\"+\",\"c\")\n",
    "    return s\n",
    "[dna_to_complement(rna_2_dna(g)) for g in guides]"
   ]
  },
  {
   "cell_type": "code",
   "execution_count": 59,
   "id": "c37fe9c8-def5-4c42-8c15-dc0f4128614e",
   "metadata": {
    "ExecuteTime": {
     "end_time": "2022-09-28T19:44:58.737628Z",
     "start_time": "2022-09-28T19:44:58.732252Z"
    },
    "execution": {
     "iopub.execute_input": "2022-09-29T14:43:56.179273Z",
     "iopub.status.busy": "2022-09-29T14:43:56.178988Z",
     "iopub.status.idle": "2022-09-29T14:43:56.193413Z",
     "shell.execute_reply": "2022-09-29T14:43:56.192810Z",
     "shell.execute_reply.started": "2022-09-29T14:43:56.179253Z"
    },
    "tags": []
   },
   "outputs": [
    {
     "data": {
      "text/plain": [
       "['ggggagccaatggggtcata', 'gagactagaaggacgtaccg', 'tgcgtcggcggtagcgacta']"
      ]
     },
     "execution_count": 59,
     "metadata": {},
     "output_type": "execute_result"
    }
   ],
   "source": [
    "def dna_to_rev(s):\n",
    "    s = preprocess(s)\n",
    "    return s[::-1]\n",
    "[dna_to_rev(rna_2_dna(g)) for g in guides]"
   ]
  },
  {
   "cell_type": "code",
   "execution_count": 60,
   "id": "f468b006-899f-4c47-bd63-9fdef717e443",
   "metadata": {
    "ExecuteTime": {
     "end_time": "2022-09-28T20:26:57.664215Z",
     "start_time": "2022-09-28T20:26:57.656714Z"
    },
    "execution": {
     "iopub.execute_input": "2022-09-29T14:43:56.194397Z",
     "iopub.status.busy": "2022-09-29T14:43:56.194148Z",
     "iopub.status.idle": "2022-09-29T14:43:56.209563Z",
     "shell.execute_reply": "2022-09-29T14:43:56.208948Z",
     "shell.execute_reply.started": "2022-09-29T14:43:56.194378Z"
    },
    "tags": []
   },
   "outputs": [],
   "source": [
    "def find_guide_loc(seq,guide,primer=\"NGG\",cut_offset = 3):\n",
    "    \"\"\"\n",
    "    @param seq: sequence to look through (str)\n",
    "    @param guide: rna guide to search for (assumed to be in 5' --> 3' orientation)\n",
    "    @param primer: \"NGG\" or \"G\" defines the primer to look for\n",
    "    @param cut_offset: int the number of bases past the primer (into RNA guide) to cut at\n",
    "    \"\"\"\n",
    "    beg = \"g\"\n",
    "    if primer == \"NGG\":\n",
    "        beg = \"gg.\"\n",
    "    elif primer != \"G\":\n",
    "        raise ValueError(\"unsupported primer {}\".format(primer))\n",
    "    # turn guide into dna\n",
    "    dna_guide = rna_2_dna(guide)\n",
    "    \n",
    "    poss_patts = [beg+dna_guide[::-1], # reverse orientation\n",
    "                  dna_to_complement(beg+dna_guide[::-1]) # reverse complement\n",
    "                 ]\n",
    "    offset = cut_offset + (3 if primer == \"NGG\" else 1)\n",
    "    breaks = []\n",
    "    for patt in poss_patts:\n",
    "        res = re.search(re.compile(patt),seq)\n",
    "        if res:\n",
    "            #print(patt)\n",
    "            breaks.append(res.span()[0]+offset)\n",
    "        # try the opp order\n",
    "        res = re.search(re.compile(patt[::-1]),seq)\n",
    "        if res:\n",
    "            #print(patt,\"rev\")\n",
    "            breaks.append(res.span()[1]-offset)\n",
    "    if len(breaks) == 0:\n",
    "        raise ValueError(\"Could not find guide '{}' with primer '{}'\".format(guide,primer))\n",
    "    elif len(breaks) == 1:\n",
    "        return breaks[0]\n",
    "    else:\n",
    "        raise ValueError(\"Could not find unique guide '{}' with primer '{}'\\ncuts ({})\".format(guide,primer,\",\".join([str(b) for b in breaks])))\n",
    "    \n",
    "    "
   ]
  },
  {
   "cell_type": "code",
   "execution_count": 61,
   "id": "98cbbeb2-f9ac-40eb-943c-7c9d9caa3f28",
   "metadata": {
    "ExecuteTime": {
     "end_time": "2022-09-28T20:06:55.824014Z",
     "start_time": "2022-09-28T20:06:55.814537Z"
    },
    "execution": {
     "iopub.execute_input": "2022-09-29T14:43:56.210619Z",
     "iopub.status.busy": "2022-09-29T14:43:56.210326Z",
     "iopub.status.idle": "2022-09-29T14:43:56.230692Z",
     "shell.execute_reply": "2022-09-29T14:43:56.230006Z",
     "shell.execute_reply.started": "2022-09-29T14:43:56.210598Z"
    },
    "tags": []
   },
   "outputs": [],
   "source": [
    "cut1 = find_guide_loc(seq,list(guides)[0])"
   ]
  },
  {
   "cell_type": "code",
   "execution_count": 62,
   "id": "c81b3e2f",
   "metadata": {
    "execution": {
     "iopub.execute_input": "2022-09-29T14:43:56.231710Z",
     "iopub.status.busy": "2022-09-29T14:43:56.231467Z",
     "iopub.status.idle": "2022-09-29T14:43:56.243841Z",
     "shell.execute_reply": "2022-09-29T14:43:56.243308Z",
     "shell.execute_reply.started": "2022-09-29T14:43:56.231691Z"
    }
   },
   "outputs": [
    {
     "data": {
      "text/plain": [
       "156"
      ]
     },
     "execution_count": 62,
     "metadata": {},
     "output_type": "execute_result"
    }
   ],
   "source": [
    "cut1"
   ]
  },
  {
   "cell_type": "code",
   "execution_count": 63,
   "id": "cfcaf0c1",
   "metadata": {
    "execution": {
     "iopub.execute_input": "2022-09-29T14:43:56.244885Z",
     "iopub.status.busy": "2022-09-29T14:43:56.244622Z",
     "iopub.status.idle": "2022-09-29T14:43:56.258134Z",
     "shell.execute_reply": "2022-09-29T14:43:56.257550Z",
     "shell.execute_reply.started": "2022-09-29T14:43:56.244864Z"
    }
   },
   "outputs": [
    {
     "name": "stdout",
     "output_type": "stream",
     "text": [
      "LYPLAL1\n",
      "14..104,5270..5369,5523..5549,19205..19374,36655..36770,37615..37851\n",
      "agtggcatc|agcgatggcggctgcgtcggggtcggttctgcagcgctgta\n",
      "agtggcatcagcgatggcggctg|cgtcggggtcggttctgcagcgctgta\n"
     ]
    }
   ],
   "source": [
    "print(\"LYPLAL1\")\n",
    "print(cds)\n",
    "print(seq[:9]+\"|\"+seq[9:50])\n",
    "print(seq[:23]+\"|\"+seq[23:50])"
   ]
  },
  {
   "cell_type": "code",
   "execution_count": 64,
   "id": "02049f47-56e2-4d46-b41b-b9b17faeefb6",
   "metadata": {
    "ExecuteTime": {
     "end_time": "2022-09-28T20:06:57.438897Z",
     "start_time": "2022-09-28T20:06:57.434807Z"
    },
    "execution": {
     "iopub.execute_input": "2022-09-29T14:43:56.259192Z",
     "iopub.status.busy": "2022-09-29T14:43:56.258907Z",
     "iopub.status.idle": "2022-09-29T14:43:56.273320Z",
     "shell.execute_reply": "2022-09-29T14:43:56.272657Z",
     "shell.execute_reply.started": "2022-09-29T14:43:56.259172Z"
    },
    "tags": []
   },
   "outputs": [
    {
     "name": "stdout",
     "output_type": "stream",
     "text": [
      "acatcctccc|ctcggttac\n"
     ]
    }
   ],
   "source": [
    "cut_seq = seq[:cut1]+\"|\"+seq[cut1:]\n",
    "print(cut_seq[cut1-10:cut1+10])"
   ]
  },
  {
   "cell_type": "code",
   "execution_count": 65,
   "id": "3194d3ae-7fb7-4487-ab61-3a9bdb46e130",
   "metadata": {
    "ExecuteTime": {
     "end_time": "2022-09-28T20:07:03.179144Z",
     "start_time": "2022-09-28T20:07:03.174114Z"
    },
    "execution": {
     "iopub.execute_input": "2022-09-29T14:43:56.274273Z",
     "iopub.status.busy": "2022-09-29T14:43:56.274003Z",
     "iopub.status.idle": "2022-09-29T14:43:56.287927Z",
     "shell.execute_reply": "2022-09-29T14:43:56.287356Z",
     "shell.execute_reply.started": "2022-09-29T14:43:56.274253Z"
    },
    "tags": []
   },
   "outputs": [
    {
     "data": {
      "text/plain": [
       "156"
      ]
     },
     "execution_count": 65,
     "metadata": {},
     "output_type": "execute_result"
    }
   ],
   "source": [
    "cut1"
   ]
  },
  {
   "cell_type": "code",
   "execution_count": 66,
   "id": "98f40b51-9f97-4e2a-a0a7-baaf0ab38ef2",
   "metadata": {
    "ExecuteTime": {
     "end_time": "2022-09-28T20:08:46.420161Z",
     "start_time": "2022-09-28T20:08:46.404356Z"
    },
    "execution": {
     "iopub.execute_input": "2022-09-29T14:43:56.288870Z",
     "iopub.status.busy": "2022-09-29T14:43:56.288622Z",
     "iopub.status.idle": "2022-09-29T14:43:56.309998Z",
     "shell.execute_reply": "2022-09-29T14:43:56.309528Z",
     "shell.execute_reply.started": "2022-09-29T14:43:56.288850Z"
    },
    "tags": []
   },
   "outputs": [
    {
     "name": "stdout",
     "output_type": "stream",
     "text": [
      "156 atcctccc|ctcggtt    \n",
      " 83 cgcctctc|tgatctt    \n",
      " 23 ggcggctg|cgtcggg    \n"
     ]
    }
   ],
   "source": [
    "for guide in guides:\n",
    "    cut = find_guide_loc(seq,guide)\n",
    "    cut_seq = seq[:cut]+\"|\"+seq[cut:]\n",
    "    print(\"{:3d} {:20s}\".format(cut,cut_seq[cut-8:cut+8]))"
   ]
  },
  {
   "cell_type": "code",
   "execution_count": 110,
   "id": "4c54e67a-390c-45d4-8157-760a9c6d5ee7",
   "metadata": {
    "ExecuteTime": {
     "end_time": "2022-09-28T20:27:00.438527Z",
     "start_time": "2022-09-28T20:27:00.200488Z"
    },
    "execution": {
     "iopub.execute_input": "2022-09-29T16:19:03.447900Z",
     "iopub.status.busy": "2022-09-29T16:19:03.447441Z",
     "iopub.status.idle": "2022-09-29T16:19:03.684240Z",
     "shell.execute_reply": "2022-09-29T16:19:03.683679Z",
     "shell.execute_reply.started": "2022-09-29T16:19:03.447868Z"
    },
    "scrolled": true,
    "tags": []
   },
   "outputs": [],
   "source": [
    "for gene in set(guide_data[\"Gene Name\"]):\n",
    "    gene = gene.split()[0]\n",
    "    guides = set(guide_data[guide_data[\"Gene Name\"] == gene].Guides)\n",
    "    seq = gene_data[gene_data.gene == gene].seq.iloc[0]\n",
    "    cds = gene_data[gene_data.gene == gene].CDS.iloc[0]\n",
    "    #print(gene)\n",
    "    for guide in guides:\n",
    "        cut = find_guide_loc(seq,guide)\n",
    "        cut_seq = seq[:cut]+\"|\"+seq[cut:]\n",
    "        #print(\"{:5d} {:20s}\".format(cut,cut_seq[cut-8:cut+8]))"
   ]
  },
  {
   "cell_type": "markdown",
   "id": "b0cec34a-d972-4686-b570-34f86c8a0ac7",
   "metadata": {
    "ExecuteTime": {
     "end_time": "2022-09-28T19:46:53.062493Z",
     "start_time": "2022-09-28T19:46:53.058200Z"
    },
    "execution": {
     "iopub.execute_input": "2022-09-29T14:43:56.536869Z",
     "iopub.status.busy": "2022-09-29T14:43:56.536622Z",
     "iopub.status.idle": "2022-09-29T14:43:56.539723Z",
     "shell.execute_reply": "2022-09-29T14:43:56.539159Z",
     "shell.execute_reply.started": "2022-09-29T14:43:56.536850Z"
    }
   },
   "source": [
    "So now I know that the cut location seems to be working. Especially once I got the 5' --> 3' thing worked out :)"
   ]
  },
  {
   "cell_type": "markdown",
   "id": "3334d3d1-632c-4611-bcb8-a5696a428f37",
   "metadata": {
    "ExecuteTime": {
     "end_time": "2022-09-28T19:47:49.694944Z",
     "start_time": "2022-09-28T19:47:49.690654Z"
    },
    "execution": {
     "iopub.execute_input": "2022-09-29T14:43:56.540761Z",
     "iopub.status.busy": "2022-09-29T14:43:56.540449Z",
     "iopub.status.idle": "2022-09-29T14:43:56.555233Z",
     "shell.execute_reply": "2022-09-29T14:43:56.554639Z",
     "shell.execute_reply.started": "2022-09-29T14:43:56.540740Z"
    },
    "tags": []
   },
   "source": [
    "# Identify Deleted Regions"
   ]
  },
  {
   "cell_type": "markdown",
   "id": "d556cf3c-f60c-4477-a8aa-992ecc1529f6",
   "metadata": {},
   "source": [
    "Try calculating the deleted regions for TM6SF2"
   ]
  },
  {
   "cell_type": "markdown",
   "id": "9c0bf2ca-b830-4ce8-be70-1a54c449ab51",
   "metadata": {},
   "source": [
    "## Find deleted region TM6SF2"
   ]
  },
  {
   "cell_type": "code",
   "execution_count": 70,
   "id": "f6be076a-d4c8-4da7-a30b-96881e3ea1a9",
   "metadata": {
    "execution": {
     "iopub.execute_input": "2022-09-29T14:48:05.471850Z",
     "iopub.status.busy": "2022-09-29T14:48:05.471507Z",
     "iopub.status.idle": "2022-09-29T14:48:05.482722Z",
     "shell.execute_reply": "2022-09-29T14:48:05.482148Z",
     "shell.execute_reply.started": "2022-09-29T14:48:05.471825Z"
    },
    "tags": []
   },
   "outputs": [
    {
     "data": {
      "text/plain": [
       "[2899, 2955, 3042]"
      ]
     },
     "execution_count": 70,
     "metadata": {},
     "output_type": "execute_result"
    }
   ],
   "source": [
    "gene = \"TM6SF2\"\n",
    "guides = set(guide_data[guide_data[\"Gene Name\"] == gene].Guides)\n",
    "seq = gene_data[gene_data.gene == gene].seq.iloc[0]\n",
    "cds = gene_data[gene_data.gene == gene].CDS.iloc[0]\n",
    "cuts = sorted([find_guide_loc(seq,guide) for guide in guides])\n",
    "cuts"
   ]
  },
  {
   "cell_type": "code",
   "execution_count": 71,
   "id": "d5aa05f5-c1a1-4fea-8705-25c9b521fbc6",
   "metadata": {
    "execution": {
     "iopub.execute_input": "2022-09-29T14:49:10.250193Z",
     "iopub.status.busy": "2022-09-29T14:49:10.249873Z",
     "iopub.status.idle": "2022-09-29T14:49:10.254978Z",
     "shell.execute_reply": "2022-09-29T14:49:10.254460Z",
     "shell.execute_reply.started": "2022-09-29T14:49:10.250168Z"
    },
    "tags": []
   },
   "outputs": [
    {
     "data": {
      "text/plain": [
       "[[2899, 2955], [2955, 3042]]"
      ]
     },
     "execution_count": 71,
     "metadata": {},
     "output_type": "execute_result"
    }
   ],
   "source": [
    "del_regions = [cuts[i:i+2] for i in range(len(cuts)-1)]\n",
    "del_regions"
   ]
  },
  {
   "cell_type": "code",
   "execution_count": 73,
   "id": "3876a3e8-a04d-4219-bddf-f93ddf07936b",
   "metadata": {
    "execution": {
     "iopub.execute_input": "2022-09-29T14:49:59.483455Z",
     "iopub.status.busy": "2022-09-29T14:49:59.483146Z",
     "iopub.status.idle": "2022-09-29T14:49:59.488177Z",
     "shell.execute_reply": "2022-09-29T14:49:59.487650Z",
     "shell.execute_reply.started": "2022-09-29T14:49:59.483431Z"
    },
    "tags": []
   },
   "outputs": [
    {
     "data": {
      "text/plain": [
       "[56, 87]"
      ]
     },
     "execution_count": 73,
     "metadata": {},
     "output_type": "execute_result"
    }
   ],
   "source": [
    "del_sizes = [r-l for l,r in del_regions]\n",
    "del_sizes"
   ]
  },
  {
   "cell_type": "code",
   "execution_count": 86,
   "id": "eeddb608-35e4-465f-8250-85405f3b8203",
   "metadata": {
    "execution": {
     "iopub.execute_input": "2022-09-29T15:17:05.846301Z",
     "iopub.status.busy": "2022-09-29T15:17:05.845913Z",
     "iopub.status.idle": "2022-09-29T15:17:05.852190Z",
     "shell.execute_reply": "2022-09-29T15:17:05.851559Z",
     "shell.execute_reply.started": "2022-09-29T15:17:05.846276Z"
    },
    "tags": []
   },
   "outputs": [
    {
     "data": {
      "text/plain": [
       "[[86, 181],\n",
       " [2176, 2280],\n",
       " [2859, 2957],\n",
       " [3025, 3129],\n",
       " [3532, 3615],\n",
       " [4547, 4672],\n",
       " [5214, 5316],\n",
       " [5588, 5681],\n",
       " [6692, 6812],\n",
       " [8428, 8638]]"
      ]
     },
     "execution_count": 86,
     "metadata": {},
     "output_type": "execute_result"
    }
   ],
   "source": [
    "exons = [[int(c.strip(\"&lt;\"))-1+i for i,c in enumerate(cd.split(\"..\"))] for cd in cds.split(\",\")]\n",
    "exons"
   ]
  },
  {
   "cell_type": "code",
   "execution_count": 77,
   "id": "bc1381b6-b5eb-48f0-9d3d-bd1f6887ab21",
   "metadata": {
    "execution": {
     "iopub.execute_input": "2022-09-29T15:08:08.706423Z",
     "iopub.status.busy": "2022-09-29T15:08:08.706139Z",
     "iopub.status.idle": "2022-09-29T15:08:08.711927Z",
     "shell.execute_reply": "2022-09-29T15:08:08.711335Z",
     "shell.execute_reply.started": "2022-09-29T15:08:08.706399Z"
    },
    "tags": []
   },
   "outputs": [],
   "source": [
    "def calculate_exon_del(exons,del_regions):\n",
    "    \"\"\"\n",
    "    It is assumed that none of these regions (exons or cut-sites overlap with each other)\n",
    "    \"\"\"\n",
    "    exon_del = []\n",
    "    exon_pointer = 0\n",
    "    exons.sort()\n",
    "    del_regions.sort()\n",
    "    \n",
    "    for del_region in del_regions:\n",
    "        exon_del.append(0)\n",
    "        dl,dr = del_region\n",
    "        # find 1st exon that has right side greater than deleted region left-side\n",
    "        el,er = exons[exon_pointer]\n",
    "        while exon_pointer < len(exons) and er <= dl:\n",
    "            exon_pointer += 1\n",
    "            el,er = exons[exon_pointer]\n",
    "        while er <= dr:\n",
    "            exon_del[-1] += er-max(el,dl)\n",
    "            exon_pointer += 1\n",
    "            el,er = exons[exon_pointer]\n",
    "        if el < dr:\n",
    "            exon_del[-1] += dr-max(el,dl)\n",
    "    return exon_del"
   ]
  },
  {
   "cell_type": "code",
   "execution_count": 87,
   "id": "78db5889-a1fb-4452-8b8f-816c9795424a",
   "metadata": {
    "execution": {
     "iopub.execute_input": "2022-09-29T15:17:17.365836Z",
     "iopub.status.busy": "2022-09-29T15:17:17.365407Z",
     "iopub.status.idle": "2022-09-29T15:17:17.371859Z",
     "shell.execute_reply": "2022-09-29T15:17:17.371174Z",
     "shell.execute_reply.started": "2022-09-29T15:17:17.365804Z"
    },
    "tags": []
   },
   "outputs": [
    {
     "data": {
      "text/plain": [
       "[56, 19]"
      ]
     },
     "execution_count": 87,
     "metadata": {},
     "output_type": "execute_result"
    }
   ],
   "source": [
    "calculate_exon_del(exons,del_regions)"
   ]
  },
  {
   "cell_type": "code",
   "execution_count": 82,
   "id": "9a529b55-6ca3-4182-943c-0c1f3543d4eb",
   "metadata": {
    "execution": {
     "iopub.execute_input": "2022-09-29T15:13:04.569013Z",
     "iopub.status.busy": "2022-09-29T15:13:04.568708Z",
     "iopub.status.idle": "2022-09-29T15:13:04.572671Z",
     "shell.execute_reply": "2022-09-29T15:13:04.572156Z",
     "shell.execute_reply.started": "2022-09-29T15:13:04.568989Z"
    },
    "tags": []
   },
   "outputs": [],
   "source": [
    "bit_set = [\"s\"]*len(seq)"
   ]
  },
  {
   "cell_type": "code",
   "execution_count": 84,
   "id": "047c4674-2415-4101-bd5b-7b6952e04fe4",
   "metadata": {
    "execution": {
     "iopub.execute_input": "2022-09-29T15:15:38.991669Z",
     "iopub.status.busy": "2022-09-29T15:15:38.991360Z",
     "iopub.status.idle": "2022-09-29T15:15:38.995775Z",
     "shell.execute_reply": "2022-09-29T15:15:38.995247Z",
     "shell.execute_reply.started": "2022-09-29T15:15:38.991644Z"
    },
    "tags": []
   },
   "outputs": [],
   "source": [
    "for l,r in exons:\n",
    "    for i in range(l,r+1):\n",
    "        bit_set[i]+=\"e\"\n",
    "for l,r in del_regions:\n",
    "    for i in range(l,r):\n",
    "        bit_set[i]+=\"d\""
   ]
  },
  {
   "cell_type": "code",
   "execution_count": 85,
   "id": "a3ff82d3-4314-4464-a9cd-377985832b03",
   "metadata": {
    "execution": {
     "iopub.execute_input": "2022-09-29T15:15:57.549999Z",
     "iopub.status.busy": "2022-09-29T15:15:57.549675Z",
     "iopub.status.idle": "2022-09-29T15:15:57.554874Z",
     "shell.execute_reply": "2022-09-29T15:15:57.554380Z",
     "shell.execute_reply.started": "2022-09-29T15:15:57.549974Z"
    },
    "tags": []
   },
   "outputs": [
    {
     "data": {
      "text/plain": [
       "Counter({'s': 7734, 'se': 1059, 'sed': 75, 'sd': 68})"
      ]
     },
     "execution_count": 85,
     "metadata": {},
     "output_type": "execute_result"
    }
   ],
   "source": [
    "from collections import Counter\n",
    "Counter(bit_set)"
   ]
  },
  {
   "cell_type": "markdown",
   "id": "bde9ee04-295c-48d5-97c5-124b46cd29d9",
   "metadata": {},
   "source": [
    "Ok after accounting for off-by-one errors, I can recreate the TM6SF2 example. There are still many test cases I would like to build and test for this algorithm, because although it is just as fast as the sequence set solution for now, I am not sure how the sequence set solution will handle sequences of 10000+ bases."
   ]
  },
  {
   "cell_type": "markdown",
   "id": "007bce58-1251-4d67-9d04-342179533b97",
   "metadata": {},
   "source": [
    "## Create full results for TM6SF2"
   ]
  },
  {
   "cell_type": "code",
   "execution_count": 92,
   "id": "2d34841f-fea3-49c8-afe6-01e053e2dfef",
   "metadata": {
    "execution": {
     "iopub.execute_input": "2022-09-29T15:51:10.527617Z",
     "iopub.status.busy": "2022-09-29T15:51:10.527358Z",
     "iopub.status.idle": "2022-09-29T15:51:10.542093Z",
     "shell.execute_reply": "2022-09-29T15:51:10.541569Z",
     "shell.execute_reply.started": "2022-09-29T15:51:10.527595Z"
    },
    "tags": []
   },
   "outputs": [
    {
     "name": "stdout",
     "output_type": "stream",
     "text": [
      "TM6SF2\n"
     ]
    },
    {
     "data": {
      "text/plain": [
       "{'gene': 'TM6SF2',\n",
       " 'raw_cds': '87..181,2177..2280,2860..2957,3026..3129,3533..3615,4548..4672,5215..5316,5589..5681,6693..6812,8429..8638',\n",
       " 'full_seq': 'agcctcggcccggactcgccgccaacgaggagccgagcgccctggagaacgcgtcggggctgagccggggtccagcagccgccgctatggacatcccgccgctggccggcaagatcgcggcgctgtcgctgagcgccctcccggtgtcctacgcgctcaaccacgtctcggcgctctcgcagtgcgtgcggagaggggccagggcggccttggggacagtgggggcgggcgggggcggggaggactggaggtgggctggagggaggatgcgcggtccgcggacctggcttctgcgagccctgcgccccagctcagctccgacccggcaggattggggtgggccagaagaacacccccctctaaccggaagtccccttcccgccgggctggaggctgggatgcggccgctcctgggatgtttgtggcctgggaagaaggaatgatgagtccccacaagccagagctttggagggtttctggggttttcccagggatgcgccctgcctaggttccaaagtcaccaagggtaaaagtattgtcccagataaggccccgggtacctgactcctgctcacacacacacacacacacacacacacacacacacaccctactccattgcctgtctcaggcctgtgactttcctcttgttcagggctggctaaccatgtccctagactcagttccccctactggttccctttcctggtccctgtctcctaaccctagatcctagccctgtgggtccagccaccggatagtgggcatctgcaagcccctcgtacttctaaacccagctcaacccaagccatggggtggagagagtcttaaccatgagcctggctccctgggtgggaatacccatctccatctcctgggatcctgggtgagccaagttcctctgggagcctcagttccctcatcagtgtaatgggcacgatcctagatctcatctcatagttacggttaaggattataaactgtgtacaaagatttgtcttggtctcatctgagtactataatgtcattgttagatggggtcaggatggaaatcttgggttctgaggggatcatgagaaaataggggcctggagagtgatggacagagtcttgagtgtgaccctggacaactggacagtactcccatcctctctgggcctggatttgcccacctgggttgagggctgcccagagacctggcttctgttatctatgcaactggttgacctgtcttatcaggttgtgggtgcagatcagggcaggggtagggtggagttaatagaggcatttggactttagctgggaggagctgggagcgtcagacaatgaagtctacagaactgagcactcgagaccctgtggcttgggagctgggcctggccacagaggggcttgacgttgtcgaatgactgaacagactgagtcaaacacataacaaatgatgggataaatggtaaagtcagaaggggcaggccaggcgtggtggctcatgcctgtaatcctagcactttgggaggccgaggtgggcaaatcacctgaggtcaggagttcgagaccagcctggccaacatggtgaaaccccgtctctactaaaaatacaaaaattagccgggtgtggtggtgggcacctgtaatcccagctacttgggaggctgaggcaggataatcgcctgaacccagaaggcagaggttgcagtgagccaagattgcaccactgcactccagcctgggtgtcagtgctctgtctcaaaaagaaagagagagagagagagaaagaaagaaaaagaaaaaaagaaagaaagagaaaagaaaagagaaaaagaaacaggctgatgaatatcccctctgtagctagcccgagttaaacagtgatcctttctggggagtcagggagcgcttcatggaggaagaacaatgtggatgggccatgaaggatgagtaggagtttgccaagtggaaaagacttctggaagcggtttccagaaggaagaaacagcctgagcaagggcctggcacagggtgagagcagtttcagggaacagcattgatggatgaacagacactttagtctcttcccctggggcttccaggagtctgccccttcccccaccagggagagtggggcgatgcctcagcactgggcctggcctccctgacttggcttccctctccacagccccctgtgggtggcattgatgagcgccctaatcctgggtctgcttttcgtggcggtctacagcttgtcccatggcgaggtctcctatgacccactctatgctggtgagtcagtgggaagctgtggggaagaagactgtccaggcaagggcctccaccctcagacttgggggccattaaggggcctcctccatcagactgggggccctttaagagctcccatcagactggagacctcaaagagatttgaacactcccattaaactggggaacctcaaagagcctcccccttcagagctggggctcctaagaacagggactgcatctcctgcatcagattagaagctcctgaaaaagagtatactgcctcatcactttgagatctcctgagggcagggacggtgcctctcccatgagactggggactcccaaaggcaggcactgggcctctgaatcaaaccagggacttctgagagccaggctgtgtctcctccatcagacatgcagaatgaggcaggactgtggtcatgcaacctttggggttggggcagggactgggcctggagtccttgcctggaataatctcatccctgaccttaacttcaagccccgcccacactaagccctagccccacccacacgtgtcccctcccacacctgacccggcccgcccactcactgcagtcttcgctgtcttcgccttcacctcggttgtggacctcatcatcgctcttcaggaagacagctatgtggtgggcttcatggagttctacaccaaggaggtacttgggggacgaccagggagccccctaccgcactgcccgtctgagtctcccacctgcccccacagggagagccatacctgcgcacagcgcacggagtcttcatctgctactgggatggcactgttcactacctcctctacctggccatggccggcgccatctgcagaaggtgcaggaggcagggagagggtggcccctgaccctgggagagaagttgcatcctcagatggggtcccagggcagggtggagccagaagtgtctgtaggagaaatcaggacgcctctctagggctccagccaggggtggccaggagaaggttccagggaacgtctcaggtgtaggtggtggcctagcattgcttacatccaccctgtgcctgggcagccacttctgttcttggacagagggtctcactgttatttccccgttcaactccctgttgtcccttccatcctgggcaaaactgaaagggacccggagctgggaaacccacggtggtctccaggccctggctggggctctgagattacggagtgactacctgctggtcacccctccatcccctgctcaggaagagataccggaattttggactctactggctgggttccttcgccatgagcatcctggtgttccttacaggaaacattcttggtaaggacaaggctttgggaaatccaggttctcttgggcttggtcactgccctgcacctagaagcacccccattggatcctccatcccttccctgatgtctgcagaggccccacctccctctttgcgtgtccacagcctcagtcagcagcccacccctttccggtccctgtttcctcttggaaggcgggagaacccaactctgcttcctccccaggcaatggttcccagccccaggggtttgacccagaatggtcttgacacaggaagggaattttagggtgaatcttggggacagggtgaaagcttcaggggtaggtcttgggaggtagagcagtgaaggcagtctgggaggttggcatggcaaaacctcagcaaagggaacactcaaggtgtatttgtaggaagcaaagaacccactggaaggtaggatccatattcagaaggtaaattgaggcaggctaggctaaggagtatggacatcatcctgtgggcactagggagccatggaaggtggtggagcttgaatgaggatggtatttctgaatcaagatgtccagccagagaggccacgtgtggtggctcatgcctgtaatccttatgttgctcaggctggtctccaactctcggctcaagcaatccacctgcctcatcaatcacttgagccgtggagatcaagatcagcctgggcagcatggtgaaaccctgcctatactaaaagtacaaaaattagccaggtataatcccagctactcaggaggctgagacaagagaattgcttgaacctgggaggcagaggttgcagtgagccaagattgcatcactgcactccagcctgggtgacagagcaagactctgtctcagaacaaacaaacaaacagatgtccagcagggttctggcatggctgatgccctctctcctgcaccatggaaggcaaatacagctccgagatcaggcctgccttcttcctcaccatcccctacctgctggtgccatgctgggctggcatgaaggtcttcagccagccccgggcgctaacccgctgcaccgccaacatggtgagtgccttacccctcttaggccttgtcccaatgtgcctgaactttccccgtgtcagttgcttttggtcaaagacttaatttctgtggaaggttctcctttgtcacaagaaagaagggagggctgggtgcggtggctcatgcctgtaatcccaacattttgggaggccaaggcatgaggatcgcttgagcccaggaattggagaccagcctgggcaacacagccagattttttaactctacaaaaagttaaaaaattagccagatgtggtggtgcatgcctgtggtcccagctattcgggaggctgaggtgggaggatcacttgagcccaggagattaaggctgcagtgagctgagactgtgctgcttcactcaagcctgggcaacagaatgagaccctgtctcaaaaaaaaaaaaaaagaaaaaagaaaaaaaagaaaaaaagaaagaagggaggagccttaggaacctttattgagtacctactgaatacttgtcattgactacctctcatgctgtctgtttctctcccctgggccaggtgcaagaggaacaaagaaagggactcctgcagcgtccggctgacctggcccttgtcatatatctcatccttgctggcttcttcactctgttccggggcctggtgagtctgcgctggttggtctccccctcccctgccaccagtctcccttccctgacccacctctcccacactgcccttcctgtttgatcatccaaggaagttcttcatcaagtctaacctgagtgttccatgacaaagccccatttctcccagccagcccaacttgagctgggctgggagaggccagagcaaggggtgtgggcctgggagggtgggggaggcttcctgtgggaggtatgtctgagggttcttggtatgtctgtctgctccaggtggtgcttgattgccccacagatgcctgctttgtctatatctaccagtatgagccatacctgcgggaccctgtggcctaccctaaggtgcaggtgagaggggagcggggagaagaccacacccctgccatgggtaggggtccactgggcctctttgaagcaggtgccagaagcacaactcaaacaggcagaagcccatatggaatttactgtcctaccaaaaaaggacagatgtggtcttcaggtatggctggatccaggtgctcaaggtgcagactctgggctcttcttttcttttcttttcctttcttttctttctttctttttcttttttttttttttttttaaacagagttttgctcttgtggcccaggctggagtgcaatggcatgatctcggctcactgcaacctccacctcctgggctcaagtgattctcctgcctcagcctcccaagtagctgggattacaggcgtgagccaccatactcagctaattttgtatttttagtagatacggggttttgccatgttggtcaggctggtctcgaactcctgacctcaagtgatccacccacctcggcctcccaaagtgctgggattacaggcatgagccaccatgcccggcctctgagctctgctttctttgcatggcttcactctcaggcagtccctttatggggtggcagagacagcctgtggcagcttcaggcttccatgcaccccactcagccaccccagagcaatgtgagcccttattacccccgagcttaagcacaagtcttaggcaggctcagattggcccagcgtgaatcacttgcccatcccttactgagcatcatggacagggggctggaatgctccgactggctaggccagggtcgcatgccactttcagagaaaggttagtaggtttggtgtatgtgttcgggggttgggggcaaggatccccaagggaaatagaggagcactttgcagagagcctgggtggggtctgaggccatccagatccttcctcagggcctccacctcaggggtctcaggagacccacctggggtagctgctcatctcacaggctggtgcccctctcctcccgcccctgcagatgctgatgtacatgttttatgtcctgcctttctgcggcctggctgcctatgctctcaccttccctggttgctcctggcttccagactgggccttggtgtttgctggaggcatcggccaggtgaggtggcggatgggtgggtgagcaggcatgtgggagggaatttctgtctactcatcaatgcctttggtgtcctccctgggcactgtaatgatgagcccccaagaggccccagccccaggcccaatatcccaggattccctagtctaggggagacaaagccagatacagacactccaagccccatgaaaatagggacaggggctgtgaaggattccagaggggaaaggtttcctagaagcaaggcataggagctaggctttgatgtacgaggatgagttctccaggcagggaagggcattccaggaatgggaacagcacaaggagaagcacagagggagagagtgacttagcagggccataacccaggtaaaggcagataagagaaattggcagctggatgctgaaggctttgaactctgggactaggggcttgtactgagggtgatggggcgtttgaggaggagtttgagcagtgaggggcccagtcagagctaggagcctttttctgggttcctgatgaaaagtgctaaatcctgggccccggccagggaagtagggaccaggaaaacatttagaatccacaggatttgtgccaagacctctggggtggggaagactgggaggaggatctggagccaggtcagagagagatggggtgcagggcccaggagatggggttaggcaagttgggggggactcacagacaagtggacaagcacagggagggacagacaggacatgtaagggcaggaatctttacagacagaaggccaggtgaggtggctcacacctgtaatcccagcattttgggaggccgaggtgggagggctgcttgagcccaggagtctgagaccagcctaggcaacatggcaaaaacctgtctctacaaaaagtacaaaaattagctgggcatggtagcacgtgcctgctgtgctagctactcgggaggctgagattggaggatcacttgagcccaggaggttggggctgcagtgagccatgattgtgccactgcactccagcctggccaacagagcaagaccctatctctaaatagatagatagatagatggatggatggatagatagatagatagatagatagatagatagatagatagatagaaattttaaaaataggccaggcatggtggcttatgcctgtaatcctagcactttgggaggccaagatggatggattgcctgacctcaggagttcgagaccagcctgggcaacatgatgataccccatctctactaaaaatacaaaaaattaactgggcatagaggtgcacgcctgtagtcccagctactcagaggaggctgaagcacgagaatcacttgaacccaggaggcagcggaggttgcagtgaaccgagattgcaccactgcactccagcatgggcaacagaatgagactgtgtctcaaaaaaaaaaaaaaaaaaaaacagatagatggactggagatgggaaacagatagatgagcaaagcccgagaggtggggatgggcatcccctgggttctgcctgacctacctggggggctgtcggtgatgctgggatttcagttccttcctggcccctgacatccatcttccctgtctggctaccaggcacagttctcgcacatgggggcttccatgcacctgcgcacacccttcacctaccgtgtgcctgaggacacctggggctgcttcttcgtgtgcaatctgctgtatgcgctgggcccccacctgctggcctaccgttgccttcagtggcccgcattcttccaccagccaccaccctccgaccccctagccctccacaagaagcagcattgagagagctgtggactcaggacccaggactctgtttacgtgcccagtcagccctacctggggaagcgggggttgggtgttttagagacaggagggacatctccgggtgtctttagtcttggctatggtagtttcagtccagtgggtgggatggagaccaacgaccaagtgttcctgcaaggagagcctcccacagctgtcaccatgctccaactcccacacaaacgcttctaccccttccagaacttacccatcatccccccatggatcctttcagtaaaaaccctttcaatttccaaaa',\n",
       " 'guide_1': 'C*U*U*CCUGAAGAGCGAUGAUG',\n",
       " 'guide_1_cut_index': 2899,\n",
       " 'guide_2': 'U*C*G*UCCCCCAAGUACCUCCU',\n",
       " 'guide_2_cut_index': 2955,\n",
       " 'guide_3': 'A*G*A*CUCCGUGCGCUGUGCGC',\n",
       " 'guide_3_cut_index': 3042,\n",
       " 'deletion_frag_1': 'guide_0,guide_1',\n",
       " 'deletion_frag_1_size': 56,\n",
       " 'deletion_frag_1_exon_size': 56,\n",
       " 'deletion_frag_2': 'guide_1,guide_2',\n",
       " 'deletion_frag_2_size': 87,\n",
       " 'deletion_frag_2_exon_size': 19,\n",
       " 'total_del_size': 143,\n",
       " 'total_del_exon_size': 75,\n",
       " 'seq_frameshift': True,\n",
       " 'exon_seq_frameshift': False}"
      ]
     },
     "execution_count": 92,
     "metadata": {},
     "output_type": "execute_result"
    }
   ],
   "source": [
    "print(gene)\n",
    "result = {\"gene\":gene}\n",
    "guides = set(guide_data[guide_data[\"Gene Name\"] == gene].Guides)\n",
    "seq = gene_data[gene_data.gene == gene].seq.iloc[0]\n",
    "cds = gene_data[gene_data.gene == gene].CDS.iloc[0]\n",
    "exons = [[int(c.strip(\"&lt;\"))-1+i for i,c in enumerate(cd.split(\"..\"))] for cd in cds.split(\",\")]\n",
    "result[\"raw_cds\"] = cds.strip(\"&lt;\")\n",
    "result[\"full_seq\"] = seq\n",
    "cuts_guides = sorted([(find_guide_loc(seq,guide),guide) for guide in guides])\n",
    "ord_guides = [g for _,g in cuts_guides]\n",
    "ord_cuts = [c for c,_ in cuts_guides]\n",
    "del_regions = [ord_cuts[i:i+2] for i in range(len(ord_cuts)-1)]\n",
    "del_sizes = [r-l for l,r in del_regions]\n",
    "del_exon_sizes = calculate_exon_del(exons,del_regions)\n",
    "for i in range(len(cuts_guides)):\n",
    "    c,g  = cuts_guides[i]\n",
    "    result[\"guide_{}\".format(i+1)] = g\n",
    "    result[\"guide_{}_cut_index\".format(i+1)] = c\n",
    "for i in range(len(cuts_guides)):\n",
    "    if i != 0:\n",
    "        result[\"deletion_frag_{}\".format(i)] = \"guide_{},guide_{}\".format(i-1,i)\n",
    "        result[\"deletion_frag_{}_size\".format(i)] = del_sizes[i-1]\n",
    "        result[\"deletion_frag_{}_exon_size\".format(i)] = del_exon_sizes[i-1]\n",
    "result[\"total_del_size\"] = sum(del_sizes)\n",
    "result[\"total_del_exon_size\"] = sum(del_exon_sizes)\n",
    "result[\"seq_frameshift\"] = result[\"total_del_size\"]%3 != 0\n",
    "result[\"exon_seq_frameshift\"] = result[\"total_del_exon_size\"]%3 != 0\n",
    "result"
   ]
  },
  {
   "cell_type": "markdown",
   "id": "ebf80b65-5e83-43d3-ae79-64207ee698d8",
   "metadata": {},
   "source": [
    "## apply to all genes"
   ]
  },
  {
   "cell_type": "code",
   "execution_count": 102,
   "id": "89d9f6a7-f73f-4c74-a50c-394431f09e2e",
   "metadata": {
    "execution": {
     "iopub.execute_input": "2022-09-29T15:57:13.348416Z",
     "iopub.status.busy": "2022-09-29T15:57:13.347891Z",
     "iopub.status.idle": "2022-09-29T15:57:13.357355Z",
     "shell.execute_reply": "2022-09-29T15:57:13.356796Z",
     "shell.execute_reply.started": "2022-09-29T15:57:13.348392Z"
    },
    "tags": []
   },
   "outputs": [],
   "source": [
    "def calculate_result(gene):\n",
    "    guides = set(guide_data[guide_data[\"Gene Name\"] == gene].Guides)\n",
    "    gene = gene.split()[0]\n",
    "    result = {\"gene\":gene}\n",
    "    seq = gene_data[gene_data.gene == gene].seq.iloc[0]\n",
    "    cds = gene_data[gene_data.gene == gene].CDS.iloc[0]\n",
    "    exons = [[int(c.strip(\"&lt;\"))-1+i for i,c in enumerate(cd.split(\"..\"))] for cd in cds.split(\",\")]\n",
    "    result[\"raw_cds\"] = cds.strip(\"&lt;\")\n",
    "    result[\"full_seq\"] = seq\n",
    "    cuts_guides = sorted([(find_guide_loc(seq,guide),guide) for guide in guides])\n",
    "    ord_guides = [g for _,g in cuts_guides]\n",
    "    ord_cuts = [c for c,_ in cuts_guides]\n",
    "    del_regions = [ord_cuts[i:i+2] for i in range(len(ord_cuts)-1)]\n",
    "    del_sizes = [r-l for l,r in del_regions]\n",
    "    del_exon_sizes = calculate_exon_del(exons,del_regions)\n",
    "    for i in range(len(cuts_guides)):\n",
    "        c,g  = cuts_guides[i]\n",
    "        result[\"guide_{}\".format(i+1)] = g\n",
    "        result[\"guide_{}_cut_index\".format(i+1)] = c\n",
    "    for i in range(len(cuts_guides)):\n",
    "        if i != 0:\n",
    "            result[\"deletion_frag_{}\".format(i)] = \"guide_{},guide_{}\".format(i-1,i)\n",
    "            result[\"deletion_frag_{}_size\".format(i)] = del_sizes[i-1]\n",
    "            result[\"deletion_frag_{}_exon_size\".format(i)] = del_exon_sizes[i-1]\n",
    "    result[\"total_del_size\"] = sum(del_sizes)\n",
    "    result[\"total_del_exon_size\"] = sum(del_exon_sizes)\n",
    "    result[\"seq_frameshift\"] = result[\"total_del_size\"]%3 != 0\n",
    "    result[\"exon_seq_frameshift\"] = result[\"total_del_exon_size\"]%3 != 0\n",
    "    return result"
   ]
  },
  {
   "cell_type": "code",
   "execution_count": 105,
   "id": "75782417-4be1-468b-a4cb-bbb6099e0968",
   "metadata": {
    "execution": {
     "iopub.execute_input": "2022-09-29T16:00:05.493940Z",
     "iopub.status.busy": "2022-09-29T16:00:05.493568Z",
     "iopub.status.idle": "2022-09-29T16:00:05.508527Z",
     "shell.execute_reply": "2022-09-29T16:00:05.507998Z",
     "shell.execute_reply.started": "2022-09-29T16:00:05.493915Z"
    },
    "tags": []
   },
   "outputs": [
    {
     "data": {
      "text/html": [
       "<div>\n",
       "<style scoped>\n",
       "    .dataframe tbody tr th:only-of-type {\n",
       "        vertical-align: middle;\n",
       "    }\n",
       "\n",
       "    .dataframe tbody tr th {\n",
       "        vertical-align: top;\n",
       "    }\n",
       "\n",
       "    .dataframe thead th {\n",
       "        text-align: right;\n",
       "    }\n",
       "</style>\n",
       "<table border=\"1\" class=\"dataframe\">\n",
       "  <thead>\n",
       "    <tr style=\"text-align: right;\">\n",
       "      <th></th>\n",
       "      <th>gene</th>\n",
       "      <th>raw_cds</th>\n",
       "      <th>full_seq</th>\n",
       "      <th>guide_1</th>\n",
       "      <th>guide_1_cut_index</th>\n",
       "      <th>guide_2</th>\n",
       "      <th>guide_2_cut_index</th>\n",
       "      <th>deletion_frag_1</th>\n",
       "      <th>deletion_frag_1_size</th>\n",
       "      <th>deletion_frag_1_exon_size</th>\n",
       "      <th>total_del_size</th>\n",
       "      <th>total_del_exon_size</th>\n",
       "      <th>seq_frameshift</th>\n",
       "      <th>exon_seq_frameshift</th>\n",
       "    </tr>\n",
       "  </thead>\n",
       "  <tbody>\n",
       "    <tr>\n",
       "      <th>0</th>\n",
       "      <td>ADH1B</td>\n",
       "      <td>71..88,2516..2617,3218..3356,5100..5187,5285.....</td>\n",
       "      <td>atgcactcaagcagagaagaaatccacaaagactcacagtctgctg...</td>\n",
       "      <td>G*U*G*CCAAGGAAGUGGUGAAU</td>\n",
       "      <td>5351</td>\n",
       "      <td>G*U*C*UGCAGUUAACGUUGCCA</td>\n",
       "      <td>5499</td>\n",
       "      <td>guide_0,guide_1</td>\n",
       "      <td>148</td>\n",
       "      <td>148</td>\n",
       "      <td>148</td>\n",
       "      <td>148</td>\n",
       "      <td>True</td>\n",
       "      <td>True</td>\n",
       "    </tr>\n",
       "  </tbody>\n",
       "</table>\n",
       "</div>"
      ],
      "text/plain": [
       "    gene                                            raw_cds  \\\n",
       "0  ADH1B  71..88,2516..2617,3218..3356,5100..5187,5285.....   \n",
       "\n",
       "                                            full_seq                  guide_1  \\\n",
       "0  atgcactcaagcagagaagaaatccacaaagactcacagtctgctg...  G*U*G*CCAAGGAAGUGGUGAAU   \n",
       "\n",
       "   guide_1_cut_index                  guide_2  guide_2_cut_index  \\\n",
       "0               5351  G*U*C*UGCAGUUAACGUUGCCA               5499   \n",
       "\n",
       "   deletion_frag_1  deletion_frag_1_size  deletion_frag_1_exon_size  \\\n",
       "0  guide_0,guide_1                   148                        148   \n",
       "\n",
       "   total_del_size  total_del_exon_size  seq_frameshift  exon_seq_frameshift  \n",
       "0             148                  148            True                 True  "
      ]
     },
     "execution_count": 105,
     "metadata": {},
     "output_type": "execute_result"
    }
   ],
   "source": [
    "pd.DataFrame([calculate_result(\"ADH1B\")])"
   ]
  },
  {
   "cell_type": "code",
   "execution_count": null,
   "id": "8856f62f-2cab-41bd-8d7b-6a9e3b61c28d",
   "metadata": {},
   "outputs": [],
   "source": []
  },
  {
   "cell_type": "code",
   "execution_count": 103,
   "id": "01179258-37dd-4b49-8ab8-9e8ced32de7a",
   "metadata": {
    "execution": {
     "iopub.execute_input": "2022-09-29T15:57:15.867793Z",
     "iopub.status.busy": "2022-09-29T15:57:15.867382Z",
     "iopub.status.idle": "2022-09-29T15:57:16.094415Z",
     "shell.execute_reply": "2022-09-29T15:57:16.093895Z",
     "shell.execute_reply.started": "2022-09-29T15:57:15.867765Z"
    },
    "tags": []
   },
   "outputs": [],
   "source": [
    "results_list = [calculate_result(gene) for gene in set(guide_data[\"Gene Name\"])]"
   ]
  },
  {
   "cell_type": "code",
   "execution_count": 108,
   "id": "a812e3a8-5d53-49fb-b56c-c2be07f5bf36",
   "metadata": {
    "execution": {
     "iopub.execute_input": "2022-09-29T16:11:43.504992Z",
     "iopub.status.busy": "2022-09-29T16:11:43.504673Z",
     "iopub.status.idle": "2022-09-29T16:11:43.791341Z",
     "shell.execute_reply": "2022-09-29T16:11:43.790733Z",
     "shell.execute_reply.started": "2022-09-29T16:11:43.504969Z"
    },
    "tags": []
   },
   "outputs": [],
   "source": [
    "pd.DataFrame(results_list).to_excel(\"../outputs/47_genes.xlsx\")"
   ]
  }
 ],
 "metadata": {
  "interpreter": {
   "hash": "7db95ed7b7e3602a7d7b3fe11f43f7eba4efb259753418e30b6c7bc5eae65dc3"
  },
  "kernelspec": {
   "display_name": "Python 3 (ipykernel)",
   "language": "python",
   "name": "python3"
  },
  "language_info": {
   "codemirror_mode": {
    "name": "ipython",
    "version": 3
   },
   "file_extension": ".py",
   "mimetype": "text/x-python",
   "name": "python",
   "nbconvert_exporter": "python",
   "pygments_lexer": "ipython3",
   "version": "3.9.13"
  },
  "toc": {
   "base_numbering": 1,
   "nav_menu": {},
   "number_sections": true,
   "sideBar": true,
   "skip_h1_title": false,
   "title_cell": "Table of Contents",
   "title_sidebar": "Contents",
   "toc_cell": false,
   "toc_position": {},
   "toc_section_display": true,
   "toc_window_display": false
  }
 },
 "nbformat": 4,
 "nbformat_minor": 5
}
