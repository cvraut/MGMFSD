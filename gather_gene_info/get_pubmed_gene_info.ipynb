{
 "cells": [
  {
   "cell_type": "markdown",
   "id": "ac8cafbf-9f84-4e18-9fd9-63c0887d227c",
   "metadata": {},
   "source": [
    "# Get PubMed Gene Info"
   ]
  },
  {
   "cell_type": "markdown",
   "id": "c38a61ea-291d-49e7-9950-1fcc82e14fc5",
   "metadata": {},
   "source": [
    "So Pubmed is a nice website which has many databases all working together to fulfill search queries.\n",
    "\n",
    "The one I care about is given a human gene name --> get the PubMed gene-id --> use the gene_id to get the gene page --> use the gene page to get the sequence information from genbank.\n",
    "\n",
    "The genbank does not have an api & all their data files can be found through [their ftp server](https://ftp.ncbi.nlm.nih.gov/genbank/release.notes/). However, there is an issue as human and plant and all sorts of organisms are mixed together. Parsing this will be a pain :/\n",
    "\n",
    "I will opt to be an asshole & use the human apis as at least I can figure out how they work & they get me to the solution."
   ]
  },
  {
   "cell_type": "markdown",
   "id": "e2b36812-34b8-48ba-b069-9f003408387f",
   "metadata": {
    "execution": {
     "iopub.execute_input": "2022-09-22T16:22:40.798273Z",
     "iopub.status.busy": "2022-09-22T16:22:40.797746Z",
     "iopub.status.idle": "2022-09-22T16:22:40.802654Z",
     "shell.execute_reply": "2022-09-22T16:22:40.802017Z",
     "shell.execute_reply.started": "2022-09-22T16:22:40.798122Z"
    },
    "tags": []
   },
   "source": [
    "# Imports and Globals 🌎"
   ]
  },
  {
   "cell_type": "code",
   "execution_count": 153,
   "id": "bfc152c6-7703-4760-a55e-11c46aea13b3",
   "metadata": {
    "execution": {
     "iopub.execute_input": "2022-09-23T00:18:44.179810Z",
     "iopub.status.busy": "2022-09-23T00:18:44.179518Z",
     "iopub.status.idle": "2022-09-23T00:18:44.183290Z",
     "shell.execute_reply": "2022-09-23T00:18:44.182774Z",
     "shell.execute_reply.started": "2022-09-23T00:18:44.179787Z"
    },
    "tags": []
   },
   "outputs": [],
   "source": [
    "import pandas as pd\n",
    "import requests\n",
    "from bs4 import BeautifulSoup\n",
    "import random\n",
    "import regex as re\n",
    "from pickle import dump,load\n",
    "import sys"
   ]
  },
  {
   "cell_type": "markdown",
   "id": "8f711894-115e-4717-9c96-807a6e5b153d",
   "metadata": {
    "tags": []
   },
   "source": [
    "# Make test Request to Gene Cards"
   ]
  },
  {
   "cell_type": "code",
   "execution_count": 2,
   "id": "6187f480-9801-435c-9a88-1521195220a6",
   "metadata": {
    "execution": {
     "iopub.execute_input": "2022-09-22T21:49:13.095110Z",
     "iopub.status.busy": "2022-09-22T21:49:13.094655Z",
     "iopub.status.idle": "2022-09-22T21:49:13.705090Z",
     "shell.execute_reply": "2022-09-22T21:49:13.704475Z",
     "shell.execute_reply.started": "2022-09-22T21:49:13.095087Z"
    },
    "tags": []
   },
   "outputs": [
    {
     "name": "stdout",
     "output_type": "stream",
     "text": [
      "1\n",
      "5\n",
      "<div class=\"gc-subsection\">\n",
      "<div class=\"gc-subsection-header\">\n",
      "<h3>Entrez Gene Summary for TM6SF2 Gene</h3>\n",
      "<a class=\"gc-ga-link glyphicon glyphicon-new-window\" data-ga-action=\"ENT\" data-ga-source-accession=\"53345\" href=\"https://www.ncbi.nlm.nih.gov/gene/53345#summary\" target=\"_blank\" title=\"See NCBI Entrez Gene entry for TM6SF2\"></a>\n",
      "</div>\n",
      "<ul class=\"list-unstyled\">\n",
      "<li>\n",
      "<p>Enables identical protein binding activity. Involved in regulation of lipid metabolic process. Located in endoplasmic reticulum membrane and endoplasmic reticulum-Golgi intermediate compartment membrane. [provided by Alliance of Genome Resources, Apr 2022]</p>\n",
      "</li>\n",
      "</ul>\n",
      "</div>\n",
      "[<small>\n",
      "                    Gene\n",
      "                        <span id=\"geneDescription\" title=\"Transmembrane 6 Superfamily Member 2\">- Transmembrane 6 Superfamily Member 2</span>\n",
      "</small>]\n"
     ]
    }
   ],
   "source": [
    "selected_gene = \"TM6SF2\"\n",
    "genecard_url = 'https://www.genecards.org/cgi-bin/carddisp.pl?gene={}'\n",
    "\n",
    "selected_url = genecard_url.format(selected_gene)\n",
    "\n",
    "payload={}\n",
    "\n",
    "UAS = (\"Mozilla/5.0 (Windows NT 6.1; WOW64; rv:40.0) Gecko/20100101 Firefox/40.1\", \n",
    "       \"Mozilla/5.0 (Windows NT 6.3; rv:36.0) Gecko/20100101 Firefox/36.0\",\n",
    "       \"Mozilla/5.0 (Macintosh; Intel Mac OS X 10_10; rv:33.0) Gecko/20100101 Firefox/33.0\",\n",
    "       \"Mozilla/5.0 (Windows NT 6.1) AppleWebKit/537.36 (KHTML, like Gecko) Chrome/41.0.2228.0 Safari/537.36\",\n",
    "       \"Mozilla/5.0 (Macintosh; Intel Mac OS X 10_10_1) AppleWebKit/537.36 (KHTML, like Gecko) Chrome/41.0.2227.1 Safari/537.36\",\n",
    "       \"Mozilla/5.0 (Windows NT 6.1; WOW64) AppleWebKit/537.36 (KHTML, like Gecko) Chrome/41.0.2227.0 Safari/537.36\",\n",
    "       )\n",
    "\n",
    "ua = UAS[random.randrange(len(UAS))]\n",
    "headers = {\n",
    "  'user-agent':ua\n",
    "}\n",
    "\n",
    "response = requests.request(\"GET\", selected_url, headers=headers, data=payload)\n",
    "\n",
    "#print(response.text)\n",
    "\n",
    "soup = BeautifulSoup(response.text, 'html.parser')\n",
    "all_divs = soup.findAll(\"section\",id=\"summaries\")\n",
    "print(len(all_divs))\n",
    "#sub_soup = BeautifulSoup(all_divs[0],\"html.parser\")\n",
    "all_subsections = all_divs[0].findAll(\"div\",class_=\"gc-subsection\")\n",
    "print(len(all_subsections))\n",
    "print(all_subsections[0])\n",
    "\n",
    "h1 = soup.findAll(\"h1\",id=\"geneSymbol\")\n",
    "if h1 and h1[0]:\n",
    "  print(h1[0].findAll(\"small\"))"
   ]
  },
  {
   "cell_type": "markdown",
   "id": "d7bd939d-3583-45c2-a88e-433322abab8a",
   "metadata": {},
   "source": [
    "ok the requests & bs4 is setup correctly"
   ]
  },
  {
   "cell_type": "markdown",
   "id": "6efc0bfa-3959-4817-af73-1ab5ce53a329",
   "metadata": {},
   "source": [
    "# Make Test Request to PubMed"
   ]
  },
  {
   "cell_type": "markdown",
   "id": "3a5c0f16-1d8f-4900-ab02-7948989ecf8b",
   "metadata": {},
   "source": [
    "## Incremental Dev"
   ]
  },
  {
   "cell_type": "code",
   "execution_count": 140,
   "id": "3b6991f1-4dd9-4e04-8632-939d12e15a73",
   "metadata": {
    "execution": {
     "iopub.execute_input": "2022-09-23T00:02:59.478858Z",
     "iopub.status.busy": "2022-09-23T00:02:59.478506Z",
     "iopub.status.idle": "2022-09-23T00:03:03.012621Z",
     "shell.execute_reply": "2022-09-23T00:03:03.011950Z",
     "shell.execute_reply.started": "2022-09-23T00:02:59.478834Z"
    },
    "tags": []
   },
   "outputs": [],
   "source": [
    "response = requests.request(\"GET\", \"https://www.ncbi.nlm.nih.gov/gene/?term=MBTPS1\", headers=headers, data=payload)"
   ]
  },
  {
   "cell_type": "code",
   "execution_count": 141,
   "id": "aad9e506-dc52-44c5-87c0-e7bb0e18ba9d",
   "metadata": {
    "execution": {
     "iopub.execute_input": "2022-09-23T00:03:08.259453Z",
     "iopub.status.busy": "2022-09-23T00:03:08.259124Z",
     "iopub.status.idle": "2022-09-23T00:03:08.318135Z",
     "shell.execute_reply": "2022-09-23T00:03:08.317523Z",
     "shell.execute_reply.started": "2022-09-23T00:03:08.259431Z"
    },
    "tags": []
   },
   "outputs": [],
   "source": [
    "soup = BeautifulSoup(response.text, 'html.parser')\n",
    "titles = soup.findAll(\"a\",id=\"feat_gene_title\")"
   ]
  },
  {
   "cell_type": "code",
   "execution_count": 142,
   "id": "dc9da939-b048-40b5-800d-0a206d61c7d2",
   "metadata": {
    "execution": {
     "iopub.execute_input": "2022-09-23T00:03:10.053886Z",
     "iopub.status.busy": "2022-09-23T00:03:10.053618Z",
     "iopub.status.idle": "2022-09-23T00:03:10.058203Z",
     "shell.execute_reply": "2022-09-23T00:03:10.057599Z",
     "shell.execute_reply.started": "2022-09-23T00:03:10.053864Z"
    },
    "tags": []
   },
   "outputs": [
    {
     "data": {
      "text/plain": [
       "[<a data-ga-action=\"click_feat_title\" data-ga-label=\"feat_gene_title\" href=\"https://www.ncbi.nlm.nih.gov/gene/8720\" id=\"feat_gene_title\" ref=\"discoId=KnownItemSensor&amp;itemType=gene&amp;itemId=gene:8720&amp;linkPos=0\">MBTPS1 – membrane bound transcription factor peptidase, site 1</a>]"
      ]
     },
     "execution_count": 142,
     "metadata": {},
     "output_type": "execute_result"
    }
   ],
   "source": [
    "titles"
   ]
  },
  {
   "cell_type": "code",
   "execution_count": 35,
   "id": "6cc5a53f-35b2-4d04-8ca2-d62c1eab8423",
   "metadata": {
    "execution": {
     "iopub.execute_input": "2022-09-22T21:52:54.353396Z",
     "iopub.status.busy": "2022-09-22T21:52:54.353001Z",
     "iopub.status.idle": "2022-09-22T21:52:54.360648Z",
     "shell.execute_reply": "2022-09-22T21:52:54.360082Z",
     "shell.execute_reply.started": "2022-09-22T21:52:54.353370Z"
    },
    "tags": []
   },
   "outputs": [
    {
     "data": {
      "text/plain": [
       "[<p class=\"ncbi-doc-authors\">\n",
       " <a data-ga-action=\"click_feat_taxname\" data-ga-label=\"feat_taxname\" href=\"https://www.ncbi.nlm.nih.gov/labs/data-hub/taxonomy/9606\"><span data-item-id=\"taxonomy:9606\" data-item-type=\"taxon\"><i>Homo sapiens</i></span> (human)</a>\n",
       " </p>]"
      ]
     },
     "execution_count": 35,
     "metadata": {},
     "output_type": "execute_result"
    }
   ],
   "source": [
    "taxons = soup.findAll(\"p\",class_=\"ncbi-doc-authors\")\n",
    "taxons"
   ]
  },
  {
   "cell_type": "code",
   "execution_count": 143,
   "id": "0cbe277b-fa3d-425a-8590-b562938c7afb",
   "metadata": {
    "execution": {
     "iopub.execute_input": "2022-09-23T00:03:19.890952Z",
     "iopub.status.busy": "2022-09-23T00:03:19.890634Z",
     "iopub.status.idle": "2022-09-23T00:03:19.895507Z",
     "shell.execute_reply": "2022-09-23T00:03:19.894907Z",
     "shell.execute_reply.started": "2022-09-23T00:03:19.890927Z"
    },
    "tags": []
   },
   "outputs": [
    {
     "data": {
      "text/plain": [
       "'https://www.ncbi.nlm.nih.gov/gene/8720'"
      ]
     },
     "execution_count": 143,
     "metadata": {},
     "output_type": "execute_result"
    }
   ],
   "source": [
    "titles[0][\"href\"]"
   ]
  },
  {
   "cell_type": "code",
   "execution_count": 144,
   "id": "f66a0eda-825c-4e8c-9d66-e00f9d0ed754",
   "metadata": {
    "execution": {
     "iopub.execute_input": "2022-09-23T00:03:22.807726Z",
     "iopub.status.busy": "2022-09-23T00:03:22.807505Z",
     "iopub.status.idle": "2022-09-23T00:03:22.811910Z",
     "shell.execute_reply": "2022-09-23T00:03:22.811306Z",
     "shell.execute_reply.started": "2022-09-23T00:03:22.807706Z"
    },
    "tags": []
   },
   "outputs": [
    {
     "data": {
      "text/plain": [
       "'MBTPS1'"
      ]
     },
     "execution_count": 144,
     "metadata": {},
     "output_type": "execute_result"
    }
   ],
   "source": [
    "titles[0].contents[0].split()[0]"
   ]
  },
  {
   "cell_type": "code",
   "execution_count": 38,
   "id": "4dd3dd19-bfd8-4944-8ea4-c64079d3d84e",
   "metadata": {
    "execution": {
     "iopub.execute_input": "2022-09-22T21:53:03.174147Z",
     "iopub.status.busy": "2022-09-22T21:53:03.173730Z",
     "iopub.status.idle": "2022-09-22T21:53:03.179290Z",
     "shell.execute_reply": "2022-09-22T21:53:03.178715Z",
     "shell.execute_reply.started": "2022-09-22T21:53:03.174121Z"
    },
    "tags": []
   },
   "outputs": [
    {
     "data": {
      "text/plain": [
       "'Homo sapiens'"
      ]
     },
     "execution_count": 38,
     "metadata": {},
     "output_type": "execute_result"
    }
   ],
   "source": [
    "taxons[0].find(\"i\").contents[0]"
   ]
  },
  {
   "cell_type": "code",
   "execution_count": 39,
   "id": "34af76e8-2dc8-4e7c-8cf4-5a5845a14ff8",
   "metadata": {
    "execution": {
     "iopub.execute_input": "2022-09-22T21:53:04.951619Z",
     "iopub.status.busy": "2022-09-22T21:53:04.951402Z",
     "iopub.status.idle": "2022-09-22T21:53:06.702360Z",
     "shell.execute_reply": "2022-09-22T21:53:06.701828Z",
     "shell.execute_reply.started": "2022-09-22T21:53:04.951599Z"
    },
    "tags": []
   },
   "outputs": [],
   "source": [
    "response2 = requests.request(\"GET\", titles[0][\"href\"], headers=headers, data=payload)\n",
    "#response.text"
   ]
  },
  {
   "cell_type": "code",
   "execution_count": 40,
   "id": "0e49f62c-545f-4477-9493-bb7928a80d0e",
   "metadata": {
    "execution": {
     "iopub.execute_input": "2022-09-22T21:53:07.356547Z",
     "iopub.status.busy": "2022-09-22T21:53:07.356294Z",
     "iopub.status.idle": "2022-09-22T21:53:07.651155Z",
     "shell.execute_reply": "2022-09-22T21:53:07.649917Z",
     "shell.execute_reply.started": "2022-09-22T21:53:07.356527Z"
    },
    "tags": []
   },
   "outputs": [],
   "source": [
    "soup2 = BeautifulSoup(response2.text, 'html.parser')"
   ]
  },
  {
   "cell_type": "code",
   "execution_count": 41,
   "id": "9a11222f-c34b-45fb-982c-182a01acdb24",
   "metadata": {
    "execution": {
     "iopub.execute_input": "2022-09-22T21:53:10.106816Z",
     "iopub.status.busy": "2022-09-22T21:53:10.106499Z",
     "iopub.status.idle": "2022-09-22T21:53:10.117676Z",
     "shell.execute_reply": "2022-09-22T21:53:10.117069Z",
     "shell.execute_reply.started": "2022-09-22T21:53:10.106794Z"
    },
    "tags": []
   },
   "outputs": [
    {
     "data": {
      "text/plain": [
       "'/nuccore/NC_000004.12?report=genbank&from=99564130&to=99623997'"
      ]
     },
     "execution_count": 41,
     "metadata": {},
     "output_type": "execute_result"
    }
   ],
   "source": [
    "soup2.findAll(\"a\",title=\"Nucleotide GenBank report\")[0][\"href\"]"
   ]
  },
  {
   "cell_type": "code",
   "execution_count": 42,
   "id": "c07d49bd-de0d-4d6f-a8b3-c8a719a9933d",
   "metadata": {
    "execution": {
     "iopub.execute_input": "2022-09-22T21:53:24.055975Z",
     "iopub.status.busy": "2022-09-22T21:53:24.055625Z",
     "iopub.status.idle": "2022-09-22T21:53:26.097155Z",
     "shell.execute_reply": "2022-09-22T21:53:26.096482Z",
     "shell.execute_reply.started": "2022-09-22T21:53:24.055952Z"
    },
    "tags": []
   },
   "outputs": [],
   "source": [
    "response3 = requests.request(\"GET\", \"https://www.ncbi.nlm.nih.gov/\"+soup2.findAll(\"a\",title=\"Nucleotide GenBank report\")[0][\"href\"], headers=headers, data=payload)\n",
    "soup3 = BeautifulSoup(response3.text,\"html.parser\")"
   ]
  },
  {
   "cell_type": "code",
   "execution_count": 43,
   "id": "14798b2e-1009-4b18-a868-550711b6f0e7",
   "metadata": {
    "execution": {
     "iopub.execute_input": "2022-09-22T21:53:27.135526Z",
     "iopub.status.busy": "2022-09-22T21:53:27.135275Z",
     "iopub.status.idle": "2022-09-22T21:53:27.138679Z",
     "shell.execute_reply": "2022-09-22T21:53:27.138084Z",
     "shell.execute_reply.started": "2022-09-22T21:53:27.135504Z"
    },
    "tags": []
   },
   "outputs": [],
   "source": [
    "#response3.text\n",
    "target_url = \"https://www.ncbi.nlm.nih.gov/sviewer/viewer.fcgi?id=568815579&db=nuccore&report=genbank&conwithfeat=on&basic_feat=on&hide-cdd=on&from=19264366&to=19273301&strand=on&retmode=html&withmarkup=on&tool=portal&log$=seqview&maxdownloadsize=1000000\""
   ]
  },
  {
   "cell_type": "code",
   "execution_count": 44,
   "id": "42ecc5dd-fbc0-4bd0-9673-0e5108fb81dd",
   "metadata": {
    "execution": {
     "iopub.execute_input": "2022-09-22T21:53:32.560927Z",
     "iopub.status.busy": "2022-09-22T21:53:32.560610Z",
     "iopub.status.idle": "2022-09-22T21:53:32.565582Z",
     "shell.execute_reply": "2022-09-22T21:53:32.564953Z",
     "shell.execute_reply.started": "2022-09-22T21:53:32.560904Z"
    },
    "tags": []
   },
   "outputs": [
    {
     "data": {
      "text/plain": [
       "False"
      ]
     },
     "execution_count": 44,
     "metadata": {},
     "output_type": "execute_result"
    }
   ],
   "source": [
    "\"568815579\" in response3.text"
   ]
  },
  {
   "cell_type": "code",
   "execution_count": 45,
   "id": "c4d2d81e-0952-4737-b3c6-58a5963bd298",
   "metadata": {
    "execution": {
     "iopub.execute_input": "2022-09-22T21:53:34.764788Z",
     "iopub.status.busy": "2022-09-22T21:53:34.764478Z",
     "iopub.status.idle": "2022-09-22T21:53:34.778288Z",
     "shell.execute_reply": "2022-09-22T21:53:34.777456Z",
     "shell.execute_reply.started": "2022-09-22T21:53:34.764765Z"
    },
    "tags": []
   },
   "outputs": [
    {
     "ename": "ValueError",
     "evalue": "substring not found",
     "output_type": "error",
     "traceback": [
      "\u001b[0;31m---------------------------------------------------------------------------\u001b[0m",
      "\u001b[0;31mValueError\u001b[0m                                Traceback (most recent call last)",
      "Cell \u001b[0;32mIn [45], line 1\u001b[0m\n\u001b[0;32m----> 1\u001b[0m i \u001b[38;5;241m=\u001b[39m \u001b[43mresponse3\u001b[49m\u001b[38;5;241;43m.\u001b[39;49m\u001b[43mtext\u001b[49m\u001b[38;5;241;43m.\u001b[39;49m\u001b[43mindex\u001b[49m\u001b[43m(\u001b[49m\u001b[38;5;124;43m\"\u001b[39;49m\u001b[38;5;124;43m568815579\u001b[39;49m\u001b[38;5;124;43m\"\u001b[39;49m\u001b[43m)\u001b[49m\n",
      "\u001b[0;31mValueError\u001b[0m: substring not found"
     ]
    }
   ],
   "source": [
    "i = response3.text.index(\"568815579\")"
   ]
  },
  {
   "cell_type": "code",
   "execution_count": 46,
   "id": "5bf99d9f-b7be-4106-bbf7-1ba75dd0d13d",
   "metadata": {
    "execution": {
     "iopub.execute_input": "2022-09-22T21:53:37.735820Z",
     "iopub.status.busy": "2022-09-22T21:53:37.735554Z",
     "iopub.status.idle": "2022-09-22T21:53:37.739809Z",
     "shell.execute_reply": "2022-09-22T21:53:37.739275Z",
     "shell.execute_reply.started": "2022-09-22T21:53:37.735798Z"
    },
    "tags": []
   },
   "outputs": [
    {
     "data": {
      "text/plain": [
       "'<meta name=\"ncbi_sessionid\" content=\"CE89C68F32CD9541_0116SID\" /><meta name=\"ncbi_uidlist\" content=\"568815594\" /><meta name=\"ncbi_filter\" content=\"all\" /><meta name=\"ncbi_stat\" content=\"false\" /><meta'"
      ]
     },
     "execution_count": 46,
     "metadata": {},
     "output_type": "execute_result"
    }
   ],
   "source": [
    "response3.text[i-100:i+100]"
   ]
  },
  {
   "cell_type": "code",
   "execution_count": 47,
   "id": "0e5d8eca-b526-4f81-97b5-442aecc0dd5e",
   "metadata": {
    "execution": {
     "iopub.execute_input": "2022-09-22T21:53:44.371950Z",
     "iopub.status.busy": "2022-09-22T21:53:44.371610Z",
     "iopub.status.idle": "2022-09-22T21:53:44.377941Z",
     "shell.execute_reply": "2022-09-22T21:53:44.377394Z",
     "shell.execute_reply.started": "2022-09-22T21:53:44.371925Z"
    },
    "tags": []
   },
   "outputs": [
    {
     "data": {
      "text/plain": [
       "'568815594'"
      ]
     },
     "execution_count": 47,
     "metadata": {},
     "output_type": "execute_result"
    }
   ],
   "source": [
    "soup3.findAll(\"meta\",{\"name\":\"ncbi_uidlist\"})[0][\"content\"]"
   ]
  },
  {
   "cell_type": "code",
   "execution_count": 84,
   "id": "837293f6-3a3a-4bab-ac8a-2d9f2bf69a03",
   "metadata": {
    "execution": {
     "iopub.execute_input": "2022-09-22T23:06:21.055374Z",
     "iopub.status.busy": "2022-09-22T23:06:21.054982Z",
     "iopub.status.idle": "2022-09-22T23:06:21.061311Z",
     "shell.execute_reply": "2022-09-22T23:06:21.060772Z",
     "shell.execute_reply.started": "2022-09-22T23:06:21.055349Z"
    },
    "tags": []
   },
   "outputs": [
    {
     "data": {
      "text/plain": [
       "'CE89C68F32CD6C710000000000740027.m_23'"
      ]
     },
     "execution_count": 84,
     "metadata": {},
     "output_type": "execute_result"
    }
   ],
   "source": [
    "soup3.findAll(\"meta\",{\"name\":\"ncbi_phid\"})[0][\"content\"]"
   ]
  },
  {
   "cell_type": "code",
   "execution_count": 85,
   "id": "111dce3d-22cc-401e-933f-4f98553563a5",
   "metadata": {
    "execution": {
     "iopub.execute_input": "2022-09-22T23:08:35.585111Z",
     "iopub.status.busy": "2022-09-22T23:08:35.584728Z",
     "iopub.status.idle": "2022-09-22T23:08:35.589669Z",
     "shell.execute_reply": "2022-09-22T23:08:35.589129Z",
     "shell.execute_reply.started": "2022-09-22T23:08:35.585086Z"
    },
    "tags": []
   },
   "outputs": [
    {
     "data": {
      "text/plain": [
       "'https://www.ncbi.nlm.nih.gov/sviewer/viewer.fcgi?id=568815594&db=nuccore&report=genbank&=&from=99564130&to=99623997&retmode=html&ncbi_phid=CE89C68F32CD6C710000000000740027&withmarkup=on&tool=portal&log$=seqview&maxdownloadsize=1000000'"
      ]
     },
     "execution_count": 85,
     "metadata": {},
     "output_type": "execute_result"
    }
   ],
   "source": [
    "temp2 = \"https://www.ncbi.nlm.nih.gov/sviewer/viewer.fcgi?id={}&db=nuccore&report=genbank&=&from={}&to={}&retmode=html&ncbi_phid={}&withmarkup=on&tool=portal&log$=seqview&maxdownloadsize=1000000\"\n",
    "temp2.format(ncbi_id,start,stop,\"CE89C68F32CD6C710000000000740027\")"
   ]
  },
  {
   "cell_type": "code",
   "execution_count": 49,
   "id": "d4a640cc-c0c6-439f-85ff-6ec528b59f12",
   "metadata": {
    "execution": {
     "iopub.execute_input": "2022-09-22T21:54:41.953418Z",
     "iopub.status.busy": "2022-09-22T21:54:41.953002Z",
     "iopub.status.idle": "2022-09-22T21:54:41.965126Z",
     "shell.execute_reply": "2022-09-22T21:54:41.964537Z",
     "shell.execute_reply.started": "2022-09-22T21:54:41.953394Z"
    },
    "tags": []
   },
   "outputs": [
    {
     "data": {
      "text/plain": [
       "('99564130', '99623997')"
      ]
     },
     "execution_count": 49,
     "metadata": {},
     "output_type": "execute_result"
    }
   ],
   "source": [
    "m = re.search(re.compile(\"from=(\\d+)&to=(\\d+)\"),soup2.findAll(\"a\",title=\"Nucleotide GenBank report\")[0][\"href\"])\n",
    "m.groups()"
   ]
  },
  {
   "cell_type": "code",
   "execution_count": 57,
   "id": "1a86d5f2-e179-4b27-b574-04cba4a12c73",
   "metadata": {
    "execution": {
     "iopub.execute_input": "2022-09-22T21:57:14.263505Z",
     "iopub.status.busy": "2022-09-22T21:57:14.263128Z",
     "iopub.status.idle": "2022-09-22T21:57:14.286537Z",
     "shell.execute_reply": "2022-09-22T21:57:14.285889Z",
     "shell.execute_reply.started": "2022-09-22T21:57:14.263475Z"
    },
    "tags": []
   },
   "outputs": [
    {
     "data": {
      "text/plain": [
       "'https://www.ncbi.nlm.nih.gov/sviewer/viewer.fcgi?id=568815594&db=nuccore&report=genbank&conwithfeat=on&basic_feat=on&hide-cdd=on&from=99564130&to=99623997&strand=off&retmode=html&withmarkup=on&tool=portal&log$=seqview&maxdownloadsize=1000000'"
      ]
     },
     "execution_count": 57,
     "metadata": {},
     "output_type": "execute_result"
    }
   ],
   "source": [
    "target_url_template = \"https://www.ncbi.nlm.nih.gov/sviewer/viewer.fcgi?id={}&db=nuccore&report=genbank&conwithfeat=on&basic_feat=on&hide-cdd=on&from={}&to={}&strand={}&retmode=html&withmarkup=on&tool=portal&log$=seqview&maxdownloadsize=1000000\"\n",
    "ncbi_id = soup3.findAll(\"meta\",{\"name\":\"ncbi_uidlist\"})[0][\"content\"]\n",
    "start,stop = re.search(re.compile(\"from=(\\d+)&to=(\\d+)\"),soup2.findAll(\"a\",title=\"Nucleotide GenBank report\")[0][\"href\"]).groups()\n",
    "strand = \"on\" if \"strand=true\" in soup2.findAll(\"a\",title=\"Nucleotide GenBank report\")[0][\"href\"] else \"off\"\n",
    "target_url_template.format(ncbi_id,start,stop,strand)"
   ]
  },
  {
   "cell_type": "code",
   "execution_count": 59,
   "id": "fc791c03-ed3e-4040-9d51-3938c64dd693",
   "metadata": {
    "execution": {
     "iopub.execute_input": "2022-09-22T21:57:28.145417Z",
     "iopub.status.busy": "2022-09-22T21:57:28.145156Z",
     "iopub.status.idle": "2022-09-22T21:57:29.080931Z",
     "shell.execute_reply": "2022-09-22T21:57:29.079941Z",
     "shell.execute_reply.started": "2022-09-22T21:57:28.145393Z"
    },
    "tags": []
   },
   "outputs": [],
   "source": [
    "response4 = requests.request(\"GET\", target_url_template.format(ncbi_id,start,stop,strand), headers=headers, data=payload)"
   ]
  },
  {
   "cell_type": "code",
   "execution_count": 60,
   "id": "91dc6c92-9eef-42e9-bb39-bd985cfde0d8",
   "metadata": {
    "execution": {
     "iopub.execute_input": "2022-09-22T21:57:30.099215Z",
     "iopub.status.busy": "2022-09-22T21:57:30.098727Z",
     "iopub.status.idle": "2022-09-22T21:57:30.105088Z",
     "shell.execute_reply": "2022-09-22T21:57:30.104435Z",
     "shell.execute_reply.started": "2022-09-22T21:57:30.099190Z"
    },
    "tags": []
   },
   "outputs": [
    {
     "data": {
      "text/plain": [
       "'10781..10841,17776..17963,19245..19388,25514..25621,27106..27222,27522..27661,30604..30754,32938..33095,36436..36604,37478..37585,42619..42831,44637..44848,47014..47111,47203..47324,48784..49011,54845..54969,56932..57102,58548..58719'"
      ]
     },
     "execution_count": 60,
     "metadata": {},
     "output_type": "execute_result"
    }
   ],
   "source": [
    "m = re.search(re.compile(r\"CDS\\s+join\\(((?:\\.|,|\\d|\\s)+)\\)\"),response4.text)\n",
    "\"\".join(m.groups()[0].split())"
   ]
  },
  {
   "cell_type": "code",
   "execution_count": 61,
   "id": "95d0995f-1edb-4a5e-9b75-9c9b84a77141",
   "metadata": {
    "execution": {
     "iopub.execute_input": "2022-09-22T21:57:31.830429Z",
     "iopub.status.busy": "2022-09-22T21:57:31.830108Z",
     "iopub.status.idle": "2022-09-22T21:57:31.895059Z",
     "shell.execute_reply": "2022-09-22T21:57:31.894443Z",
     "shell.execute_reply.started": "2022-09-22T21:57:31.830404Z"
    },
    "tags": []
   },
   "outputs": [],
   "source": [
    "soup4 = BeautifulSoup(response4.text,\"html.parser\")"
   ]
  },
  {
   "cell_type": "code",
   "execution_count": 102,
   "id": "73e04b37-2588-4aa0-a76e-849a37de7beb",
   "metadata": {
    "execution": {
     "iopub.execute_input": "2022-09-22T23:17:20.999340Z",
     "iopub.status.busy": "2022-09-22T23:17:20.998910Z",
     "iopub.status.idle": "2022-09-22T23:17:21.009925Z",
     "shell.execute_reply": "2022-09-22T23:17:21.009070Z",
     "shell.execute_reply.started": "2022-09-22T23:17:20.999317Z"
    },
    "tags": []
   },
   "outputs": [],
   "source": [
    "seq = \"\".join([\"\".join(s.contents[0].split()) for s in soup4.findAll(\"span\",class_=\"ff_line\")])"
   ]
  },
  {
   "cell_type": "code",
   "execution_count": 103,
   "id": "ecc21ac0-b873-4f0c-97cb-efb9b9787992",
   "metadata": {
    "execution": {
     "iopub.execute_input": "2022-09-22T23:17:23.901568Z",
     "iopub.status.busy": "2022-09-22T23:17:23.901281Z",
     "iopub.status.idle": "2022-09-22T23:17:23.905884Z",
     "shell.execute_reply": "2022-09-22T23:17:23.905340Z",
     "shell.execute_reply.started": "2022-09-22T23:17:23.901546Z"
    },
    "tags": []
   },
   "outputs": [
    {
     "data": {
      "text/plain": [
       "'gtg'"
      ]
     },
     "execution_count": 103,
     "metadata": {},
     "output_type": "execute_result"
    }
   ],
   "source": [
    "seq[87-1:87-1+3]"
   ]
  },
  {
   "cell_type": "code",
   "execution_count": 104,
   "id": "75b0f899-a9d2-4e7f-82da-09024691eba2",
   "metadata": {
    "execution": {
     "iopub.execute_input": "2022-09-22T23:17:30.736797Z",
     "iopub.status.busy": "2022-09-22T23:17:30.736492Z",
     "iopub.status.idle": "2022-09-22T23:17:30.741080Z",
     "shell.execute_reply": "2022-09-22T23:17:30.740532Z",
     "shell.execute_reply.started": "2022-09-22T23:17:30.736774Z"
    },
    "tags": []
   },
   "outputs": [
    {
     "data": {
      "text/plain": [
       "59868"
      ]
     },
     "execution_count": 104,
     "metadata": {},
     "output_type": "execute_result"
    }
   ],
   "source": [
    "len(seq)"
   ]
  },
  {
   "cell_type": "code",
   "execution_count": 105,
   "id": "a08ee77a-9ac6-4b07-8e4b-30c8657d675a",
   "metadata": {
    "execution": {
     "iopub.execute_input": "2022-09-22T23:17:42.548563Z",
     "iopub.status.busy": "2022-09-22T23:17:42.548274Z",
     "iopub.status.idle": "2022-09-22T23:17:42.552806Z",
     "shell.execute_reply": "2022-09-22T23:17:42.552296Z",
     "shell.execute_reply.started": "2022-09-22T23:17:42.548540Z"
    },
    "tags": []
   },
   "outputs": [
    {
     "data": {
      "text/plain": [
       "59867"
      ]
     },
     "execution_count": 105,
     "metadata": {},
     "output_type": "execute_result"
    }
   ],
   "source": [
    "int(stop)-int(start)"
   ]
  },
  {
   "cell_type": "markdown",
   "id": "e7344342-de3d-486e-9ad4-48c76594e82b",
   "metadata": {},
   "source": [
    "yay! I can get the nucleotide sequence of the gene & the coding regions of it."
   ]
  },
  {
   "cell_type": "markdown",
   "id": "68065532-742c-4a85-9b15-9e6905ad3e66",
   "metadata": {},
   "source": [
    "## Turn into function"
   ]
  },
  {
   "cell_type": "code",
   "execution_count": 127,
   "id": "d40a9524-2b54-462e-afc9-2592e16e958c",
   "metadata": {
    "execution": {
     "iopub.execute_input": "2022-09-22T23:37:43.982463Z",
     "iopub.status.busy": "2022-09-22T23:37:43.982119Z",
     "iopub.status.idle": "2022-09-22T23:37:43.993996Z",
     "shell.execute_reply": "2022-09-22T23:37:43.993463Z",
     "shell.execute_reply.started": "2022-09-22T23:37:43.982436Z"
    },
    "tags": []
   },
   "outputs": [],
   "source": [
    "def get_bp_and_cds(gene):\n",
    "    result = {}\n",
    "    payload={}\n",
    "\n",
    "    UAS = (\"Mozilla/5.0 (Windows NT 6.1; WOW64; rv:40.0) Gecko/20100101 Firefox/40.1\", \n",
    "           \"Mozilla/5.0 (Windows NT 6.3; rv:36.0) Gecko/20100101 Firefox/36.0\",\n",
    "           \"Mozilla/5.0 (Macintosh; Intel Mac OS X 10_10; rv:33.0) Gecko/20100101 Firefox/33.0\",\n",
    "           \"Mozilla/5.0 (Windows NT 6.1) AppleWebKit/537.36 (KHTML, like Gecko) Chrome/41.0.2228.0 Safari/537.36\",\n",
    "           \"Mozilla/5.0 (Macintosh; Intel Mac OS X 10_10_1) AppleWebKit/537.36 (KHTML, like Gecko) Chrome/41.0.2227.1 Safari/537.36\",\n",
    "           \"Mozilla/5.0 (Windows NT 6.1; WOW64) AppleWebKit/537.36 (KHTML, like Gecko) Chrome/41.0.2227.0 Safari/537.36\",\n",
    "           )\n",
    "\n",
    "    ua = UAS[random.randrange(len(UAS))]\n",
    "    headers = {\n",
    "      'user-agent':ua\n",
    "    }\n",
    "\n",
    "    response1 = requests.request(\"GET\", \"https://www.ncbi.nlm.nih.gov/gene/?term={}\".format(gene), headers=headers, data=payload)\n",
    "    soup1 = BeautifulSoup(response1.text, 'html.parser')\n",
    "    titles = soup1.findAll(\"a\",id=\"feat_gene_title\")\n",
    "    result[\"gene\"] = titles[0].contents[0].split()[0]\n",
    "    taxons = soup.findAll(\"p\",class_=\"ncbi-doc-authors\")\n",
    "    result[\"organism\"] = taxons[0].find(\"i\").contents[0]\n",
    "    result[\"gene_link\"] = titles[0][\"href\"]\n",
    "    \n",
    "    response2 = requests.request(\"GET\", titles[0][\"href\"], headers=headers, data=payload)\n",
    "    soup2 = BeautifulSoup(response2.text, 'html.parser')\n",
    "    result[\"gene_bank_url\"] = \"https://www.ncbi.nlm.nih.gov/\"+soup2.findAll(\"a\",title=\"Nucleotide GenBank report\")[0][\"href\"]\n",
    "    \n",
    "    response3 = requests.request(\"GET\", result[\"gene_bank_url\"], headers=headers, data=payload)\n",
    "    soup3 = BeautifulSoup(response3.text,\"html.parser\")\n",
    "    soup3.findAll(\"meta\",{\"name\":\"ncbi_uidlist\"})[0][\"content\"]\n",
    "    result[\"ncbi_id\"] = soup3.findAll(\"meta\",{\"name\":\"ncbi_uidlist\"})[0][\"content\"]\n",
    "    result[\"start\"],result[\"stop\"] = re.search(re.compile(\"from=(\\d+)&to=(\\d+)\"),result[\"gene_bank_url\"]).groups()\n",
    "    result[\"strand\"] = \"on\" if \"strand=true\" in result[\"gene_bank_url\"] else \"off\"\n",
    "    result[\"ncbi_phid\"] = soup3.findAll(\"meta\",{\"name\":\"ncbi_phid\"})[0][\"content\"].split()[0]\n",
    "    \n",
    "    target_url_template = \"https://www.ncbi.nlm.nih.gov/sviewer/viewer.fcgi?id={}&db=nuccore&report=genbank&conwithfeat=on&basic_feat=on&hide-cdd=on&from={}&to={}&strand={}&retmode=html&withmarkup=on&tool=portal&log$=seqview&maxdownloadsize=1000000\"\n",
    "    #target_url_template2 = \"https://www.ncbi.nlm.nih.gov/sviewer/viewer.fcgi?id={}&db=nuccore&report=genbank&=&from={}&to={}&retmode=html&ncbi_phid={}&withmarkup=on&tool=portal&log$=seqview&maxdownloadsize=1000000\"\n",
    "    result[\"genbank_jquery\"] = target_url_template.format(result[\"ncbi_id\"],result[\"start\"],result[\"stop\"],result[\"strand\"])\n",
    "    print(result[\"gene_bank_url\"])\n",
    "    print(result[\"genbank_jquery\"])\n",
    "    response4 = requests.request(\"GET\", result[\"genbank_jquery\"], headers=headers, data=payload)\n",
    "    print(len(response4.text))\n",
    "    m = re.search(re.compile(r\"CDS\\s+join\\(((?:&|l|t|;|\\.|,|\\d|\\s)+)\\)\"),response4.text)\n",
    "    result[\"CDS\"] = \"\".join(m.groups()[0].split())\n",
    "    soup4 = BeautifulSoup(response4.text,\"html.parser\")\n",
    "    result[\"seq\"] = \"\".join([\"\".join(s.contents[0].split()) for s in soup4.findAll(\"span\",class_=\"ff_line\")])\n",
    "    print(\"done!\")\n",
    "    return result"
   ]
  },
  {
   "cell_type": "markdown",
   "id": "9d99de94-5fdf-4bd8-80e0-1136d51e4d4b",
   "metadata": {},
   "source": [
    "## Test function behavior"
   ]
  },
  {
   "cell_type": "code",
   "execution_count": 128,
   "id": "0fc33dca-9e3d-4fa0-9d3a-06e87f5d875e",
   "metadata": {
    "execution": {
     "iopub.execute_input": "2022-09-22T23:37:46.795197Z",
     "iopub.status.busy": "2022-09-22T23:37:46.794695Z",
     "iopub.status.idle": "2022-09-22T23:37:54.780977Z",
     "shell.execute_reply": "2022-09-22T23:37:54.780308Z",
     "shell.execute_reply.started": "2022-09-22T23:37:46.795157Z"
    },
    "tags": []
   },
   "outputs": [
    {
     "name": "stdout",
     "output_type": "stream",
     "text": [
      "https://www.ncbi.nlm.nih.gov//nuccore/NC_000019.10?report=genbank&from=19264366&to=19273301&strand=true\n",
      "https://www.ncbi.nlm.nih.gov/sviewer/viewer.fcgi?id=568815579&db=nuccore&report=genbank&conwithfeat=on&basic_feat=on&hide-cdd=on&from=19264366&to=19273301&strand=on&retmode=html&withmarkup=on&tool=portal&log$=seqview&maxdownloadsize=1000000\n",
      "33118\n",
      "done!\n"
     ]
    }
   ],
   "source": [
    "tm6 = get_bp_and_cds(\"TM6SF2\")"
   ]
  },
  {
   "cell_type": "code",
   "execution_count": 133,
   "id": "e9be61eb-8dfe-4bf3-9792-5b4a5ef3d35b",
   "metadata": {
    "execution": {
     "iopub.execute_input": "2022-09-22T23:38:55.713981Z",
     "iopub.status.busy": "2022-09-22T23:38:55.713646Z",
     "iopub.status.idle": "2022-09-22T23:38:55.718773Z",
     "shell.execute_reply": "2022-09-22T23:38:55.718249Z",
     "shell.execute_reply.started": "2022-09-22T23:38:55.713956Z"
    },
    "tags": []
   },
   "outputs": [
    {
     "data": {
      "text/plain": [
       "'atggacatcccgcc'"
      ]
     },
     "execution_count": 133,
     "metadata": {},
     "output_type": "execute_result"
    }
   ],
   "source": [
    "tm6[\"seq\"][87-1:100]"
   ]
  },
  {
   "cell_type": "code",
   "execution_count": 129,
   "id": "c9ed8bc5-76d0-446c-ba4b-f4e513e17a0f",
   "metadata": {
    "execution": {
     "iopub.execute_input": "2022-09-22T23:37:58.941246Z",
     "iopub.status.busy": "2022-09-22T23:37:58.940944Z",
     "iopub.status.idle": "2022-09-22T23:38:05.481777Z",
     "shell.execute_reply": "2022-09-22T23:38:05.480952Z",
     "shell.execute_reply.started": "2022-09-22T23:37:58.941224Z"
    },
    "tags": []
   },
   "outputs": [
    {
     "name": "stdout",
     "output_type": "stream",
     "text": [
      "https://www.ncbi.nlm.nih.gov//nuccore/NC_000004.12?report=genbank&from=99564130&to=99623997\n",
      "https://www.ncbi.nlm.nih.gov/sviewer/viewer.fcgi?id=568815594&db=nuccore&report=genbank&conwithfeat=on&basic_feat=on&hide-cdd=on&from=99564130&to=99623997&strand=off&retmode=html&withmarkup=on&tool=portal&log$=seqview&maxdownloadsize=1000000\n",
      "153894\n",
      "done!\n"
     ]
    }
   ],
   "source": [
    "mttp = get_bp_and_cds(\"MTTP\")"
   ]
  },
  {
   "cell_type": "code",
   "execution_count": 135,
   "id": "2aab2aac-2983-4105-abc7-5331d9fa11bf",
   "metadata": {
    "execution": {
     "iopub.execute_input": "2022-09-22T23:40:30.442301Z",
     "iopub.status.busy": "2022-09-22T23:40:30.441961Z",
     "iopub.status.idle": "2022-09-22T23:40:30.448079Z",
     "shell.execute_reply": "2022-09-22T23:40:30.447462Z",
     "shell.execute_reply.started": "2022-09-22T23:40:30.442272Z"
    },
    "tags": []
   },
   "outputs": [
    {
     "data": {
      "text/plain": [
       "True"
      ]
     },
     "execution_count": 135,
     "metadata": {},
     "output_type": "execute_result"
    }
   ],
   "source": [
    "int(mttp[\"stop\"])-int(mttp[\"start\"])+1 == len(mttp[\"seq\"])"
   ]
  },
  {
   "cell_type": "code",
   "execution_count": 136,
   "id": "465123db-ddd8-465c-8657-e66cab17be1d",
   "metadata": {
    "execution": {
     "iopub.execute_input": "2022-09-22T23:50:14.007628Z",
     "iopub.status.busy": "2022-09-22T23:50:14.007324Z",
     "iopub.status.idle": "2022-09-22T23:50:14.012126Z",
     "shell.execute_reply": "2022-09-22T23:50:14.011572Z",
     "shell.execute_reply.started": "2022-09-22T23:50:14.007605Z"
    },
    "tags": []
   },
   "outputs": [
    {
     "data": {
      "text/plain": [
       "'10781..10841,17776..17963,19245..19388,25514..25621,27106..27222,27522..27661,30604..30754,32938..33095,36436..36604,37478..37585,42619..42831,44637..44848,47014..47111,47203..47324,48784..49011,54845..54969,56932..57102,58548..58719'"
      ]
     },
     "execution_count": 136,
     "metadata": {},
     "output_type": "execute_result"
    }
   ],
   "source": [
    "mttp[\"CDS\"]"
   ]
  },
  {
   "cell_type": "code",
   "execution_count": 138,
   "id": "b9bc46ee-395a-4794-93c2-2d5e718f881d",
   "metadata": {
    "execution": {
     "iopub.execute_input": "2022-09-22T23:51:04.343727Z",
     "iopub.status.busy": "2022-09-22T23:51:04.343394Z",
     "iopub.status.idle": "2022-09-22T23:51:04.348147Z",
     "shell.execute_reply": "2022-09-22T23:51:04.347622Z",
     "shell.execute_reply.started": "2022-09-22T23:51:04.343704Z"
    },
    "tags": []
   },
   "outputs": [
    {
     "data": {
      "text/plain": [
       "'atg'"
      ]
     },
     "execution_count": 138,
     "metadata": {},
     "output_type": "execute_result"
    }
   ],
   "source": [
    "mttp[\"seq\"][10781-1:10781-1+3]"
   ]
  },
  {
   "cell_type": "code",
   "execution_count": 122,
   "id": "cf480f0e-2db4-463a-b919-03d79c52194b",
   "metadata": {
    "execution": {
     "iopub.execute_input": "2022-09-22T23:33:36.191080Z",
     "iopub.status.busy": "2022-09-22T23:33:36.190609Z",
     "iopub.status.idle": "2022-09-22T23:33:43.351310Z",
     "shell.execute_reply": "2022-09-22T23:33:43.350611Z",
     "shell.execute_reply.started": "2022-09-22T23:33:36.191041Z"
    },
    "tags": []
   },
   "outputs": [
    {
     "name": "stdout",
     "output_type": "stream",
     "text": [
      "https://www.ncbi.nlm.nih.gov//nuccore/NC_000019.10?report=genbank&from=19211958&to=19252233\n",
      "https://www.ncbi.nlm.nih.gov/sviewer/viewer.fcgi?id=568815579&db=nuccore&report=genbank&=&from=19211958&to=19252233&retmode=html&ncbi_phid=CE8B936032CD8FD100000000044F0185.m_23&withmarkup=on&tool=portal&log$=seqview&maxdownloadsize=1000000\n",
      "112708\n",
      "done!\n"
     ]
    }
   ],
   "source": [
    "ncan = get_bp_and_cds(\"NCAN\")"
   ]
  },
  {
   "cell_type": "code",
   "execution_count": 130,
   "id": "1272f207-af7a-4c1b-b4cc-5a1607170e54",
   "metadata": {
    "execution": {
     "iopub.execute_input": "2022-09-22T23:38:05.483548Z",
     "iopub.status.busy": "2022-09-22T23:38:05.483263Z",
     "iopub.status.idle": "2022-09-22T23:38:11.220601Z",
     "shell.execute_reply": "2022-09-22T23:38:11.219715Z",
     "shell.execute_reply.started": "2022-09-22T23:38:05.483525Z"
    },
    "tags": []
   },
   "outputs": [
    {
     "name": "stdout",
     "output_type": "stream",
     "text": [
      "https://www.ncbi.nlm.nih.gov//nuccore/NC_000014.9?report=genbank&from=22547506&to=22552132\n",
      "https://www.ncbi.nlm.nih.gov/sviewer/viewer.fcgi?id=568815584&db=nuccore&report=genbank&conwithfeat=on&basic_feat=on&hide-cdd=on&from=22547506&to=22552132&strand=off&retmode=html&withmarkup=on&tool=portal&log$=seqview&maxdownloadsize=1000000\n",
      "22802\n",
      "done!\n"
     ]
    }
   ],
   "source": [
    "trac = get_bp_and_cds(\"TRAC\")"
   ]
  },
  {
   "cell_type": "code",
   "execution_count": 131,
   "id": "4cf17e27-28eb-4e08-a163-9965d8fb6cad",
   "metadata": {
    "execution": {
     "iopub.execute_input": "2022-09-22T23:38:14.469334Z",
     "iopub.status.busy": "2022-09-22T23:38:14.468887Z",
     "iopub.status.idle": "2022-09-22T23:38:14.475472Z",
     "shell.execute_reply": "2022-09-22T23:38:14.474932Z",
     "shell.execute_reply.started": "2022-09-22T23:38:14.469306Z"
    },
    "tags": []
   },
   "outputs": [
    {
     "data": {
      "text/plain": [
       "{'gene': 'TRAC',\n",
       " 'organism': 'Homo sapiens',\n",
       " 'gene_link': 'https://www.ncbi.nlm.nih.gov/gene/28755',\n",
       " 'gene_bank_url': 'https://www.ncbi.nlm.nih.gov//nuccore/NC_000014.9?report=genbank&from=22547506&to=22552132',\n",
       " 'ncbi_id': '568815584',\n",
       " 'start': '22547506',\n",
       " 'stop': '22552132',\n",
       " 'strand': 'off',\n",
       " 'ncbi_phid': 'CE8A6C5F32CDB6110000000003BE0150.m_23',\n",
       " 'genbank_jquery': 'https://www.ncbi.nlm.nih.gov/sviewer/viewer.fcgi?id=568815584&db=nuccore&report=genbank&conwithfeat=on&basic_feat=on&hide-cdd=on&from=22547506&to=22552132&strand=off&retmode=html&withmarkup=on&tool=portal&log$=seqview&maxdownloadsize=1000000',\n",
       " 'CDS': '&lt;1..274,2133..2177,3052..3159',\n",
       " 'seq': 'atatccagaaccctgaccctgccgtgtaccagctgagagactctaaatccagtgacaagtctgtctgcctattcaccgattttgattctcaaacaaatgtgtcacaaagtaaggattctgatgtgtatatcacagacaaaactgtgctagacatgaggtctatggacttcaagagcaacagtgctgtggcctggagcaacaaatctgactttgcatgtgcaaacgccttcaacaacagcattattccagaagacaccttcttccccagcccaggtaagggcagctttggtgccttcgcaggctgtttccttgcttcaggaatggccaggttctgcccagagctctggtcaatgatgtctaaaactcctctgattggtggtctcggccttatccattgccaccaaaaccctctttttactaagaaacagtgagccttgttctggcagtccagagaatgacacgggaaaaaagcagatgaagagaaggtggcaggagagggcacgtggcccagcctcagtctctccaactgagttcctgcctgcctgcctttgctcagactgtttgccccttactgctcttctaggcctcattctaagccccttctccaagttgcctctccttatttctccctgtctgccaaaaaatctttcccagctcactaagtcagtctcacgcagtcactcattaacccaccaatcactgattgtgccggcacatgaatgcaccaggtgttgaagtggaggaattaaaaagtcagatgaggggtgtgcccagaggaagcaccattctagttgggggagcccatctgtcagctgggaaaagtccaaataacttcagattggaatgtgttttaactcagggttgagaaaacagctaccttcaggacaaaagtcagggaagggctctctgaagaaatgctacttgaagataccagccctaccaagggcagggagaggaccctatagaggcctgggacaggagctcaatgagaaaggagaagagcagcaggcatgagttgaatgaaggaggcagggccgggtcacagggccttctaggccatgagagggtagacagtattctaaggacgccagaaagctgttgatcggcttcaagcaggggagggacacctaatttgcttttcttttttttttttttttttttttttttttttgagatggagttttgctcttgttgcccaggctggagtgcaatggtgcatcttggctcactgcaacctccgcctcccaggttcaagtgattctcctgcctcagcctcccgagtagctgagattacaggcacccgccaccatgcctggctaattttttgtatttttagtagagacagggtttcactatgttggccaggctggtctcgaactcctgacctcaggtgatccacccgcttcagcctcccaaagtgctgggattacaggcgtgagccaccacacccggcctgcttttcttaaagatcaatctgagtgctgtacggagagtgggttgtaagccaagagtagaagcagaaagggagcagttgcagcagagagatgatggaggcctgggcagggtggtggcagggaggtaaccaacaccattcaggtttcaaaggtagaaccatgcagggatgagaaagcaaagaggggatcaaggaaggcagctggattttggcctgagcagctgagtcaatgatagtgccgtttactaagaagaaaccaaggaaaaaatttggggtgcagggatcaaaactttttggaacatatgaaagtacgtgtttatactctttatggcccttgtcactatgtatgcctcgctgcctccattggactctagaatgaagccaggcaagagcagggtctatgtgtgatggcacatgtggccagggtcatgcaacatgtactttgtacaaacagtgtatattgagtaaatagaaatggtgtccaggagccgaggtatcggtcctgccagggccaggggctctccctagcaggtgctcatatgctgtaagttccctccagatctctccacaaggaggcatggaaaggctgtagttgttcacctgcccaagaactaggaggtctggggtgggagagtcagcctgctctggatgctgaaagaatgtctgtttttccttttagaaagttcctgtgatgtcaagctggtcgagaaaagctttgaaacaggtaagacaggggtctagcctgggtttgcacaggattgcggaagtgatgaacccgcaataaccctgcctggatgagggagtgggaagaaattagtagatgtgggaatgaatgatgaggaatggaaacagcggttcaagacctgcccagagctgggtggggtctctcctgaatccctctcaccatctctgactttccattctaagcactttgaggatgagtttctagcttcaatagaccaaggactctctcctaggcctctgtattcctttcaacagctccactgtcaagagagccagagagagcttctgggtggcccagctgtgaaatttctgagtcccttagggatagccctaaacgaaccagatcatcctgaggacagccaagaggttttgccttctttcaagacaagcaacagtactcacataggctgtgggcaatggtcctgtctctcaagaatcccctgccactcctcacacccaccctgggcccatattcatttccatttgagttgttcttattgagtcatccttcctgtggtagcggaactcactaaggggcccatctggacccgaggtattgtgatgataaattctgagcacctaccccatccccagaagggctcagaaataaaataagagccaagtctagtcggtgtttcctgtcttgaaacacaatactgttggccctggaagaatgcacagaatctgtttgtaaggggatatgcacagaagctgcaagggacaggaggtgcaggagctgcaggcctcccccacccagcctgctctgccttggggaaaaccgtgggtgtgtcctgcaggccatgcaggcctgggacatgcaagcccataaccgctgtggcctcttggttttacagatacgaacctaaactttcaaaacctgtcagtgattgggttccgaatcctcctcctgaaagtggccgggtttaatctgctcatgacgctgcggctgtggtccagctgaggtgaggggccttgaagctgggagtggggtttagggacgcgggtctctgggtgcatcctaagctctgagagcaaacctccctgcagggtcttgcttttaagtccaaagcctgagcccaccaaactctcctacttcttcctgttacaaattcctcttgtgcaataataatggcctgaaacgctgtaaaatatcctcatttcagccgcctcagttgcacttctcccctatgaggtaggaagaacagttgtttagaaacgaagaaactgaggccccacagctaatgagtggaggaagagagacacttgtgtacaccacatgccttgtgttgtacttctctcaccgtgtaacctcctcatgtcctctctccccagtacggctctcttagctcagtagaaagaagacattacactcatattacaccccaatcctggctagagtctccgcaccctcctcccccagggtccccagtcgtcttgctgacaactgcatcctgttccatcaccatcaaaaaaaaactccaggctgggtgcgggggctcacacctgtaatcccagcactttgggaggcagaggcaggaggagcacaggagctggagaccagcctgggcaacacagggagaccccgcctctacaaaaagtgaaaaaattaaccaggtgtggtgctgcacacctgtagtcccagctacttaagaggctgagatgggaggatcgcttgagccctggaatgttgaggctacaatgagctgtgattgcgtcactgcactccagcctggaagacaaagcaagatcctgtctcaaataataaaaaaaataagaactccagggtacatttgctcctagaactctaccacatagccccaaacagagccatcaccatcacatccctaacagtcctgggtcttcctcagtgtccagcctgacttctgttcttcctcattccagatctgcaagattgtaagacagcctgtgctccctcgctccttcctctgcattgcccctcttctccctctccaaacagagggaactctcctacccccaaggaggtgaaagctgctaccacctctgtgcccccccggcaatgccaccaactggatcctacccgaatttatgattaagattgctgaagagctgccaaacactgctgccaccccctctgttcccttattgctgcttgtcactgcctgacattcacggcagaggcaaggctgctgcagcctcccctggctgtgcacattccctcctgctccccagagactgcctccgccatcccacagatgatggatcttcagtgggttctcttgggctctaggtcctgcagaatgttgtgaggggtttatttttttttaatagtgttcataaagaaatacatagtattcttcttctcaagacgtggggggaaattatctcattatcgaggccctgctatgctgtgtatctgggcgtgttgtatgtcctgctgccgatgccttc'}"
      ]
     },
     "execution_count": 131,
     "metadata": {},
     "output_type": "execute_result"
    }
   ],
   "source": [
    "trac"
   ]
  },
  {
   "cell_type": "code",
   "execution_count": 111,
   "id": "f0151254-f2e4-4fce-8886-ce6ecf261123",
   "metadata": {
    "execution": {
     "iopub.execute_input": "2022-09-22T23:21:11.414705Z",
     "iopub.status.busy": "2022-09-22T23:21:11.414367Z",
     "iopub.status.idle": "2022-09-22T23:21:11.418966Z",
     "shell.execute_reply": "2022-09-22T23:21:11.418406Z",
     "shell.execute_reply.started": "2022-09-22T23:21:11.414673Z"
    },
    "tags": []
   },
   "outputs": [
    {
     "data": {
      "text/plain": [
       "4626"
      ]
     },
     "execution_count": 111,
     "metadata": {},
     "output_type": "execute_result"
    }
   ],
   "source": [
    "22552132-22547506"
   ]
  },
  {
   "cell_type": "code",
   "execution_count": 117,
   "id": "ef6a7417-75c7-40b0-9a12-61405ada7875",
   "metadata": {
    "execution": {
     "iopub.execute_input": "2022-09-22T23:29:11.356514Z",
     "iopub.status.busy": "2022-09-22T23:29:11.356134Z",
     "iopub.status.idle": "2022-09-22T23:29:11.360569Z",
     "shell.execute_reply": "2022-09-22T23:29:11.360069Z",
     "shell.execute_reply.started": "2022-09-22T23:29:11.356490Z"
    },
    "tags": []
   },
   "outputs": [
    {
     "data": {
      "text/plain": [
       "'atatccagaaccctgaccct'"
      ]
     },
     "execution_count": 117,
     "metadata": {},
     "output_type": "execute_result"
    }
   ],
   "source": [
    "trac[\"seq\"][:20]"
   ]
  },
  {
   "cell_type": "code",
   "execution_count": 145,
   "id": "a6b6d22d-07fb-496d-a173-f9c1dc728383",
   "metadata": {
    "execution": {
     "iopub.execute_input": "2022-09-23T00:04:28.237932Z",
     "iopub.status.busy": "2022-09-23T00:04:28.237610Z",
     "iopub.status.idle": "2022-09-23T00:04:35.392487Z",
     "shell.execute_reply": "2022-09-23T00:04:35.391793Z",
     "shell.execute_reply.started": "2022-09-23T00:04:28.237902Z"
    },
    "tags": []
   },
   "outputs": [
    {
     "name": "stdout",
     "output_type": "stream",
     "text": [
      "https://www.ncbi.nlm.nih.gov//nuccore/NC_000016.10?report=genbank&from=84053763&to=84116942&strand=true\n",
      "https://www.ncbi.nlm.nih.gov/sviewer/viewer.fcgi?id=568815582&db=nuccore&report=genbank&conwithfeat=on&basic_feat=on&hide-cdd=on&from=84053763&to=84116942&strand=on&retmode=html&withmarkup=on&tool=portal&log$=seqview&maxdownloadsize=1000000\n",
      "162759\n",
      "done!\n"
     ]
    }
   ],
   "source": [
    "MBTPS1 = get_bp_and_cds(\"MBTPS1\")"
   ]
  },
  {
   "cell_type": "markdown",
   "id": "b1bc4a10-a60a-4d3f-8511-069ad59d5a65",
   "metadata": {},
   "source": [
    "It works for 3 \"common\" genes, does it work for more?\n",
    "\n",
    "One thing to note is that TRAC is kinda wack tho ... It does not start with the usual start codon \"atg\""
   ]
  },
  {
   "cell_type": "markdown",
   "id": "8e13c700-77b1-4f1e-8c2c-3fc8ed2fff5a",
   "metadata": {},
   "source": [
    "# Get PubMed for all Prabu Genes"
   ]
  },
  {
   "cell_type": "code",
   "execution_count": 146,
   "id": "1bab876c-71cc-4af8-b3c2-81cbf044572b",
   "metadata": {
    "execution": {
     "iopub.execute_input": "2022-09-23T00:04:55.935933Z",
     "iopub.status.busy": "2022-09-23T00:04:55.935557Z",
     "iopub.status.idle": "2022-09-23T00:04:55.939254Z",
     "shell.execute_reply": "2022-09-23T00:04:55.938719Z",
     "shell.execute_reply.started": "2022-09-23T00:04:55.935910Z"
    },
    "tags": []
   },
   "outputs": [],
   "source": [
    "gene_to_data = {}"
   ]
  },
  {
   "cell_type": "code",
   "execution_count": 147,
   "id": "d271c3a9-1e53-4660-a4c3-7cc980ab07e3",
   "metadata": {
    "execution": {
     "iopub.execute_input": "2022-09-23T00:04:58.540345Z",
     "iopub.status.busy": "2022-09-23T00:04:58.539935Z",
     "iopub.status.idle": "2022-09-23T00:11:41.141507Z",
     "shell.execute_reply": "2022-09-23T00:11:41.140753Z",
     "shell.execute_reply.started": "2022-09-23T00:04:58.540322Z"
    },
    "tags": []
   },
   "outputs": [
    {
     "name": "stdout",
     "output_type": "stream",
     "text": [
      "on ADIPOQ\n",
      "https://www.ncbi.nlm.nih.gov//nuccore/NC_000003.12?report=genbank&from=186842710&to=186858463\n",
      "https://www.ncbi.nlm.nih.gov/sviewer/viewer.fcgi?id=568815595&db=nuccore&report=genbank&conwithfeat=on&basic_feat=on&hide-cdd=on&from=186842710&to=186858463&strand=off&retmode=html&withmarkup=on&tool=portal&log$=seqview&maxdownloadsize=1000000\n",
      "52335\n",
      "done!\n",
      "on ZMPSTE24\n",
      "https://www.ncbi.nlm.nih.gov//nuccore/NC_000001.11?report=genbank&from=40258236&to=40294180\n",
      "https://www.ncbi.nlm.nih.gov/sviewer/viewer.fcgi?id=568815597&db=nuccore&report=genbank&conwithfeat=on&basic_feat=on&hide-cdd=on&from=40258236&to=40294180&strand=off&retmode=html&withmarkup=on&tool=portal&log$=seqview&maxdownloadsize=1000000\n",
      "99727\n",
      "done!\n",
      "on TRAC\n",
      "https://www.ncbi.nlm.nih.gov//nuccore/NC_000014.9?report=genbank&from=22547506&to=22552132\n",
      "https://www.ncbi.nlm.nih.gov/sviewer/viewer.fcgi?id=568815584&db=nuccore&report=genbank&conwithfeat=on&basic_feat=on&hide-cdd=on&from=22547506&to=22552132&strand=off&retmode=html&withmarkup=on&tool=portal&log$=seqview&maxdownloadsize=1000000\n",
      "22802\n",
      "done!\n",
      "on PNPLA3\n",
      "https://www.ncbi.nlm.nih.gov//nuccore/NC_000022.11?report=genbank&from=43923805&to=43947582\n",
      "https://www.ncbi.nlm.nih.gov/sviewer/viewer.fcgi?id=568815576&db=nuccore&report=genbank&conwithfeat=on&basic_feat=on&hide-cdd=on&from=43923805&to=43947582&strand=off&retmode=html&withmarkup=on&tool=portal&log$=seqview&maxdownloadsize=1000000\n",
      "64263\n",
      "done!\n",
      "on GPAM\n",
      "https://www.ncbi.nlm.nih.gov//nuccore/NC_000010.11?report=genbank&from=112149865&to=112227677&strand=true\n",
      "https://www.ncbi.nlm.nih.gov/sviewer/viewer.fcgi?id=568815588&db=nuccore&report=genbank&conwithfeat=on&basic_feat=on&hide-cdd=on&from=112149865&to=112227677&strand=on&retmode=html&withmarkup=on&tool=portal&log$=seqview&maxdownloadsize=1000000\n",
      "202122\n",
      "done!\n",
      "on TOR1A\n",
      "https://www.ncbi.nlm.nih.gov//nuccore/NC_000009.12?report=genbank&from=129812942&to=129824136&strand=true\n",
      "https://www.ncbi.nlm.nih.gov/sviewer/viewer.fcgi?id=568815589&db=nuccore&report=genbank&conwithfeat=on&basic_feat=on&hide-cdd=on&from=129812942&to=129824136&strand=on&retmode=html&withmarkup=on&tool=portal&log$=seqview&maxdownloadsize=1000000\n",
      "38547\n",
      "done!\n",
      "on PNPLA2\n",
      "https://www.ncbi.nlm.nih.gov//nuccore/NC_000011.10?report=genbank&from=818914&to=825573\n",
      "https://www.ncbi.nlm.nih.gov/sviewer/viewer.fcgi?id=568815587&db=nuccore&report=genbank&conwithfeat=on&basic_feat=on&hide-cdd=on&from=818914&to=825573&strand=off&retmode=html&withmarkup=on&tool=portal&log$=seqview&maxdownloadsize=1000000\n",
      "27942\n",
      "done!\n",
      "on HSD17B11\n",
      "https://www.ncbi.nlm.nih.gov//nuccore/NC_000004.12?report=genbank&from=87336515&to=87391188&strand=true\n",
      "https://www.ncbi.nlm.nih.gov/sviewer/viewer.fcgi?id=568815594&db=nuccore&report=genbank&conwithfeat=on&basic_feat=on&hide-cdd=on&from=87336515&to=87391188&strand=on&retmode=html&withmarkup=on&tool=portal&log$=seqview&maxdownloadsize=1000000\n",
      "135862\n",
      "done!\n",
      "on ACACA\n",
      "https://www.ncbi.nlm.nih.gov//nuccore/NC_000017.11?report=genbank&from=37084992&to=37406836&strand=true\n",
      "https://www.ncbi.nlm.nih.gov/sviewer/viewer.fcgi?id=568815581&db=nuccore&report=genbank&conwithfeat=on&basic_feat=on&hide-cdd=on&from=37084992&to=37406836&strand=on&retmode=html&withmarkup=on&tool=portal&log$=seqview&maxdownloadsize=1000000\n",
      "975272\n",
      "done!\n",
      "on HADHB\n",
      "https://www.ncbi.nlm.nih.gov//nuccore/NC_000002.12?report=genbank&from=26244939&to=26290465\n",
      "https://www.ncbi.nlm.nih.gov/sviewer/viewer.fcgi?id=568815596&db=nuccore&report=genbank&conwithfeat=on&basic_feat=on&hide-cdd=on&from=26244939&to=26290465&strand=off&retmode=html&withmarkup=on&tool=portal&log$=seqview&maxdownloadsize=1000000\n",
      "124989\n",
      "done!\n",
      "on PRKAA1\n",
      "https://www.ncbi.nlm.nih.gov//nuccore/NC_000005.10?report=genbank&from=40759389&to=40798374&strand=true\n",
      "https://www.ncbi.nlm.nih.gov/sviewer/viewer.fcgi?id=568815593&db=nuccore&report=genbank&conwithfeat=on&basic_feat=on&hide-cdd=on&from=40759389&to=40798374&strand=on&retmode=html&withmarkup=on&tool=portal&log$=seqview&maxdownloadsize=1000000\n",
      "128598\n",
      "done!\n",
      "on SUN1\n",
      "https://www.ncbi.nlm.nih.gov//nuccore/NC_000007.14?report=genbank&from=815557&to=874934\n",
      "https://www.ncbi.nlm.nih.gov/sviewer/viewer.fcgi?id=568815591&db=nuccore&report=genbank&conwithfeat=on&basic_feat=on&hide-cdd=on&from=815557&to=874934&strand=off&retmode=html&withmarkup=on&tool=portal&log$=seqview&maxdownloadsize=1000000\n",
      "465984\n",
      "done!\n",
      "on FAM169A\n",
      "https://www.ncbi.nlm.nih.gov//nuccore/NC_000005.10?report=genbank&from=74777574&to=74866966&strand=true\n",
      "https://www.ncbi.nlm.nih.gov/sviewer/viewer.fcgi?id=568815593&db=nuccore&report=genbank&conwithfeat=on&basic_feat=on&hide-cdd=on&from=74777574&to=74866966&strand=on&retmode=html&withmarkup=on&tool=portal&log$=seqview&maxdownloadsize=1000000\n",
      "262887\n",
      "done!\n",
      "on TM6SF2\n",
      "https://www.ncbi.nlm.nih.gov//nuccore/NC_000019.10?report=genbank&from=19264366&to=19273301&strand=true\n",
      "https://www.ncbi.nlm.nih.gov/sviewer/viewer.fcgi?id=568815579&db=nuccore&report=genbank&conwithfeat=on&basic_feat=on&hide-cdd=on&from=19264366&to=19273301&strand=on&retmode=html&withmarkup=on&tool=portal&log$=seqview&maxdownloadsize=1000000\n",
      "33118\n",
      "done!\n",
      "on MTARC1\n",
      "https://www.ncbi.nlm.nih.gov//nuccore/NC_000001.11?report=genbank&from=220786913&to=220819659\n",
      "https://www.ncbi.nlm.nih.gov/sviewer/viewer.fcgi?id=568815597&db=nuccore&report=genbank&conwithfeat=on&basic_feat=on&hide-cdd=on&from=220786913&to=220819659&strand=off&retmode=html&withmarkup=on&tool=portal&log$=seqview&maxdownloadsize=1000000\n",
      "102217\n",
      "done!\n",
      "on TOR1B\n",
      "https://www.ncbi.nlm.nih.gov//nuccore/NC_000009.12?report=genbank&from=129803184&to=129811281\n",
      "https://www.ncbi.nlm.nih.gov/sviewer/viewer.fcgi?id=568815589&db=nuccore&report=genbank&conwithfeat=on&basic_feat=on&hide-cdd=on&from=129803184&to=129811281&strand=off&retmode=html&withmarkup=on&tool=portal&log$=seqview&maxdownloadsize=1000000\n",
      "44123\n",
      "done!\n",
      "on ERLIN1\n",
      "https://www.ncbi.nlm.nih.gov//nuccore/NC_000010.11?report=genbank&from=100150094&to=100186029&strand=true\n",
      "https://www.ncbi.nlm.nih.gov/sviewer/viewer.fcgi?id=568815588&db=nuccore&report=genbank&conwithfeat=on&basic_feat=on&hide-cdd=on&from=100150094&to=100186029&strand=on&retmode=html&withmarkup=on&tool=portal&log$=seqview&maxdownloadsize=1000000\n",
      "124429\n",
      "done!\n",
      "on ALDH2\n",
      "https://www.ncbi.nlm.nih.gov//nuccore/NC_000012.12?report=genbank&from=111766933&to=111817532\n",
      "https://www.ncbi.nlm.nih.gov/sviewer/viewer.fcgi?id=568815586&db=nuccore&report=genbank&conwithfeat=on&basic_feat=on&hide-cdd=on&from=111766933&to=111817532&strand=off&retmode=html&withmarkup=on&tool=portal&log$=seqview&maxdownloadsize=1000000\n",
      "133317\n",
      "done!\n",
      "on HNF1A\n",
      "https://www.ncbi.nlm.nih.gov//nuccore/NC_000012.12?report=genbank&from=120978543&to=121002512\n",
      "https://www.ncbi.nlm.nih.gov/sviewer/viewer.fcgi?id=568815586&db=nuccore&report=genbank&conwithfeat=on&basic_feat=on&hide-cdd=on&from=120978543&to=121002512&strand=off&retmode=html&withmarkup=on&tool=portal&log$=seqview&maxdownloadsize=1000000\n",
      "87160\n",
      "done!\n",
      "on ACAA2\n",
      "https://www.ncbi.nlm.nih.gov//nuccore/NC_000018.10?report=genbank&from=49782164&to=49813533&strand=true\n",
      "https://www.ncbi.nlm.nih.gov/sviewer/viewer.fcgi?id=568815580&db=nuccore&report=genbank&conwithfeat=on&basic_feat=on&hide-cdd=on&from=49782164&to=49813533&strand=on&retmode=html&withmarkup=on&tool=portal&log$=seqview&maxdownloadsize=1000000\n",
      "81083\n",
      "done!\n",
      "on TOR1AIP1\n",
      "https://www.ncbi.nlm.nih.gov//nuccore/NC_000001.11?report=genbank&from=179882285&to=179920076\n",
      "https://www.ncbi.nlm.nih.gov/sviewer/viewer.fcgi?id=568815597&db=nuccore&report=genbank&conwithfeat=on&basic_feat=on&hide-cdd=on&from=179882285&to=179920076&strand=off&retmode=html&withmarkup=on&tool=portal&log$=seqview&maxdownloadsize=1000000\n",
      "101984\n",
      "done!\n",
      "on GRB14\n",
      "https://www.ncbi.nlm.nih.gov//nuccore/NC_000002.12?report=genbank&from=164492417&to=164621482&strand=true\n",
      "https://www.ncbi.nlm.nih.gov/sviewer/viewer.fcgi?id=568815596&db=nuccore&report=genbank&conwithfeat=on&basic_feat=on&hide-cdd=on&from=164492417&to=164621482&strand=on&retmode=html&withmarkup=on&tool=portal&log$=seqview&maxdownloadsize=1000000\n",
      "308870\n",
      "done!\n",
      "on APOE\n",
      "https://www.ncbi.nlm.nih.gov//nuccore/NC_000019.10?report=genbank&from=44905796&to=44909393\n",
      "https://www.ncbi.nlm.nih.gov/sviewer/viewer.fcgi?id=568815579&db=nuccore&report=genbank&conwithfeat=on&basic_feat=on&hide-cdd=on&from=44905796&to=44909393&strand=off&retmode=html&withmarkup=on&tool=portal&log$=seqview&maxdownloadsize=1000000\n",
      "32805\n",
      "done!\n",
      "on MTARC2\n",
      "https://www.ncbi.nlm.nih.gov//nuccore/NC_000001.11?report=genbank&from=220748322&to=220784815\n",
      "https://www.ncbi.nlm.nih.gov/sviewer/viewer.fcgi?id=568815597&db=nuccore&report=genbank&conwithfeat=on&basic_feat=on&hide-cdd=on&from=220748322&to=220784815&strand=off&retmode=html&withmarkup=on&tool=portal&log$=seqview&maxdownloadsize=1000000\n",
      "108681\n",
      "done!\n",
      "on ADH1B\n",
      "https://www.ncbi.nlm.nih.gov//nuccore/NC_000004.12?report=genbank&from=99304971&to=99321401&strand=true\n",
      "https://www.ncbi.nlm.nih.gov/sviewer/viewer.fcgi?id=568815594&db=nuccore&report=genbank&conwithfeat=on&basic_feat=on&hide-cdd=on&from=99304971&to=99321401&strand=on&retmode=html&withmarkup=on&tool=portal&log$=seqview&maxdownloadsize=1000000\n",
      "53224\n",
      "done!\n",
      "on TRIB1\n",
      "https://www.ncbi.nlm.nih.gov//nuccore/NC_000008.11?report=genbank&from=125430358&to=125438403\n",
      "https://www.ncbi.nlm.nih.gov/sviewer/viewer.fcgi?id=568815590&db=nuccore&report=genbank&conwithfeat=on&basic_feat=on&hide-cdd=on&from=125430358&to=125438403&strand=off&retmode=html&withmarkup=on&tool=portal&log$=seqview&maxdownloadsize=1000000\n",
      "33597\n",
      "done!\n",
      "on PPARG\n",
      "https://www.ncbi.nlm.nih.gov//nuccore/NC_000003.12?report=genbank&from=12287368&to=12434344\n",
      "https://www.ncbi.nlm.nih.gov/sviewer/viewer.fcgi?id=568815595&db=nuccore&report=genbank&conwithfeat=on&basic_feat=on&hide-cdd=on&from=12287368&to=12434344&strand=off&retmode=html&withmarkup=on&tool=portal&log$=seqview&maxdownloadsize=1000000\n",
      "380723\n",
      "done!\n",
      "on MLXIP\n",
      "https://www.ncbi.nlm.nih.gov//nuccore/NC_000012.12?report=genbank&from=122078756&to=122147344\n",
      "https://www.ncbi.nlm.nih.gov/sviewer/viewer.fcgi?id=568815586&db=nuccore&report=genbank&conwithfeat=on&basic_feat=on&hide-cdd=on&from=122078756&to=122147344&strand=off&retmode=html&withmarkup=on&tool=portal&log$=seqview&maxdownloadsize=1000000\n",
      "191121\n",
      "done!\n",
      "on LIPE\n",
      "https://www.ncbi.nlm.nih.gov//nuccore/NC_000019.10?report=genbank&from=42401514&to=42427388&strand=true\n",
      "https://www.ncbi.nlm.nih.gov/sviewer/viewer.fcgi?id=568815579&db=nuccore&report=genbank&conwithfeat=on&basic_feat=on&hide-cdd=on&from=42401514&to=42427388&strand=on&retmode=html&withmarkup=on&tool=portal&log$=seqview&maxdownloadsize=1000000\n",
      "109475\n",
      "done!\n",
      "on LMNA\n",
      "https://www.ncbi.nlm.nih.gov//nuccore/NC_000001.11?report=genbank&from=156082573&to=156140081\n",
      "https://www.ncbi.nlm.nih.gov/sviewer/viewer.fcgi?id=568815597&db=nuccore&report=genbank&conwithfeat=on&basic_feat=on&hide-cdd=on&from=156082573&to=156140081&strand=off&retmode=html&withmarkup=on&tool=portal&log$=seqview&maxdownloadsize=1000000\n",
      "171438\n",
      "done!\n",
      "on TOR1AIP2\n",
      "https://www.ncbi.nlm.nih.gov//nuccore/NC_000001.11?report=genbank&from=179839976&to=179877803&strand=true\n",
      "https://www.ncbi.nlm.nih.gov/sviewer/viewer.fcgi?id=568815597&db=nuccore&report=genbank&conwithfeat=on&basic_feat=on&hide-cdd=on&from=179839976&to=179877803&strand=on&retmode=html&withmarkup=on&tool=portal&log$=seqview&maxdownloadsize=1000000\n",
      "130630\n",
      "done!\n",
      "on MBTPS1\n",
      "https://www.ncbi.nlm.nih.gov//nuccore/NC_000016.10?report=genbank&from=84053763&to=84116942&strand=true\n",
      "https://www.ncbi.nlm.nih.gov/sviewer/viewer.fcgi?id=568815582&db=nuccore&report=genbank&conwithfeat=on&basic_feat=on&hide-cdd=on&from=84053763&to=84116942&strand=on&retmode=html&withmarkup=on&tool=portal&log$=seqview&maxdownloadsize=1000000\n",
      "162759\n",
      "done!\n",
      "on GCKR\n",
      "https://www.ncbi.nlm.nih.gov//nuccore/NC_000002.12?report=genbank&from=27496839&to=27523684\n",
      "https://www.ncbi.nlm.nih.gov/sviewer/viewer.fcgi?id=568815596&db=nuccore&report=genbank&conwithfeat=on&basic_feat=on&hide-cdd=on&from=27496839&to=27523684&strand=off&retmode=html&withmarkup=on&tool=portal&log$=seqview&maxdownloadsize=1000000\n",
      "85575\n",
      "done!\n",
      "on MTTP\n",
      "https://www.ncbi.nlm.nih.gov//nuccore/NC_000004.12?report=genbank&from=99564130&to=99623997\n",
      "https://www.ncbi.nlm.nih.gov/sviewer/viewer.fcgi?id=568815594&db=nuccore&report=genbank&conwithfeat=on&basic_feat=on&hide-cdd=on&from=99564130&to=99623997&strand=off&retmode=html&withmarkup=on&tool=portal&log$=seqview&maxdownloadsize=1000000\n",
      "153894\n",
      "done!\n",
      "on INSR\n",
      "https://www.ncbi.nlm.nih.gov//nuccore/NC_000019.10?report=genbank&from=7112265&to=7294414&strand=true\n",
      "https://www.ncbi.nlm.nih.gov/sviewer/viewer.fcgi?id=568815579&db=nuccore&report=genbank&conwithfeat=on&basic_feat=on&hide-cdd=on&from=7112265&to=7294414&strand=on&retmode=html&withmarkup=on&tool=portal&log$=seqview&maxdownloadsize=1000000\n",
      "428287\n",
      "done!\n",
      "on SERPINA1\n",
      "https://www.ncbi.nlm.nih.gov//nuccore/NC_000014.9?report=genbank&from=94376747&to=94390635&strand=true\n",
      "https://www.ncbi.nlm.nih.gov/sviewer/viewer.fcgi?id=568815584&db=nuccore&report=genbank&conwithfeat=on&basic_feat=on&hide-cdd=on&from=94376747&to=94390635&strand=on&retmode=html&withmarkup=on&tool=portal&log$=seqview&maxdownloadsize=1000000\n",
      "84919\n",
      "done!\n",
      "on CPT1A\n",
      "https://www.ncbi.nlm.nih.gov//nuccore/NC_000011.10?report=genbank&from=68754620&to=68844277&strand=true\n",
      "https://www.ncbi.nlm.nih.gov/sviewer/viewer.fcgi?id=568815587&db=nuccore&report=genbank&conwithfeat=on&basic_feat=on&hide-cdd=on&from=68754620&to=68844277&strand=on&retmode=html&withmarkup=on&tool=portal&log$=seqview&maxdownloadsize=1000000\n",
      "228046\n",
      "done!\n",
      "on MLXIPL\n",
      "https://www.ncbi.nlm.nih.gov//nuccore/NC_000007.14?report=genbank&from=73593202&to=73647907&strand=true\n",
      "https://www.ncbi.nlm.nih.gov/sviewer/viewer.fcgi?id=568815591&db=nuccore&report=genbank&conwithfeat=on&basic_feat=on&hide-cdd=on&from=73593202&to=73647907&strand=on&retmode=html&withmarkup=on&tool=portal&log$=seqview&maxdownloadsize=1000000\n",
      "197561\n",
      "done!\n",
      "on FASN\n",
      "https://www.ncbi.nlm.nih.gov//nuccore/NC_000017.11?report=genbank&from=82078338&to=82098236&strand=true\n",
      "https://www.ncbi.nlm.nih.gov/sviewer/viewer.fcgi?id=568815581&db=nuccore&report=genbank&conwithfeat=on&basic_feat=on&hide-cdd=on&from=82078338&to=82098236&strand=on&retmode=html&withmarkup=on&tool=portal&log$=seqview&maxdownloadsize=1000000\n",
      "71821\n",
      "done!\n",
      "on TMPO\n",
      "https://www.ncbi.nlm.nih.gov//nuccore/NC_000012.12?report=genbank&from=98515573&to=98550351\n",
      "https://www.ncbi.nlm.nih.gov/sviewer/viewer.fcgi?id=568815586&db=nuccore&report=genbank&conwithfeat=on&basic_feat=on&hide-cdd=on&from=98515573&to=98550351&strand=off&retmode=html&withmarkup=on&tool=portal&log$=seqview&maxdownloadsize=1000000\n",
      "108722\n",
      "done!\n",
      "on LYPLAL1\n",
      "https://www.ncbi.nlm.nih.gov//nuccore/NC_000001.11?report=genbank&from=219173878&to=219445496\n",
      "https://www.ncbi.nlm.nih.gov/sviewer/viewer.fcgi?id=568815597&db=nuccore&report=genbank&conwithfeat=on&basic_feat=on&hide-cdd=on&from=219173878&to=219445496&strand=off&retmode=html&withmarkup=on&tool=portal&log$=seqview&maxdownloadsize=1000000\n",
      "657217\n",
      "done!\n",
      "on SREBF1\n",
      "https://www.ncbi.nlm.nih.gov//nuccore/NC_000017.11?report=genbank&from=17811334&to=17836986&strand=true\n",
      "https://www.ncbi.nlm.nih.gov/sviewer/viewer.fcgi?id=568815581&db=nuccore&report=genbank&conwithfeat=on&basic_feat=on&hide-cdd=on&from=17811334&to=17836986&strand=on&retmode=html&withmarkup=on&tool=portal&log$=seqview&maxdownloadsize=1000000\n",
      "166498\n",
      "done!\n",
      "on MBOAT7\n",
      "https://www.ncbi.nlm.nih.gov//nuccore/NC_000019.10?report=genbank&from=54173415&to=54189580&strand=true\n",
      "https://www.ncbi.nlm.nih.gov/sviewer/viewer.fcgi?id=568815579&db=nuccore&report=genbank&conwithfeat=on&basic_feat=on&hide-cdd=on&from=54173415&to=54189580&strand=on&retmode=html&withmarkup=on&tool=portal&log$=seqview&maxdownloadsize=1000000\n",
      "67912\n",
      "done!\n",
      "on HSD17B13\n",
      "https://www.ncbi.nlm.nih.gov//nuccore/NC_000004.12?report=genbank&from=87303794&to=87322882&strand=true\n",
      "https://www.ncbi.nlm.nih.gov/sviewer/viewer.fcgi?id=568815594&db=nuccore&report=genbank&conwithfeat=on&basic_feat=on&hide-cdd=on&from=87303794&to=87322882&strand=on&retmode=html&withmarkup=on&tool=portal&log$=seqview&maxdownloadsize=1000000\n",
      "58655\n",
      "done!\n",
      "on CPT2\n",
      "https://www.ncbi.nlm.nih.gov//nuccore/NC_000001.11?report=genbank&from=53196824&to=53214197\n",
      "https://www.ncbi.nlm.nih.gov/sviewer/viewer.fcgi?id=568815597&db=nuccore&report=genbank&conwithfeat=on&basic_feat=on&hide-cdd=on&from=53196824&to=53214197&strand=off&retmode=html&withmarkup=on&tool=portal&log$=seqview&maxdownloadsize=1000000\n",
      "60691\n",
      "done!\n",
      "on APOB\n",
      "https://www.ncbi.nlm.nih.gov//nuccore/NC_000002.12?report=genbank&from=21001429&to=21044073&strand=true\n",
      "https://www.ncbi.nlm.nih.gov/sviewer/viewer.fcgi?id=568815596&db=nuccore&report=genbank&conwithfeat=on&basic_feat=on&hide-cdd=on&from=21001429&to=21044073&strand=on&retmode=html&withmarkup=on&tool=portal&log$=seqview&maxdownloadsize=1000000\n",
      "113258\n",
      "done!\n",
      "on UCP1\n",
      "https://www.ncbi.nlm.nih.gov//nuccore/NC_000004.12?report=genbank&from=140559431&to=140568961&strand=true\n",
      "https://www.ncbi.nlm.nih.gov/sviewer/viewer.fcgi?id=568815594&db=nuccore&report=genbank&conwithfeat=on&basic_feat=on&hide-cdd=on&from=140559431&to=140568961&strand=on&retmode=html&withmarkup=on&tool=portal&log$=seqview&maxdownloadsize=1000000\n",
      "40806\n",
      "done!\n",
      "47\n"
     ]
    }
   ],
   "source": [
    "with open(\"../data/genes.list\",\"r\") as f:\n",
    "    for l in f:\n",
    "        l = l.strip()\n",
    "        l = l.split()\n",
    "        l = l[0]\n",
    "        if l not in gene_to_data:\n",
    "            print(\"on {}\".format(l))\n",
    "            gene_to_data[l] = get_bp_and_cds(l)\n",
    "print(len(gene_to_data))"
   ]
  },
  {
   "cell_type": "code",
   "execution_count": 154,
   "id": "f049761d-9eea-4a17-ad5c-66fbb7f237a6",
   "metadata": {
    "execution": {
     "iopub.execute_input": "2022-09-23T00:18:48.836906Z",
     "iopub.status.busy": "2022-09-23T00:18:48.836589Z",
     "iopub.status.idle": "2022-09-23T00:18:48.840182Z",
     "shell.execute_reply": "2022-09-23T00:18:48.839665Z",
     "shell.execute_reply.started": "2022-09-23T00:18:48.836884Z"
    },
    "tags": []
   },
   "outputs": [],
   "source": [
    "# sys.setrecursionlimit(100000)"
   ]
  },
  {
   "cell_type": "code",
   "execution_count": 155,
   "id": "e6b22bdd-2d4f-497f-b4cb-18053a53c48f",
   "metadata": {
    "execution": {
     "iopub.execute_input": "2022-09-23T00:18:51.003667Z",
     "iopub.status.busy": "2022-09-23T00:18:51.003301Z",
     "iopub.status.idle": "2022-09-23T00:18:51.074722Z",
     "shell.execute_reply": "2022-09-23T00:18:51.074138Z",
     "shell.execute_reply.started": "2022-09-23T00:18:51.003643Z"
    },
    "tags": []
   },
   "outputs": [],
   "source": [
    "# with open(\"../data/gene_to_data.pickle\",\"wb+\") as f:\n",
    "#     dump(gene_to_data,f)"
   ]
  },
  {
   "cell_type": "code",
   "execution_count": 28,
   "id": "138e68b8-7b82-4286-b227-6e89ca895a20",
   "metadata": {
    "execution": {
     "iopub.execute_input": "2022-09-22T21:49:29.692233Z",
     "iopub.status.busy": "2022-09-22T21:49:29.691935Z",
     "iopub.status.idle": "2022-09-22T21:49:29.695279Z",
     "shell.execute_reply": "2022-09-22T21:49:29.694715Z",
     "shell.execute_reply.started": "2022-09-22T21:49:29.692192Z"
    },
    "tags": []
   },
   "outputs": [],
   "source": [
    "# https://www.ncbi.nlm.nih.gov/gene/?term=TM6SF2"
   ]
  }
 ],
 "metadata": {
  "kernelspec": {
   "display_name": "Python 3 (ipykernel)",
   "language": "python",
   "name": "python3"
  },
  "language_info": {
   "codemirror_mode": {
    "name": "ipython",
    "version": 3
   },
   "file_extension": ".py",
   "mimetype": "text/x-python",
   "name": "python",
   "nbconvert_exporter": "python",
   "pygments_lexer": "ipython3",
   "version": "3.9.13"
  }
 },
 "nbformat": 4,
 "nbformat_minor": 5
}
