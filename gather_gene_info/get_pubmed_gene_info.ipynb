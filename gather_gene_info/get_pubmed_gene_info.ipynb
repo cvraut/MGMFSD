{
 "cells": [
  {
   "cell_type": "markdown",
   "id": "ac8cafbf-9f84-4e18-9fd9-63c0887d227c",
   "metadata": {},
   "source": [
    "# Get PubMed Gene Info"
   ]
  },
  {
   "cell_type": "markdown",
   "id": "c38a61ea-291d-49e7-9950-1fcc82e14fc5",
   "metadata": {},
   "source": [
    "So Pubmed is a nice website which has many databases all working together to fulfill search queries.\n",
    "\n",
    "The one I care about is given a human gene name --> get the PubMed gene-id --> use the gene_id to get the gene page --> use the gene page to get the sequence information from genbank.\n",
    "\n",
    "The genbank does not have an api & all their data files can be found through [their ftp server](https://ftp.ncbi.nlm.nih.gov/genbank/release.notes/). However, there is an issue as human and plant and all sorts of organisms are mixed together. Parsing this will be a pain :/\n",
    "\n",
    "I will opt to be an asshole & use the human apis as at least I can figure out how they work & they get me to the solution."
   ]
  },
  {
   "cell_type": "markdown",
   "id": "e2b36812-34b8-48ba-b069-9f003408387f",
   "metadata": {
    "execution": {
     "iopub.execute_input": "2022-09-22T16:22:40.798273Z",
     "iopub.status.busy": "2022-09-22T16:22:40.797746Z",
     "iopub.status.idle": "2022-09-22T16:22:40.802654Z",
     "shell.execute_reply": "2022-09-22T16:22:40.802017Z",
     "shell.execute_reply.started": "2022-09-22T16:22:40.798122Z"
    },
    "tags": []
   },
   "source": [
    "# Imports and Globals 🌎"
   ]
  },
  {
   "cell_type": "code",
   "execution_count": 3,
   "id": "bfc152c6-7703-4760-a55e-11c46aea13b3",
   "metadata": {
    "execution": {
     "iopub.execute_input": "2022-09-22T16:26:55.866204Z",
     "iopub.status.busy": "2022-09-22T16:26:55.865876Z",
     "iopub.status.idle": "2022-09-22T16:26:55.887892Z",
     "shell.execute_reply": "2022-09-22T16:26:55.887276Z",
     "shell.execute_reply.started": "2022-09-22T16:26:55.866181Z"
    },
    "tags": []
   },
   "outputs": [],
   "source": [
    "import pandas as pd\n",
    "import requests\n",
    "from bs4 import BeautifulSoup\n",
    "import random\n",
    "import regex as re"
   ]
  },
  {
   "cell_type": "markdown",
   "id": "8f711894-115e-4717-9c96-807a6e5b153d",
   "metadata": {
    "jp-MarkdownHeadingCollapsed": true,
    "tags": []
   },
   "source": [
    "# Make test Request to Gene Cards"
   ]
  },
  {
   "cell_type": "code",
   "execution_count": 5,
   "id": "6187f480-9801-435c-9a88-1521195220a6",
   "metadata": {
    "execution": {
     "iopub.execute_input": "2022-09-22T16:27:22.593725Z",
     "iopub.status.busy": "2022-09-22T16:27:22.593413Z",
     "iopub.status.idle": "2022-09-22T16:27:23.361643Z",
     "shell.execute_reply": "2022-09-22T16:27:23.360898Z",
     "shell.execute_reply.started": "2022-09-22T16:27:22.593703Z"
    },
    "tags": []
   },
   "outputs": [
    {
     "name": "stdout",
     "output_type": "stream",
     "text": [
      "1\n",
      "5\n",
      "<div class=\"gc-subsection\">\n",
      "<div class=\"gc-subsection-header\">\n",
      "<h3>Entrez Gene Summary for TM6SF2 Gene</h3>\n",
      "<a class=\"gc-ga-link glyphicon glyphicon-new-window\" data-ga-action=\"ENT\" data-ga-source-accession=\"53345\" href=\"https://www.ncbi.nlm.nih.gov/gene/53345#summary\" target=\"_blank\" title=\"See NCBI Entrez Gene entry for TM6SF2\"></a>\n",
      "</div>\n",
      "<ul class=\"list-unstyled\">\n",
      "<li>\n",
      "<p>Enables identical protein binding activity. Involved in regulation of lipid metabolic process. Located in endoplasmic reticulum membrane and endoplasmic reticulum-Golgi intermediate compartment membrane. [provided by Alliance of Genome Resources, Apr 2022]</p>\n",
      "</li>\n",
      "</ul>\n",
      "</div>\n",
      "[<small>\n",
      "                    Gene\n",
      "                        <span id=\"geneDescription\" title=\"Transmembrane 6 Superfamily Member 2\">- Transmembrane 6 Superfamily Member 2</span>\n",
      "</small>]\n"
     ]
    }
   ],
   "source": [
    "selected_gene = \"TM6SF2\"\n",
    "genecard_url = 'https://www.genecards.org/cgi-bin/carddisp.pl?gene={}'\n",
    "\n",
    "selected_url = genecard_url.format(selected_gene)\n",
    "\n",
    "payload={}\n",
    "\n",
    "UAS = (\"Mozilla/5.0 (Windows NT 6.1; WOW64; rv:40.0) Gecko/20100101 Firefox/40.1\", \n",
    "       \"Mozilla/5.0 (Windows NT 6.3; rv:36.0) Gecko/20100101 Firefox/36.0\",\n",
    "       \"Mozilla/5.0 (Macintosh; Intel Mac OS X 10_10; rv:33.0) Gecko/20100101 Firefox/33.0\",\n",
    "       \"Mozilla/5.0 (Windows NT 6.1) AppleWebKit/537.36 (KHTML, like Gecko) Chrome/41.0.2228.0 Safari/537.36\",\n",
    "       \"Mozilla/5.0 (Macintosh; Intel Mac OS X 10_10_1) AppleWebKit/537.36 (KHTML, like Gecko) Chrome/41.0.2227.1 Safari/537.36\",\n",
    "       \"Mozilla/5.0 (Windows NT 6.1; WOW64) AppleWebKit/537.36 (KHTML, like Gecko) Chrome/41.0.2227.0 Safari/537.36\",\n",
    "       )\n",
    "\n",
    "ua = UAS[random.randrange(len(UAS))]\n",
    "headers = {\n",
    "  'user-agent':ua\n",
    "}\n",
    "\n",
    "response = requests.request(\"GET\", selected_url, headers=headers, data=payload)\n",
    "\n",
    "#print(response.text)\n",
    "\n",
    "soup = BeautifulSoup(response.text, 'html.parser')\n",
    "all_divs = soup.findAll(\"section\",id=\"summaries\")\n",
    "print(len(all_divs))\n",
    "#sub_soup = BeautifulSoup(all_divs[0],\"html.parser\")\n",
    "all_subsections = all_divs[0].findAll(\"div\",class_=\"gc-subsection\")\n",
    "print(len(all_subsections))\n",
    "print(all_subsections[0])\n",
    "\n",
    "h1 = soup.findAll(\"h1\",id=\"geneSymbol\")\n",
    "if h1 and h1[0]:\n",
    "  print(h1[0].findAll(\"small\"))"
   ]
  },
  {
   "cell_type": "markdown",
   "id": "d7bd939d-3583-45c2-a88e-433322abab8a",
   "metadata": {},
   "source": [
    "ok the requests & bs4 is setup correctly"
   ]
  },
  {
   "cell_type": "markdown",
   "id": "6efc0bfa-3959-4817-af73-1ab5ce53a329",
   "metadata": {},
   "source": [
    "# Make Test Request to PubMed"
   ]
  },
  {
   "cell_type": "markdown",
   "id": "3a5c0f16-1d8f-4900-ab02-7948989ecf8b",
   "metadata": {},
   "source": [
    "## Incremental Dev"
   ]
  },
  {
   "cell_type": "code",
   "execution_count": 6,
   "id": "3b6991f1-4dd9-4e04-8632-939d12e15a73",
   "metadata": {
    "execution": {
     "iopub.execute_input": "2022-09-22T16:29:11.871056Z",
     "iopub.status.busy": "2022-09-22T16:29:11.870689Z",
     "iopub.status.idle": "2022-09-22T16:29:14.094964Z",
     "shell.execute_reply": "2022-09-22T16:29:14.094219Z",
     "shell.execute_reply.started": "2022-09-22T16:29:11.871008Z"
    },
    "tags": []
   },
   "outputs": [],
   "source": [
    "response = requests.request(\"GET\", \"https://www.ncbi.nlm.nih.gov/gene/?term=TM6SF2\", headers=headers, data=payload)"
   ]
  },
  {
   "cell_type": "code",
   "execution_count": 11,
   "id": "aad9e506-dc52-44c5-87c0-e7bb0e18ba9d",
   "metadata": {
    "execution": {
     "iopub.execute_input": "2022-09-22T16:31:55.843651Z",
     "iopub.status.busy": "2022-09-22T16:31:55.842449Z",
     "iopub.status.idle": "2022-09-22T16:31:56.037177Z",
     "shell.execute_reply": "2022-09-22T16:31:56.033888Z",
     "shell.execute_reply.started": "2022-09-22T16:31:55.843553Z"
    },
    "tags": []
   },
   "outputs": [],
   "source": [
    "soup = BeautifulSoup(response.text, 'html.parser')\n",
    "titles = soup.findAll(\"a\",id=\"feat_gene_title\")"
   ]
  },
  {
   "cell_type": "code",
   "execution_count": 12,
   "id": "dc9da939-b048-40b5-800d-0a206d61c7d2",
   "metadata": {
    "execution": {
     "iopub.execute_input": "2022-09-22T16:31:57.729999Z",
     "iopub.status.busy": "2022-09-22T16:31:57.729530Z",
     "iopub.status.idle": "2022-09-22T16:31:57.739788Z",
     "shell.execute_reply": "2022-09-22T16:31:57.737989Z",
     "shell.execute_reply.started": "2022-09-22T16:31:57.729969Z"
    },
    "tags": []
   },
   "outputs": [
    {
     "data": {
      "text/plain": [
       "[<a data-ga-action=\"click_feat_title\" data-ga-label=\"feat_gene_title\" href=\"https://www.ncbi.nlm.nih.gov/gene/53345\" id=\"feat_gene_title\" ref=\"discoId=KnownItemSensor&amp;itemType=gene&amp;itemId=gene:53345&amp;linkPos=0\">TM6SF2 – transmembrane 6 superfamily member 2</a>]"
      ]
     },
     "execution_count": 12,
     "metadata": {},
     "output_type": "execute_result"
    }
   ],
   "source": [
    "titles"
   ]
  },
  {
   "cell_type": "code",
   "execution_count": 15,
   "id": "6cc5a53f-35b2-4d04-8ca2-d62c1eab8423",
   "metadata": {
    "execution": {
     "iopub.execute_input": "2022-09-22T16:46:57.201626Z",
     "iopub.status.busy": "2022-09-22T16:46:57.201289Z",
     "iopub.status.idle": "2022-09-22T16:46:57.209313Z",
     "shell.execute_reply": "2022-09-22T16:46:57.208652Z",
     "shell.execute_reply.started": "2022-09-22T16:46:57.201601Z"
    },
    "tags": []
   },
   "outputs": [
    {
     "data": {
      "text/plain": [
       "[<p class=\"ncbi-doc-authors\">\n",
       " <a data-ga-action=\"click_feat_taxname\" data-ga-label=\"feat_taxname\" href=\"https://www.ncbi.nlm.nih.gov/labs/data-hub/taxonomy/9606\"><span data-item-id=\"taxonomy:9606\" data-item-type=\"taxon\"><i>Homo sapiens</i></span> (human)</a>\n",
       " </p>]"
      ]
     },
     "execution_count": 15,
     "metadata": {},
     "output_type": "execute_result"
    }
   ],
   "source": [
    "taxons = soup.findAll(\"p\",class_=\"ncbi-doc-authors\")\n",
    "taxons"
   ]
  },
  {
   "cell_type": "code",
   "execution_count": 16,
   "id": "0cbe277b-fa3d-425a-8590-b562938c7afb",
   "metadata": {
    "execution": {
     "iopub.execute_input": "2022-09-22T16:49:05.463239Z",
     "iopub.status.busy": "2022-09-22T16:49:05.461613Z",
     "iopub.status.idle": "2022-09-22T16:49:05.571362Z",
     "shell.execute_reply": "2022-09-22T16:49:05.566236Z",
     "shell.execute_reply.started": "2022-09-22T16:49:05.463045Z"
    },
    "tags": []
   },
   "outputs": [
    {
     "data": {
      "text/plain": [
       "'https://www.ncbi.nlm.nih.gov/gene/53345'"
      ]
     },
     "execution_count": 16,
     "metadata": {},
     "output_type": "execute_result"
    }
   ],
   "source": [
    "titles[0][\"href\"]"
   ]
  },
  {
   "cell_type": "code",
   "execution_count": 19,
   "id": "f66a0eda-825c-4e8c-9d66-e00f9d0ed754",
   "metadata": {
    "execution": {
     "iopub.execute_input": "2022-09-22T16:50:54.784594Z",
     "iopub.status.busy": "2022-09-22T16:50:54.784273Z",
     "iopub.status.idle": "2022-09-22T16:50:54.789168Z",
     "shell.execute_reply": "2022-09-22T16:50:54.788644Z",
     "shell.execute_reply.started": "2022-09-22T16:50:54.784570Z"
    },
    "tags": []
   },
   "outputs": [
    {
     "data": {
      "text/plain": [
       "'TM6SF2'"
      ]
     },
     "execution_count": 19,
     "metadata": {},
     "output_type": "execute_result"
    }
   ],
   "source": [
    "titles[0].contents[0].split()[0]"
   ]
  },
  {
   "cell_type": "code",
   "execution_count": 22,
   "id": "4dd3dd19-bfd8-4944-8ea4-c64079d3d84e",
   "metadata": {
    "execution": {
     "iopub.execute_input": "2022-09-22T16:51:37.715831Z",
     "iopub.status.busy": "2022-09-22T16:51:37.715531Z",
     "iopub.status.idle": "2022-09-22T16:51:37.720899Z",
     "shell.execute_reply": "2022-09-22T16:51:37.720192Z",
     "shell.execute_reply.started": "2022-09-22T16:51:37.715809Z"
    },
    "tags": []
   },
   "outputs": [
    {
     "data": {
      "text/plain": [
       "'Homo sapiens'"
      ]
     },
     "execution_count": 22,
     "metadata": {},
     "output_type": "execute_result"
    }
   ],
   "source": [
    "taxons[0].find(\"i\").contents[0]"
   ]
  },
  {
   "cell_type": "code",
   "execution_count": null,
   "id": "138e68b8-7b82-4286-b227-6e89ca895a20",
   "metadata": {},
   "outputs": [],
   "source": [
    "# https://www.ncbi.nlm.nih.gov/gene/?term=TM6SF2"
   ]
  }
 ],
 "metadata": {
  "kernelspec": {
   "display_name": "Python 3 (ipykernel)",
   "language": "python",
   "name": "python3"
  },
  "language_info": {
   "codemirror_mode": {
    "name": "ipython",
    "version": 3
   },
   "file_extension": ".py",
   "mimetype": "text/x-python",
   "name": "python",
   "nbconvert_exporter": "python",
   "pygments_lexer": "ipython3",
   "version": "3.9.13"
  }
 },
 "nbformat": 4,
 "nbformat_minor": 5
}
