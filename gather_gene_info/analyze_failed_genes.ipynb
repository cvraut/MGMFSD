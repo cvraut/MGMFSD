{
 "cells": [
  {
   "cell_type": "markdown",
   "metadata": {},
   "source": [
    "# Analyze failed genes"
   ]
  },
  {
   "cell_type": "markdown",
   "metadata": {},
   "source": [
    "So I have a list of failed genes that I need to investigate further."
   ]
  },
  {
   "cell_type": "markdown",
   "metadata": {},
   "source": [
    "# imports & globals 🌎"
   ]
  },
  {
   "cell_type": "code",
   "execution_count": 16,
   "metadata": {
    "execution": {
     "iopub.execute_input": "2022-09-30T19:19:57.966492Z",
     "iopub.status.busy": "2022-09-30T19:19:57.965631Z",
     "iopub.status.idle": "2022-09-30T19:19:57.976708Z",
     "shell.execute_reply": "2022-09-30T19:19:57.974172Z",
     "shell.execute_reply.started": "2022-09-30T19:19:57.966455Z"
    },
    "tags": []
   },
   "outputs": [],
   "source": [
    "import pandas as pd\n",
    "import requests\n",
    "from bs4 import BeautifulSoup\n",
    "import random\n",
    "import regex as re\n",
    "from pickle import dump,load\n",
    "import sys\n",
    "import sqlite3\n",
    "from collections import Counter\n",
    "from os.path import exists\n",
    "import glob\n",
    "from multiprocessing import Pool\n",
    "\n",
    "sys.setrecursionlimit(100000)"
   ]
  },
  {
   "cell_type": "markdown",
   "metadata": {},
   "source": [
    "# Validate the downloaded genes"
   ]
  },
  {
   "cell_type": "code",
   "execution_count": 5,
   "metadata": {
    "execution": {
     "iopub.execute_input": "2022-09-30T18:34:04.553314Z",
     "iopub.status.busy": "2022-09-30T18:34:04.552935Z",
     "iopub.status.idle": "2022-09-30T18:34:04.588983Z",
     "shell.execute_reply": "2022-09-30T18:34:04.588330Z",
     "shell.execute_reply.started": "2022-09-30T18:34:04.553289Z"
    },
    "tags": []
   },
   "outputs": [
    {
     "name": "stdout",
     "output_type": "stream",
     "text": [
      "15954\n"
     ]
    }
   ],
   "source": [
    "file_names = [name for name in glob.glob('gathered_data/raw_gene_results/*.pickle')]\n",
    "print(len(file_names))"
   ]
  },
  {
   "cell_type": "code",
   "execution_count": 31,
   "metadata": {
    "execution": {
     "iopub.execute_input": "2022-09-30T21:14:34.889200Z",
     "iopub.status.busy": "2022-09-30T21:14:34.888842Z",
     "iopub.status.idle": "2022-09-30T21:14:34.896112Z",
     "shell.execute_reply": "2022-09-30T21:14:34.895549Z",
     "shell.execute_reply.started": "2022-09-30T21:14:34.889176Z"
    },
    "tags": []
   },
   "outputs": [],
   "source": [
    "def validate(data,gene):\n",
    "    status = []\n",
    "    #print(gene)\n",
    "    if data[gene][\"gene\"] != gene:\n",
    "        status.append(\"gene name not match\")\n",
    "    if data[gene]['organism'] !=  'Homo sapiens':\n",
    "        status.append(\"organism not homo sapien\")\n",
    "    if len(data[gene][\"seq\"]) != int(data[gene][\"stop\"])-int(data[gene][\"start\"])+1:\n",
    "        status.append(\"seq length not equal to start-stop\")\n",
    "    cds = data[gene][\"CDS\"].strip(\"&lt;\").split(\",\")\n",
    "    start = []\n",
    "    for s in cds:\n",
    "        if \"..\" in s:\n",
    "            l,r = map(int,s.split(\"..\"))\n",
    "            if r-l >=3:\n",
    "                start.extend([l,l+1,l+2])\n",
    "        else:\n",
    "            start.append(int(s))\n",
    "    met = \"\".join([data[gene][\"seq\"][i-1] for i in start[:3]])\n",
    "    if met != \"atg\":\n",
    "        status.append(\"seq doesn't start with atg\")\n",
    "    return status"
   ]
  },
  {
   "cell_type": "code",
   "execution_count": null,
   "metadata": {
    "execution": {
     "iopub.execute_input": "2022-09-30T18:48:47.158448Z",
     "iopub.status.busy": "2022-09-30T18:48:47.158127Z"
    },
    "tags": []
   },
   "outputs": [],
   "source": [
    "validate_msgs = []\n",
    "data_list = []\n",
    "for file_name in file_names:\n",
    "    gene = file_name.split(\"/\")[-1].strip(\".pickle\")\n",
    "    with open(file_name,\"rb\") as f:\n",
    "        data_list.append(load(f))"
   ]
  },
  {
   "cell_type": "code",
   "execution_count": 12,
   "metadata": {
    "execution": {
     "iopub.execute_input": "2022-09-30T19:17:54.753427Z",
     "iopub.status.busy": "2022-09-30T19:17:54.753068Z",
     "iopub.status.idle": "2022-09-30T19:17:54.757399Z",
     "shell.execute_reply": "2022-09-30T19:17:54.756779Z",
     "shell.execute_reply.started": "2022-09-30T19:17:54.753388Z"
    },
    "tags": []
   },
   "outputs": [],
   "source": [
    "def get_file_data(fname):\n",
    "    gene = fname.split(\"/\")[-1].strip(\".pickle\")\n",
    "    with open(fname,\"rb\") as f:\n",
    "        return gene,load(f)"
   ]
  },
  {
   "cell_type": "code",
   "execution_count": 19,
   "metadata": {
    "execution": {
     "iopub.execute_input": "2022-09-30T19:29:03.215829Z",
     "iopub.status.busy": "2022-09-30T19:29:03.215321Z",
     "iopub.status.idle": "2022-09-30T19:44:09.556705Z",
     "shell.execute_reply": "2022-09-30T19:44:09.555730Z",
     "shell.execute_reply.started": "2022-09-30T19:29:03.215792Z"
    },
    "tags": []
   },
   "outputs": [
    {
     "name": "stdout",
     "output_type": "stream",
     "text": [
      "15954\n"
     ]
    }
   ],
   "source": [
    "with Pool(processes=32) as P:\n",
    "    file_datas = P.map(get_file_data, file_names)\n",
    "print(len(file_datas))"
   ]
  },
  {
   "cell_type": "code",
   "execution_count": 36,
   "metadata": {
    "execution": {
     "iopub.execute_input": "2022-09-30T21:17:08.502717Z",
     "iopub.status.busy": "2022-09-30T21:17:08.502393Z",
     "iopub.status.idle": "2022-09-30T21:17:08.718329Z",
     "shell.execute_reply": "2022-09-30T21:17:08.717624Z",
     "shell.execute_reply.started": "2022-09-30T21:17:08.502692Z"
    },
    "scrolled": true,
    "tags": []
   },
   "outputs": [
    {
     "name": "stdout",
     "output_type": "stream",
     "text": [
      "15954\n"
     ]
    }
   ],
   "source": [
    "all_scraped_data = {g:d for g,d in file_datas}\n",
    "validate_msgs = {k:validate(all_scraped_data,k) for k in all_scraped_data}\n",
    "print(len(validate_msgs))"
   ]
  },
  {
   "cell_type": "code",
   "execution_count": 37,
   "metadata": {
    "execution": {
     "iopub.execute_input": "2022-09-30T21:17:10.233565Z",
     "iopub.status.busy": "2022-09-30T21:17:10.233267Z",
     "iopub.status.idle": "2022-09-30T21:17:10.247559Z",
     "shell.execute_reply": "2022-09-30T21:17:10.247022Z",
     "shell.execute_reply.started": "2022-09-30T21:17:10.233543Z"
    },
    "tags": []
   },
   "outputs": [
    {
     "data": {
      "text/plain": [
       "Counter({'': 15323,\n",
       "         \"seq doesn't start with atg\": 468,\n",
       "         \"gene name not match\\norganism not homo sapien\\nseq doesn't start with atg\": 3,\n",
       "         \"gene name not match\\nseq doesn't start with atg\": 4,\n",
       "         'gene name not match\\norganism not homo sapien': 85,\n",
       "         'gene name not match': 56,\n",
       "         'seq length not equal to start-stop': 12,\n",
       "         \"seq length not equal to start-stop\\nseq doesn't start with atg\": 3})"
      ]
     },
     "execution_count": 37,
     "metadata": {},
     "output_type": "execute_result"
    }
   ],
   "source": [
    "Counter(\"\\n\".join(validate_msgs[k]) for k in validate_msgs)"
   ]
  },
  {
   "cell_type": "code",
   "execution_count": 38,
   "metadata": {
    "execution": {
     "iopub.execute_input": "2022-09-30T21:18:10.886916Z",
     "iopub.status.busy": "2022-09-30T21:18:10.886663Z",
     "iopub.status.idle": "2022-09-30T21:18:10.898652Z",
     "shell.execute_reply": "2022-09-30T21:18:10.898124Z",
     "shell.execute_reply.started": "2022-09-30T21:18:10.886892Z"
    },
    "tags": []
   },
   "outputs": [
    {
     "name": "stdout",
     "output_type": "stream",
     "text": [
      "TCAF2\n",
      "TTC34\n",
      "CAPN8\n",
      "GRK1\n",
      "C1R\n",
      "CT47A12\n",
      "CCNB3\n",
      "DLGAP4\n",
      "KATNAL2\n",
      "GALNT9\n",
      "ECSCR\n",
      "FAM20C\n",
      "RILPL1\n",
      "GAGE12B\n",
      "RAB38\n"
     ]
    }
   ],
   "source": [
    "for k,m in validate_msgs.items():\n",
    "    if \"seq length not equal to start-stop\" in m:\n",
    "        print(k)"
   ]
  },
  {
   "cell_type": "code",
   "execution_count": 42,
   "metadata": {
    "execution": {
     "iopub.execute_input": "2022-09-30T21:19:26.967428Z",
     "iopub.status.busy": "2022-09-30T21:19:26.967102Z",
     "iopub.status.idle": "2022-09-30T21:19:26.971706Z",
     "shell.execute_reply": "2022-09-30T21:19:26.971190Z",
     "shell.execute_reply.started": "2022-09-30T21:19:26.967405Z"
    },
    "tags": []
   },
   "outputs": [
    {
     "data": {
      "text/plain": [
       "59437"
      ]
     },
     "execution_count": 42,
     "metadata": {},
     "output_type": "execute_result"
    }
   ],
   "source": [
    "len(all_scraped_data[\"TCAF2\"][\"seq\"])"
   ]
  },
  {
   "cell_type": "code",
   "execution_count": 44,
   "metadata": {
    "execution": {
     "iopub.execute_input": "2022-09-30T21:22:25.776754Z",
     "iopub.status.busy": "2022-09-30T21:22:25.776415Z",
     "iopub.status.idle": "2022-09-30T21:22:25.799677Z",
     "shell.execute_reply": "2022-09-30T21:22:25.799070Z",
     "shell.execute_reply.started": "2022-09-30T21:22:25.776730Z"
    },
    "tags": []
   },
   "outputs": [
    {
     "name": "stdout",
     "output_type": "stream",
     "text": [
      "448200\n"
     ]
    }
   ],
   "source": [
    "seq_lengths = [len(all_scraped_data[k][\"seq\"]) for k in all_scraped_data]\n",
    "print(max(seq_lengths))"
   ]
  },
  {
   "cell_type": "code",
   "execution_count": 46,
   "metadata": {
    "execution": {
     "iopub.execute_input": "2022-09-30T21:27:40.915394Z",
     "iopub.status.busy": "2022-09-30T21:27:40.914882Z",
     "iopub.status.idle": "2022-09-30T21:37:31.425387Z",
     "shell.execute_reply": "2022-09-30T21:37:31.424154Z",
     "shell.execute_reply.started": "2022-09-30T21:27:40.915362Z"
    },
    "tags": []
   },
   "outputs": [],
   "source": [
    "# gonna dump the main object, since it takes 15 min to get otherwise :/\n",
    "with open(\"gathered_data/all_scraped_data.pickle\",\"wb+\") as f:\n",
    "    dump(all_scraped_data,f)"
   ]
  }
 ],
 "metadata": {
  "interpreter": {
   "hash": "7db95ed7b7e3602a7d7b3fe11f43f7eba4efb259753418e30b6c7bc5eae65dc3"
  },
  "kernelspec": {
   "display_name": "Python 3 (ipykernel)",
   "language": "python",
   "name": "python3"
  },
  "language_info": {
   "codemirror_mode": {
    "name": "ipython",
    "version": 3
   },
   "file_extension": ".py",
   "mimetype": "text/x-python",
   "name": "python",
   "nbconvert_exporter": "python",
   "pygments_lexer": "ipython3",
   "version": "3.9.13"
  }
 },
 "nbformat": 4,
 "nbformat_minor": 4
}
