{
 "cells": [
  {
   "cell_type": "markdown",
   "id": "68c231e3-1849-415c-9571-1a7687372be9",
   "metadata": {},
   "source": [
    "# Validate PubMed Data"
   ]
  },
  {
   "cell_type": "markdown",
   "id": "a65871b4-7e70-4e41-8502-e7e24b730873",
   "metadata": {},
   "source": [
    "The validation should consist of:\n",
    "- verify gene name (key and field should match)\n",
    "- verify the organism is homo sapien\n",
    "- verify the seq length is equal to (stop-start+1)\n",
    "- verify the positions of the CDS are within start & stop\n",
    "- verify the start of the CDS starts with \"atg\"\n",
    "  - there may be some exceptions to this (ex: TRAC)"
   ]
  },
  {
   "cell_type": "markdown",
   "id": "e7abd2f9-1df5-4d46-bc1d-1e530dd98ce7",
   "metadata": {},
   "source": [
    "# imports & globals 🌎"
   ]
  },
  {
   "cell_type": "code",
   "execution_count": 1,
   "id": "7ea5a7ca-d7b0-4395-bf13-b807f4653886",
   "metadata": {
    "execution": {
     "iopub.execute_input": "2022-09-28T14:58:59.199703Z",
     "iopub.status.busy": "2022-09-28T14:58:59.198948Z",
     "iopub.status.idle": "2022-09-28T14:59:02.013755Z",
     "shell.execute_reply": "2022-09-28T14:59:02.012792Z",
     "shell.execute_reply.started": "2022-09-28T14:58:59.199531Z"
    },
    "tags": []
   },
   "outputs": [],
   "source": [
    "import pandas as pd\n",
    "import requests\n",
    "from bs4 import BeautifulSoup\n",
    "import random\n",
    "import regex as re\n",
    "from pickle import dump,load\n",
    "import sys"
   ]
  },
  {
   "cell_type": "markdown",
   "id": "827a55c5-e18d-4f55-be81-b87af0859ab3",
   "metadata": {},
   "source": [
    "# Load the data"
   ]
  },
  {
   "cell_type": "code",
   "execution_count": null,
   "id": "0bfd7e15-47f4-425c-bf20-c50c7d63c295",
   "metadata": {
    "execution": {
     "iopub.execute_input": "2022-09-28T15:00:05.601343Z",
     "iopub.status.busy": "2022-09-28T15:00:05.600976Z",
     "iopub.status.idle": "2022-09-28T15:00:05.623130Z",
     "shell.execute_reply": "2022-09-28T15:00:05.622443Z",
     "shell.execute_reply.started": "2022-09-28T15:00:05.601303Z"
    },
    "tags": []
   },
   "outputs": [
    {
     "name": "stdout",
     "output_type": "stream",
     "text": [
      "47\n"
     ]
    }
   ],
   "source": [
    "with open(\"../data/gene_to_data.pickle\",\"rb\") as f:\n",
    "    data = load(f)\n",
    "print(len(data))"
   ]
  },
  {
   "cell_type": "markdown",
   "id": "1e52b0c8-db95-40c7-8694-dfee0b923f8c",
   "metadata": {},
   "source": [
    "# validate"
   ]
  },
  {
   "cell_type": "code",
   "execution_count": 7,
   "id": "04b02d7f-4ec4-41cc-8e50-5a9728b3104a",
   "metadata": {
    "execution": {
     "iopub.execute_input": "2022-09-28T15:09:45.023155Z",
     "iopub.status.busy": "2022-09-28T15:09:45.022880Z",
     "iopub.status.idle": "2022-09-28T15:09:45.028646Z",
     "shell.execute_reply": "2022-09-28T15:09:45.028136Z",
     "shell.execute_reply.started": "2022-09-28T15:09:45.023131Z"
    },
    "tags": []
   },
   "outputs": [],
   "source": [
    "def validate(data,gene):\n",
    "    status = []\n",
    "    if data[gene][\"gene\"] != gene:\n",
    "        status.append(\"gene name not match\")\n",
    "    if data[gene]['organism'] !=  'Homo sapiens':\n",
    "        status.append(\"organism not homo sapien\")\n",
    "    if len(data[gene][\"seq\"]) != int(data[gene][\"stop\"])-int(data[gene][\"start\"])+1:\n",
    "        status.append(\"seq length not equal to start-stop\")\n",
    "    start_cds = int(data[gene][\"CDS\"].strip(\"&lt;\").split(\"..\")[0])\n",
    "    if start_cds+2 > len(data[gene][\"seq\"]):\n",
    "        status.append(\"start cds not in seq\")\n",
    "    elif data[gene][\"seq\"][start_cds-1:start_cds+2] != \"atg\":\n",
    "        status.append(\"seq doesn't start with atg\")\n",
    "    return status"
   ]
  },
  {
   "cell_type": "code",
   "execution_count": 15,
   "id": "4c36662b-9b74-49c7-be73-b76b33061f2a",
   "metadata": {
    "execution": {
     "iopub.execute_input": "2022-09-28T15:33:58.131630Z",
     "iopub.status.busy": "2022-09-28T15:33:58.131387Z",
     "iopub.status.idle": "2022-09-28T15:33:58.137084Z",
     "shell.execute_reply": "2022-09-28T15:33:58.136450Z",
     "shell.execute_reply.started": "2022-09-28T15:33:58.131607Z"
    },
    "tags": []
   },
   "outputs": [
    {
     "name": "stdout",
     "output_type": "stream",
     "text": [
      "TRAC [\"seq doesn't start with atg\"]\n",
      "(47, 12)\n"
     ]
    }
   ],
   "source": [
    "final_ds = []\n",
    "exceptions = {\"TRAC\"}\n",
    "for g in data:\n",
    "    stat = validate(data,g)\n",
    "    if len(stat) != 0:\n",
    "        print(g,stat)\n",
    "    if len(stat) == 0 or g in exceptions:\n",
    "        final_ds.append(data[g])\n",
    "final_df = pd.DataFrame(final_ds)\n",
    "print(final_df.shape)\n",
    "#final_df"
   ]
  },
  {
   "cell_type": "markdown",
   "id": "429347c3-fc96-41c5-bee9-5a9b4f69f5a2",
   "metadata": {},
   "source": [
    "# write to csv file"
   ]
  },
  {
   "cell_type": "code",
   "execution_count": 14,
   "id": "fcac939b-b805-447d-b728-b8b42caa7db7",
   "metadata": {
    "execution": {
     "iopub.execute_input": "2022-09-28T15:16:37.712258Z",
     "iopub.status.busy": "2022-09-28T15:16:37.711893Z",
     "iopub.status.idle": "2022-09-28T15:16:37.804766Z",
     "shell.execute_reply": "2022-09-28T15:16:37.804226Z",
     "shell.execute_reply.started": "2022-09-28T15:16:37.712233Z"
    },
    "tags": []
   },
   "outputs": [],
   "source": [
    "final_df.to_csv(\"../data/gene_data.csv\")"
   ]
  }
 ],
 "metadata": {
  "kernelspec": {
   "display_name": "Python 3 (ipykernel)",
   "language": "python",
   "name": "python3"
  },
  "language_info": {
   "codemirror_mode": {
    "name": "ipython",
    "version": 3
   },
   "file_extension": ".py",
   "mimetype": "text/x-python",
   "name": "python",
   "nbconvert_exporter": "python",
   "pygments_lexer": "ipython3",
   "version": "3.9.13"
  }
 },
 "nbformat": 4,
 "nbformat_minor": 5
}
