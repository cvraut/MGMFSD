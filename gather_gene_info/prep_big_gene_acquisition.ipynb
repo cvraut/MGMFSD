{
 "cells": [
  {
   "cell_type": "markdown",
   "id": "668e674f-5dcc-4160-9341-483c358ea681",
   "metadata": {},
   "source": [
    "# Prep Big Gene Acquisition"
   ]
  },
  {
   "cell_type": "markdown",
   "id": "6320c4b1-fea9-4711-a91c-c51b31790c40",
   "metadata": {},
   "source": [
    "So the 47 gene list that Prabhu gave earlier was a nice way to test all the small components of this project; however, ultimately I want this tool to be able to run against all human genes.\n",
    "\n",
    "So we need to start storing the results from massive sets of downloads.\n",
    "\n",
    "There are ~28,000 human genes. Rendundancy in the system is a must & before scaling up to 10,000 genes, I need to make sure 100 genes & 500 genes run fine."
   ]
  },
  {
   "cell_type": "markdown",
   "id": "56ea3d5f-8c92-42e6-bccd-33d571e66fd1",
   "metadata": {
    "execution": {
     "iopub.execute_input": "2022-09-22T16:22:40.798273Z",
     "iopub.status.busy": "2022-09-22T16:22:40.797746Z",
     "iopub.status.idle": "2022-09-22T16:22:40.802654Z",
     "shell.execute_reply": "2022-09-22T16:22:40.802017Z",
     "shell.execute_reply.started": "2022-09-22T16:22:40.798122Z"
    },
    "tags": []
   },
   "source": [
    "# Imports and Globals 🌎"
   ]
  },
  {
   "cell_type": "code",
   "execution_count": 18,
   "id": "16bc723d-04a1-42b2-8636-cc3ed7dd9f75",
   "metadata": {
    "execution": {
     "iopub.execute_input": "2022-09-29T18:13:21.448690Z",
     "iopub.status.busy": "2022-09-29T18:13:21.448280Z",
     "iopub.status.idle": "2022-09-29T18:13:21.452989Z",
     "shell.execute_reply": "2022-09-29T18:13:21.452462Z",
     "shell.execute_reply.started": "2022-09-29T18:13:21.448666Z"
    },
    "tags": []
   },
   "outputs": [],
   "source": [
    "import pandas as pd\n",
    "import requests\n",
    "from bs4 import BeautifulSoup\n",
    "import random\n",
    "import regex as re\n",
    "from pickle import dump,load\n",
    "import sys\n",
    "import sqlite3\n",
    "from collections import Counter\n",
    "sys.setrecursionlimit(100000)"
   ]
  },
  {
   "cell_type": "markdown",
   "id": "730db8c5-3b1d-4420-a6f4-ae0872bf399a",
   "metadata": {
    "tags": []
   },
   "source": [
    "# get old working code"
   ]
  },
  {
   "cell_type": "code",
   "execution_count": 4,
   "id": "a64c3fdd-0a0e-4982-b5b2-1f323cd5194f",
   "metadata": {
    "execution": {
     "iopub.execute_input": "2022-09-29T16:36:14.989622Z",
     "iopub.status.busy": "2022-09-29T16:36:14.989150Z",
     "iopub.status.idle": "2022-09-29T16:36:15.002754Z",
     "shell.execute_reply": "2022-09-29T16:36:15.001798Z",
     "shell.execute_reply.started": "2022-09-29T16:36:14.989588Z"
    },
    "tags": []
   },
   "outputs": [],
   "source": [
    "def get_bp_and_cds(gene):\n",
    "    result = {}\n",
    "    payload={}\n",
    "\n",
    "    UAS = (\"Mozilla/5.0 (Windows NT 6.1; WOW64; rv:40.0) Gecko/20100101 Firefox/40.1\", \n",
    "           \"Mozilla/5.0 (Windows NT 6.3; rv:36.0) Gecko/20100101 Firefox/36.0\",\n",
    "           \"Mozilla/5.0 (Macintosh; Intel Mac OS X 10_10; rv:33.0) Gecko/20100101 Firefox/33.0\",\n",
    "           \"Mozilla/5.0 (Windows NT 6.1) AppleWebKit/537.36 (KHTML, like Gecko) Chrome/41.0.2228.0 Safari/537.36\",\n",
    "           \"Mozilla/5.0 (Macintosh; Intel Mac OS X 10_10_1) AppleWebKit/537.36 (KHTML, like Gecko) Chrome/41.0.2227.1 Safari/537.36\",\n",
    "           \"Mozilla/5.0 (Windows NT 6.1; WOW64) AppleWebKit/537.36 (KHTML, like Gecko) Chrome/41.0.2227.0 Safari/537.36\",\n",
    "           )\n",
    "\n",
    "    ua = UAS[random.randrange(len(UAS))]\n",
    "    headers = {\n",
    "      'user-agent':ua\n",
    "    }\n",
    "\n",
    "    response1 = requests.request(\"GET\", \"https://www.ncbi.nlm.nih.gov/gene/?term={}\".format(gene), headers=headers, data=payload)\n",
    "    soup1 = BeautifulSoup(response1.text, 'html.parser')\n",
    "    titles = soup1.findAll(\"a\",id=\"feat_gene_title\")\n",
    "    result[\"gene\"] = titles[0].contents[0].split()[0]\n",
    "    taxons = soup1.findAll(\"p\",class_=\"ncbi-doc-authors\")\n",
    "    result[\"organism\"] = taxons[0].find(\"i\").contents[0]\n",
    "    result[\"gene_link\"] = titles[0][\"href\"]\n",
    "    \n",
    "    response2 = requests.request(\"GET\", titles[0][\"href\"], headers=headers, data=payload)\n",
    "    soup2 = BeautifulSoup(response2.text, 'html.parser')\n",
    "    result[\"gene_bank_url\"] = \"https://www.ncbi.nlm.nih.gov/\"+soup2.findAll(\"a\",title=\"Nucleotide GenBank report\")[0][\"href\"]\n",
    "    \n",
    "    response3 = requests.request(\"GET\", result[\"gene_bank_url\"], headers=headers, data=payload)\n",
    "    soup3 = BeautifulSoup(response3.text,\"html.parser\")\n",
    "    soup3.findAll(\"meta\",{\"name\":\"ncbi_uidlist\"})[0][\"content\"]\n",
    "    result[\"ncbi_id\"] = soup3.findAll(\"meta\",{\"name\":\"ncbi_uidlist\"})[0][\"content\"]\n",
    "    result[\"start\"],result[\"stop\"] = re.search(re.compile(\"from=(\\d+)&to=(\\d+)\"),result[\"gene_bank_url\"]).groups()\n",
    "    result[\"strand\"] = \"on\" if \"strand=true\" in result[\"gene_bank_url\"] else \"off\"\n",
    "    result[\"ncbi_phid\"] = soup3.findAll(\"meta\",{\"name\":\"ncbi_phid\"})[0][\"content\"].split()[0]\n",
    "    \n",
    "    target_url_template = \"https://www.ncbi.nlm.nih.gov/sviewer/viewer.fcgi?id={}&db=nuccore&report=genbank&conwithfeat=on&basic_feat=on&hide-cdd=on&from={}&to={}&strand={}&retmode=html&withmarkup=on&tool=portal&log$=seqview&maxdownloadsize=1000000\"\n",
    "    #target_url_template2 = \"https://www.ncbi.nlm.nih.gov/sviewer/viewer.fcgi?id={}&db=nuccore&report=genbank&=&from={}&to={}&retmode=html&ncbi_phid={}&withmarkup=on&tool=portal&log$=seqview&maxdownloadsize=1000000\"\n",
    "    result[\"genbank_jquery\"] = target_url_template.format(result[\"ncbi_id\"],result[\"start\"],result[\"stop\"],result[\"strand\"])\n",
    "    print(result[\"gene_bank_url\"])\n",
    "    print(result[\"genbank_jquery\"])\n",
    "    response4 = requests.request(\"GET\", result[\"genbank_jquery\"], headers=headers, data=payload)\n",
    "    print(len(response4.text))\n",
    "    m = re.search(re.compile(r\"CDS\\s+join\\(((?:&|l|t|;|\\.|,|\\d|\\s)+)\\)\"),response4.text)\n",
    "    result[\"CDS\"] = \"\".join(m.groups()[0].split())\n",
    "    soup4 = BeautifulSoup(response4.text,\"html.parser\")\n",
    "    result[\"seq\"] = \"\".join([\"\".join(s.contents[0].split()) for s in soup4.findAll(\"span\",class_=\"ff_line\")])\n",
    "    print(\"done!\")\n",
    "    return result"
   ]
  },
  {
   "cell_type": "code",
   "execution_count": 5,
   "id": "9eb29513-fc2d-4d41-adce-90bf6cf439c6",
   "metadata": {
    "execution": {
     "iopub.execute_input": "2022-09-29T16:36:16.920660Z",
     "iopub.status.busy": "2022-09-29T16:36:16.920341Z",
     "iopub.status.idle": "2022-09-29T16:36:26.874554Z",
     "shell.execute_reply": "2022-09-29T16:36:26.873772Z",
     "shell.execute_reply.started": "2022-09-29T16:36:16.920631Z"
    },
    "tags": []
   },
   "outputs": [
    {
     "name": "stdout",
     "output_type": "stream",
     "text": [
      "https://www.ncbi.nlm.nih.gov//nuccore/NC_000002.12?report=genbank&from=27199587&to=27212787&strand=true\n",
      "https://www.ncbi.nlm.nih.gov/sviewer/viewer.fcgi?id=568815596&db=nuccore&report=genbank&conwithfeat=on&basic_feat=on&hide-cdd=on&from=27199587&to=27212787&strand=on&retmode=html&withmarkup=on&tool=portal&log$=seqview&maxdownloadsize=1000000\n",
      "107156\n",
      "done!\n"
     ]
    },
    {
     "data": {
      "text/plain": [
       "{'gene': 'SLC5A6',\n",
       " 'organism': 'Homo sapiens',\n",
       " 'gene_link': 'https://www.ncbi.nlm.nih.gov/gene/8884',\n",
       " 'gene_bank_url': 'https://www.ncbi.nlm.nih.gov//nuccore/NC_000002.12?report=genbank&from=27199587&to=27212787&strand=true',\n",
       " 'ncbi_id': '568815596',\n",
       " 'start': '27199587',\n",
       " 'stop': '27212787',\n",
       " 'strand': 'on',\n",
       " 'ncbi_phid': 'CE8986BD335BA1D10000000005AE014C.m_23',\n",
       " 'genbank_jquery': 'https://www.ncbi.nlm.nih.gov/sviewer/viewer.fcgi?id=568815596&db=nuccore&report=genbank&conwithfeat=on&basic_feat=on&hide-cdd=on&from=27199587&to=27212787&strand=on&retmode=html&withmarkup=on&tool=portal&log$=seqview&maxdownloadsize=1000000',\n",
       " 'CDS': '5138..5530,5846..5911,6254..6305,6695..6762,7284..7438,7857..7997,8198..8327,8921..9009,9443..9555,9908..9975,10714..10800,10941..11122,12209..12398',\n",
       " 'seq': 'accgcacgatatatggcgttcgtgcgtagagagattacacaagaggcagaggacccgtctgtagaaagaacttaaagttattctaaaattaaggggcgaaatcaagtttcacaggtctttgaaagtcggcaggactggggcgccgaaggcctgcacgacgtgagtacttgggaacaggacctggctgggcagggtcgggaagcgtcagggacgaaatcagaaccgcaggcccgccgaggagaagggggagccgctggcgagcgcgacgcacggctggccagcgaccctgcttcagcccgacctcaaacttgcttctgtacctcgggtagcgccagagccctttccacgcccagagcgaggagcagggcggcagcccagggcaccagggtcgtaagactacccgggtcgtgaggcgccattttccgttcccttggtgctccgctgctcgcgcgacccggccccgcggccccgccccgcagcgcgtcaggccctcttccccgggcgtggcctaagcggcccggtccagtcgccctggggctgcttgggggcttttcctgctcgtggagctctgcgctggtcttcatgcgccctagccctctttcggggatactggccgaccccctcttccttttcccctttagtgaaggcctcccccgtcgccgcgcggcttcccggagccgactgcagactccctcagcccggtgttccccgcgtccggacgccgaggtcgcggcttcgcagaaactcgggcccctccatccgccctcagtaaacatggcggcacggcgagcggggcgggcagggggcgggcagggggcggggcccccgcgggctcccggccagggctctcggccgggctctggctacccacgtgtggagaccgggcaggtgggcctggagagcgtgagccggtgccgagaggcaccggggagcggcgtctgagccggggcggggacaagggggcggggaggggcggagcgagccggcctccggcgtgggtctgagatcttaagtgcgagcggtaaggtggtggtctccgccgcgtagagggaagcgggaaaccgagaaagaacgagggtgagggtgatgagggaagggcaaacctcaaactccagcgggaggacacgagcctggatcgccccgggcacctagtcctcttcacctcaatgctgatagcgcatagcgtcccggagcctggcgaggaggtaggagcgggatagacgcttccctaactcattttctttgccttcccaggaaaagggagcgatgttgatctcaggaagcacaaagggaccttcctagctctgactgaaccacggaggtaagggagtgcgttgctgccccagggtgggccagcgccctgactgaagggcgccaggggatccctgctcccggcgcgacagtgttggttagggccagccagaaagctccttaaagccgacccaagtgatcatctcgagtagccgagccaggcttcccttccacattacccccatggtgtctgcctggaagttcctgaaaggtttacgtttagctggctggcaaattttctaaggtgttagtagctattagcattttaaggagggcccccaaagcctttcacaccttgaggaattataggccccaggacagattttgagggaatctttttggaacagttagtcctgcagtggtctcattgccttttgtaggagtcaatgcgatccactgcagtgtgtgaccaaagtgagttcaggtttttatttttatttttatttttattttgagacggagtctcgctctgtcgcccaggctggagtgcagtggcgcgatctcggctcactgcaagctccgcctcgcgggttcacgccattctcctgcctcaacctcccgagtagctgggactacaggcgcctgccaccacgcctggctaattttttgtattttttagtagagacggggtttcaccgtgttagccaggatggtctcgatctcctgacctcgtgatctgcccgcctcggcctcccaaagtgctgggattacaggcagtgatgtgggaccccttttaaaaacctgaacttggcctggcgcggtggccaggccaccgatccgccaaggcaggtggatcgtcatgtcaggagttttgagaccagcctggccaatatggtgaaatctcgtctctactaaaaatacaaaaaaaaaaaaaaaaaattagctgggcgcggtagcacatgcctgtagtcccagctactcaggaggctgaggcagaagaatcacttgaacccaggaggtggaggttgcagtgagccgagatcgtgtcactgcactccagcctgggcgacagagcgagactccgtctccaaaaaaaaaggggggggggtcccacaatctgctgtttgtgccttggcatgttatagttgtagtgaaacaacagctagctcttgcttttggccgccctctttctggagagatgcgagaccatagcgtttggatcaatgtagggtgtttagaaaactacagatctgttctcagaatctggtctgttgctaggtcaggtttttcctgtcttccctggggctctctcaggccatccaggggaattctccatacatcatgcaaatagaattttatcaggaagtcccatcagcagagtgtctttatttctgtacctccgtgtcccatactgggactttccttcctgtctctggccacctacctctctaaaccactaaccctatagttagttctttgttctgtgttctttgcacacaggagacctcttctttcctcttactccccagtagttcccatcatctctatcatagcagtaaaaacttgccaaagacgaatgagaaaactcagggtgttgcaatgtgcaaaggcccagggcatgtttaggttaaaccagagtttaagcctgttgggaatcttgtagaacatgtgatccaagagttgccaggtctgattttccctctttattggccccaagaggttcagagttcaggtttagtctgcatgaggccatatcttgccagccagccagtgtctgcccaagaacacactgtgggagagcggaaaggcagcctaatctttctcctagtgggcaaaagcagaagacatagtttatgttagtctgtctcttgattagttgaaatctaaactatgtcctgtgaatgactgactgcaacactctgctcctgtcctggttctgggaatagtgaggacagggcccttgctgaacacctgtcatagctgcagacagcactgtttctctctctcttgttttgtatcatgctgcataaccttgagcaagttatttaatctctcagttttcttgtgttaactggagagtattcgtgtcttaatctgagacatgctgttttgaaaatgttagcttcattatgtattattactaatgtttataaagcacctcacacactgctgggttacatagcaggtgttcagcaaatgttaactgtcgtcatgttaggctgtgtaactacatggcattctctggtgttttttcctcataccaataagtaccccagaggattgcctttgaagacaatatgatacgcttggagaacagacagggtggatggtgaatccctagacctgggttctaatttatgctctgacaatagtcggctctgtgcttttggaaaggtcacttgaaccatctgagccttagcgtgtttatctgtgaaatcgtcagtggtggggggttggttgtaatagtggtgtccaaagatttaagattttaaatattatgatcccttccctctttctctgaggattgtggtgtattcttgggggattaacatttcttgtgcaggagttagaaaatcaactttcaactttcccatgttttcagttccttctttccaactccctcccgcacagagtgccaagagtactttaggctgaaaggctaatccatctaggaatgctgttgaatatgagctccctcttccctgttctggagcctctagggctgagttggagtttgggggccatagggtgatagggccatttggaacacagccattggttccctgaaggggccagaacaaatgactgctgagcttcaccccacccccaattcctgatctctcacctcagctactcatagagccagatcctcagctctgcagctccaggcaactctgcctcagaacagggattgcttctccaggtaggtgtctgtccccagcaggatacgaccactctctttggctggtccctttgcctctcagctccgtgactgggttgcttctctccagaatggagaatcgtcattctgaaaccctgactccagcatggtgccctctcacctttcccctctcacttttgaatccagccgctcttcctgcgtctgctgttgactgtgatgttgcaggtagaggggctgagaggtgggtggcagcacttatctagtggtgttggggagaaccttaagaaaggggttggcctggggacgcctgaaatggagtctgtggctgccacagaggcagtctcactgatgatcagttagaagggtgacactggggatcacaggaggcgagggccgaggccaggggcagtaggggaagccctgctgccattagtctccatgctgtgtttcctgctgggctgtggcgccaggctgggctctgctggcttagtgtattgtagtgactgggtctgtgccttcaagtggggctgggaaattctgctaagaaacttaggctagagtttatttttcttttggtactcgggtggagacctaagaaggttgttgaatttcacagctgtgcatactcaaaggtcctggccaagttatattgtctcctggctgtcgcactctgatgcttctccctcacttatgtcccctaccaaacccataccagggcctctagaccttgaagggctaccactatgctggctggtccacttctgatggcatgcgatgtacaaggcccaagggtgaatggctaccaaggccagataggcctcactaagagctaattcctttgcagctcaccctggacagtatcactccgtggaggaagactgtgagactgtggctggaagccagattgtagccacacatccgcccctgccctaccccagagccctggagcagcaactggctgcagatcacagacacagtgaggatatgagtgtaggggtgagcacctcagcccctctttccccaacctcgggcacaagcgtgggcatgtctaccttctccatcatggactatgtggtgttcgtcctgctgctggttctctctcttgccattgggctctaccatgcttgtcgtggctggggccggcatactgttggtgagctgctgatggcggaccgcaaaatgggctgccttccggtggcactgtccctgctggccaccttccagtcagccgtggccatcctgggtgtgccgtcagagatctaccgatttgggacccaatattggttcctgggctgctgctactttctggggctgctgatacctgcacacatcttcatccccgttttctaccgcctgcatctcaccagtgcctatgaggtgagcagggacagaagggagaagtgcgtgggacacgggttggggtggagaggagggacaggcacataggaaggacctgggaccctagacctcctccacctaatgagagggacagaaaactcattgtgtgtttataattctttctcagtgatgttaggtataggggcaggattggagaggagggtgctatgccgagtaggactcagagtgggtatgggttggatattccctcatgttcctgagcatcttgagggaatttgtctgtgagttgtcggggtgaagtcaggagaaaaatctttttttctgtatacccagtacctggagcttcgattcaataaaactgtgcgagtgtgtggaactgtgaccttcatctttcagatggtaagcagaatgaggatagaaaccgagcctagggcatgttgggggacctgaacgcaagcatgctgagggaattggagtctcccctgctctcagattggcaggattgaaattcctgctagaggttagcatctgtgaggaccccagaggcatcctgctgcccatgccttccaattccagcacagatactgtggtggcagcaagccagaatttgagaggagaaggaagagggaagtgagcctaggtgaggggaagccatgggcatattggcgctgaggcccatctttcttcctctctcttcccaccattctccggcccccatcacattttttccacatgcaacaggtgatctacatgggagttgtgctctatgctccgtcattggctctcaatgcaggtgaggagtcacacagcccctggctttcagccgtggtaggttaggaaagcacctttgggagaggcagatggaggagcgtatgtggaaaagaacctgaccttgaatggggaattaattcaccgcttgggcccttgggtgggtctctaccagaggaaggcttggtccacctcaattgacagctagtaacatgttaccatgccctatctgaactggttagtcaatatcttttggtggagctctgcaaacatttttctccgttgtggtgaatgatttatttcattgttaatgaccaatgctttatctctgtggcatgacgtgattgccctaccagggcttctcccctggggaacccttttccagggataagaatgtggcttctatgcttacagtgactggctttgatctgtggctgtccgtgctggccctgggcattgtctgtaccgtctatacagctctggtaagtgcagtaagccgtggtgtggggaggggaagggatgaagtaaggaggggacatgggaagagaaggaaaagaagagataagctgagaatatagatgaggagaataggtgaaattctggggtggtaagatttatgataggatttagcagtggggatggtatatgaaggtagaggatgggatgggaatgatgtcaacagggtcacagcaattacatgcctaatggcaggagagtcccctcactggtagtatgttcttagggtggatggtttcaggagtgtccaagggagagaatatagtcatgggttcttagtttctgtttctggttgggtcagtaaagccccttcgtcatccctcttttatacatatcaccagagacagaaactaaaaactggcttcaggctgcaaaaagcctaaaacaaaacaaaacaaaacaaaatggagcaacaacaaaataaggcaggttggacaagctgggtttagaaggcctctgtggcaggtttgctgtgctttccttgcagggtgggctgaaggccgtcatctggacagatgtgttccagacactggtcatgttcctcgggcagctggcagttatcattgtggggtcagccaaggtgggcggcttggggcgtgtgtgggccgtggcttcccagcacggccgcatctctgggtttgagtaagtatacccctactcctggctggggtctgcagtgcctgggcgctgagcccatcctagaggctggtcttggctatagtaagcagaaggtaaactgggaagcctgaggtgtaacagcagacagtgggaaactggtcctgcagagatggagggtgattacaggtgcccggctagtgtttatagagagtcaggacattacctgggatgagtacctggaatgagcctggggtggaagaatggagcctccctctaactggctgtgctgtctctcgagtgcacccagcttcttgctttcagtgtcccccttggccctagcagtggtgtctctcctttcctgtccactgactcctgttgccaagagggcaggaaggctgtgtctctcaggctttgcacaatgactgggtggtgtctgttacaggctggatccagacccctttgtgcggcacaccttctggaccttggccttcgggggtgtcttcatgatgctctccttatacggggtgaaccaggctcaggtgcagcggtacctcagttcccgcacggagaaggctgctgtgctgtgagtgcagggacaggaagggagtggagcaaggtctaggggaaggggttccccagagataattggggtggggcaggatgccagagtgcatacacatccactgtggtcaggatgtgggtctcctttctggaggtcaggggcacacacctgagggtgtctgttaacgccggctctcctcctggcactgacctcttttgcagctcctgttatgcagtgttccccttccagcaggtgtccctctgcgtgggctgcctcattggcctggtcatgttcgcgtattaccaggagtatcccatgagcattcagcaggctcaggcagccccagaccaggtgagaaggcgctgttctgttcccatgagggcaggcctggccccacaacaggagtgtctaggtaggaaaggactgactgcagaaaggactcccaccctgggtgggagacggttgtaaaatcctttcccactctgagatgctaggaatctagcatgtgaggatcgcggtccctagcatcacctaaccacagtgctcatcctactggggtgaggacctacccttactgactccccattgggctccatgtgctctgctgggagctatcacatacctggtctcacctaagcctctaacagcctcatttcacagaggagaaaacagactcaatgaggtagccagtaagcagaagtcacactagtagccagaaacagagctgcgggcgaattgtgtcattccctctgtagagctcattttctctccacttaatgtgtagacacttgggtcagcagaggtgccccaggccctggcttcccttgtaatgcacccagtctcggtagactcgctggggcacatgtaaagggagcttccctgcagagccggccctgggaagacccctctctgaggactgctgtgtacctccgctctgcttgcagttcgtcctgtactttgtgatggatctcctgaagggcctgccaggcctgccagggctcttcattgcctgcctcttcagcggctctctcaggtacccactttaacgatttccctcaggcctggtgcacctgacccctatttggtacaaggtgatgggtggagcggggtgatagtgggtggggaatccctctaagtttctcactgtgcctgccccatctgtgtgcatgacaagggatagctcatctttgtaggccacagcacaacagagatacccctgttttggttaagagttcttttatggtaccagaaattgatctactcgaatgaaacccatatccacattcaaaaaaggactgtgtccttgccttccaggcccgctctgaggtggcatcaagtccaactatgaggaggtttcttggtggtacctgtcatctccccgctttaggacaccatttcctccatagagtcccatagagctgacaattttgcctcgctcaactcctcatcctcttcctctttttcagcactatatcctctgcttttaattcattggcaactgttacgatggaagacctgattcgaccttggttccctgagttctctgaagcccgggccatcatgctttccagaggccttggtggggttatgcttcctcatctcttcagtctgggtctttctaagcttcatcctgaccattgtcatcagtttgctgtaaaacacccactttatccggggctcagcacttgcctaatgaagcacacaaccttccctgcatgcatggttgtttccatctcagggcatgtcctagggaggtctctgagtcacataggagtgaggacttggtgggaggaagctggggcgtgatgtaatatgccttttgtttccagagagacagaggtggtagtttggctgggcagggagccttgctttaccccattgcttgtgttaactcacaccttcttgtttcctctcctgtccttttcccccagcctttggctatgggctgctttgtctaggaatggcctatatttcctcccagatgggacctgtgctgcaggtaataactatagagggtaggaagcaattttaagggagagaaggaattgattgaaacaggaagttgagaagggcagctatattgaggggaatgaccggggggcaggcgtaagagattcccctttgatggaccgtctttactgtgaacagacttgcaagcagccagaggacgcagggtcattcctgggatgttgtaggctgagagagagctaaggatcagcctcagagaactcaaaacacatccctctccatcagccccctagcagcctttcctgccctctggagttcttttttttttttttttttttttgagacagagtctcattctgttgctcaggctggagtgcagtggcgcgatctcagttgactgcaacctccacctcccacattcaagtgattctcctgtctcagcctcctaagtagctgagggactacaggcatgtgccaccgtgtctggctaatttttgtatttgtagtagagacggggttttaccatgttggccaggctagtctggagctcctgacctcaggtgatcctcccgcctcggcctcccaaactgctggaattacaggcatgagccaccgctcggccacctctggagttctgattgttcccacagaagagacagatctgacaagtggggctccaaggtcatggctggtggctatgctttatggtgagtctgggcatctctgagtctgtgttctttttccttttcttctcaccctgtcctcctaggcagcaatcagcatctttggcatggttgggggaccgctgctgggactcttctgccttggaatgttctttccatgtgctaaccctcctgtgagtgatgcatctggatccacagtcatgtgtagcaggatggacctgggggttggcagggctgtcaccaggagagctgaggactgccgtgagggctggcaggactggccttgtgacaggcctgcactgtgtctcggcagggtgctgttgtgggcctgttggctgggctcgtcatggccttctggattggcatcgggagcatcgtgaccagcatgggctccagcatgccaccctctccctctaatgggtccagcttctccctgcccaccaatctaaccgttgccactgtgaccacactgatgcccttgactaccttctccaagtaaggcagggcttgctatcttcttgttttctcaaagccctcctttgagggctttcacaggggtcttgctaagggatgggccaccagaggccccagggaaatgttgggtattgggtcccaagaccctgggaccatgcgggcaagtagagattggtgcccaaggaatgccctgccaacgaattgctaattgttctcacctctgctcttcccaggcccacagggctgcagcggttctattccttgtcttacttatggtacagtgctcacaactccaccacagtgattgtggtgggcctgattgtcagtctactcactggtaagggtgtgggattgcggtgcagatgagcaccgaggggttaacagagggccctaagggactctagggagaaaggctcctgccctctgagctcttgggtgtccgtagctgtcaggcttttctgctgggatgtaggaggtgggtgggggctggggtctctgggggccaagggaggacatggggcccgctgctgtggatggttccacccagagactcagaagcacatttccattcagggagaatgcgaggccggtccctgaaccctgcaaccatttacccagtgttgccaaagctcctgtccctccttccgttgtcctgtcagaagcggctccactgcaggagctacggccaggtagtacctgctgtccaagtgacccctccctgcccttctccacagatgccactgactcttcaggttcccttctaccccttttctctccccctgccccgggtgcctctctcaggatcagctaagcctaggctgtcccacacggctgtctcaggttctacccacaggactgcactggcttggtgggcagaaggatctcagggctcagaggagctcagccccagcctgggccagtcagctcccctccccagcccaccctgtgctccctgctgtgctatgccctccctcttttccccctgctctccctcccgaacccagccttgctgggctcccttctggcggggaccttttttgtgtgaatcctgtcaagcacccgtcatccgtcttcaccagttccacccctttggctctgtgtttgcaggaccacctcgacactggcctgtttcctgagaagccgaggaatggtgtgctgggggacagcagagacaaggaggccatggccctggatggcacagcctatcaggggagcagctccacctgcatcctccaggagacctccctgtgatgttgactcaggaccccgcctctgtcctcactgtgccaggccatagccagaggccaccctgtagtacagggatgagtcttggtgtgttctgcagggacaggcctggatgatctagctcataccaaaggaccttgttctgagaggttcttgcctgcaggagaagctgtcacatctcaagcatgtgaggcaccgtttttctcgtcgcttgccaatctgttttttaaaggatcaggctcgtagggagcaggatcatgccagaaatagggatggaagtgcatcctctgggaaaaagataatggcttctgattcaacatagccatagtcctttgaagtaagtggctagaaacagcactctggttataattgccccagggcctgattcaggactgactctccaccataaaactggaagctgcttcccctgtagtccccatttcagtaccagttctgccagccacagtgagcccctattattactttcagattgtctgtgacactcaagcccctctcatttttatctgtctacctccattctgaagagggaggttttggtgtccctggtcctctgggaatagaagatccatttgtctttgtgtagagcaagcacgttttccacctcactgtctccatcctccacctctgagatggacacttaagagacggggcaaatgtggatccaagaaaccagggccatgaccgggtccactgtggagcagccatctatctacctgactcctgagccaggctgccgtggtgtcatttctgtcatccgtgctctgtttccttttggagtttcttctccacattatctttgttcctggggaataaaaactaccattggacctagaa'}"
      ]
     },
     "execution_count": 5,
     "metadata": {},
     "output_type": "execute_result"
    }
   ],
   "source": [
    "# test that it works on my loci of interest\n",
    "get_bp_and_cds(\"SLC5A6\")"
   ]
  },
  {
   "cell_type": "markdown",
   "id": "c4c28631-e732-4044-9764-f8630c1bf663",
   "metadata": {},
   "source": [
    "# get list of all human genes"
   ]
  },
  {
   "cell_type": "code",
   "execution_count": 7,
   "id": "ae0dd89f-57d7-480c-ba6f-ddd8877fbf39",
   "metadata": {
    "execution": {
     "iopub.execute_input": "2022-09-29T17:30:24.435940Z",
     "iopub.status.busy": "2022-09-29T17:30:24.435609Z",
     "iopub.status.idle": "2022-09-29T17:30:24.440181Z",
     "shell.execute_reply": "2022-09-29T17:30:24.439662Z",
     "shell.execute_reply.started": "2022-09-29T17:30:24.435911Z"
    },
    "tags": []
   },
   "outputs": [],
   "source": [
    "connection = sqlite3.connect(\"../data/EnsDb.Hsapiens.v79.sqlite\")\n",
    "cursor = connection.cursor()"
   ]
  },
  {
   "cell_type": "code",
   "execution_count": 10,
   "id": "cb05f44f-6d49-4323-b474-d1edec20ace6",
   "metadata": {
    "execution": {
     "iopub.execute_input": "2022-09-29T17:31:18.326842Z",
     "iopub.status.busy": "2022-09-29T17:31:18.326525Z",
     "iopub.status.idle": "2022-09-29T17:31:18.600732Z",
     "shell.execute_reply": "2022-09-29T17:31:18.600093Z",
     "shell.execute_reply.started": "2022-09-29T17:31:18.326820Z"
    },
    "tags": []
   },
   "outputs": [
    {
     "name": "stdout",
     "output_type": "stream",
     "text": [
      "65774\n"
     ]
    }
   ],
   "source": [
    "rows = cursor.execute(\"SELECT gene_name,gene_biotype FROM gene\").fetchall()\n",
    "print(len(rows))"
   ]
  },
  {
   "cell_type": "code",
   "execution_count": 12,
   "id": "7c07c306-417d-4053-a640-303a26989e50",
   "metadata": {
    "execution": {
     "iopub.execute_input": "2022-09-29T17:32:24.905226Z",
     "iopub.status.busy": "2022-09-29T17:32:24.904864Z",
     "iopub.status.idle": "2022-09-29T17:32:24.917576Z",
     "shell.execute_reply": "2022-09-29T17:32:24.917047Z",
     "shell.execute_reply.started": "2022-09-29T17:32:24.905202Z"
    },
    "tags": []
   },
   "outputs": [
    {
     "data": {
      "text/plain": [
       "Counter({'protein_coding': 22002,\n",
       "         'unitary_pseudogene': 169,\n",
       "         'unprocessed_pseudogene': 3137,\n",
       "         'processed_pseudogene': 10702,\n",
       "         'processed_transcript': 767,\n",
       "         'transcribed_unprocessed_pseudogene': 751,\n",
       "         'antisense': 5648,\n",
       "         'polymorphic_pseudogene': 79,\n",
       "         'lincRNA': 7839,\n",
       "         'sense_intronic': 931,\n",
       "         'transcribed_processed_pseudogene': 478,\n",
       "         'sense_overlapping': 199,\n",
       "         'IG_V_pseudogene': 190,\n",
       "         'pseudogene': 43,\n",
       "         'translated_unprocessed_pseudogene': 1,\n",
       "         'TR_V_gene': 106,\n",
       "         'transcribed_unitary_pseudogene': 1,\n",
       "         '3prime_overlapping_ncrna': 29,\n",
       "         'IG_V_gene': 154,\n",
       "         'snRNA': 2032,\n",
       "         'miRNA': 4548,\n",
       "         'misc_RNA': 2468,\n",
       "         'snoRNA': 1017,\n",
       "         'rRNA': 564,\n",
       "         'Mt_tRNA': 22,\n",
       "         'Mt_rRNA': 2,\n",
       "         'IG_C_gene': 14,\n",
       "         'IG_J_gene': 18,\n",
       "         'TR_J_gene': 73,\n",
       "         'TR_C_gene': 5,\n",
       "         'TR_V_pseudogene': 30,\n",
       "         'TR_J_pseudogene': 4,\n",
       "         'IG_D_gene': 37,\n",
       "         'ribozyme': 8,\n",
       "         'IG_C_pseudogene': 9,\n",
       "         'TR_D_gene': 3,\n",
       "         'TEC': 1057,\n",
       "         'IG_J_pseudogene': 3,\n",
       "         'scaRNA': 51,\n",
       "         'non_coding': 3,\n",
       "         'translated_processed_pseudogene': 1,\n",
       "         'vaultRNA': 1,\n",
       "         'sRNA': 20,\n",
       "         'macro_lncRNA': 1,\n",
       "         'LRG_gene': 557})"
      ]
     },
     "execution_count": 12,
     "metadata": {},
     "output_type": "execute_result"
    }
   ],
   "source": [
    "Counter(b for g,b in rows)"
   ]
  },
  {
   "cell_type": "markdown",
   "id": "08c81633-59f7-4059-89aa-84efb97f1433",
   "metadata": {},
   "source": [
    "Wowza, that's a lot of genes. I will focus on the protein coding genes for now as I think they are the most relevant to the project."
   ]
  },
  {
   "cell_type": "code",
   "execution_count": 13,
   "id": "9bff8623-930a-4196-9545-37f3e99aaa26",
   "metadata": {
    "execution": {
     "iopub.execute_input": "2022-09-29T17:40:42.745631Z",
     "iopub.status.busy": "2022-09-29T17:40:42.745327Z",
     "iopub.status.idle": "2022-09-29T17:40:42.753663Z",
     "shell.execute_reply": "2022-09-29T17:40:42.753077Z",
     "shell.execute_reply.started": "2022-09-29T17:40:42.745607Z"
    },
    "tags": []
   },
   "outputs": [
    {
     "name": "stdout",
     "output_type": "stream",
     "text": [
      "22002\n"
     ]
    }
   ],
   "source": [
    "protein_coding_genes = [g for g,b in rows if b == \"protein_coding\"]\n",
    "print(len(protein_coding_genes))"
   ]
  },
  {
   "cell_type": "code",
   "execution_count": 14,
   "id": "67616a52-16fc-4b9b-b621-a437b03ca0ff",
   "metadata": {
    "execution": {
     "iopub.execute_input": "2022-09-29T18:06:10.338320Z",
     "iopub.status.busy": "2022-09-29T18:06:10.337879Z",
     "iopub.status.idle": "2022-09-29T18:06:10.343271Z",
     "shell.execute_reply": "2022-09-29T18:06:10.342242Z",
     "shell.execute_reply.started": "2022-09-29T18:06:10.338288Z"
    },
    "tags": []
   },
   "outputs": [],
   "source": [
    "problem_file = \"gathered_data/problem_genes.list\""
   ]
  },
  {
   "cell_type": "code",
   "execution_count": 15,
   "id": "b30eeabd-46ee-4314-b4bc-38824e5a9378",
   "metadata": {
    "execution": {
     "iopub.execute_input": "2022-09-29T18:06:37.787298Z",
     "iopub.status.busy": "2022-09-29T18:06:37.786942Z",
     "iopub.status.idle": "2022-09-29T18:06:37.790723Z",
     "shell.execute_reply": "2022-09-29T18:06:37.790180Z",
     "shell.execute_reply.started": "2022-09-29T18:06:37.787275Z"
    },
    "tags": []
   },
   "outputs": [],
   "source": [
    "test_genes = protein_coding_genes[:1000]"
   ]
  },
  {
   "cell_type": "code",
   "execution_count": null,
   "id": "70b21ffe-95b7-44d1-95f4-3e682fc19d52",
   "metadata": {
    "execution": {
     "iopub.execute_input": "2022-09-29T18:13:36.866277Z",
     "iopub.status.busy": "2022-09-29T18:13:36.865887Z"
    },
    "tags": []
   },
   "outputs": [
    {
     "name": "stdout",
     "output_type": "stream",
     "text": [
      "TSPAN6\n",
      "https://www.ncbi.nlm.nih.gov//nuccore/NC_000023.11?report=genbank&from=100627108&to=100637104&strand=true\n",
      "https://www.ncbi.nlm.nih.gov/sviewer/viewer.fcgi?id=568815575&db=nuccore&report=genbank&conwithfeat=on&basic_feat=on&hide-cdd=on&from=100627108&to=100637104&strand=on&retmode=html&withmarkup=on&tool=portal&log$=seqview&maxdownloadsize=1000000\n",
      "51679\n",
      "done!\n",
      "TNMD\n",
      "https://www.ncbi.nlm.nih.gov//nuccore/NC_000023.11?report=genbank&from=100584936&to=100599885\n",
      "https://www.ncbi.nlm.nih.gov/sviewer/viewer.fcgi?id=568815575&db=nuccore&report=genbank&conwithfeat=on&basic_feat=on&hide-cdd=on&from=100584936&to=100599885&strand=off&retmode=html&withmarkup=on&tool=portal&log$=seqview&maxdownloadsize=1000000\n",
      "48633\n",
      "done!\n",
      "DPM1\n",
      "https://www.ncbi.nlm.nih.gov//nuccore/NC_000020.11?report=genbank&from=50934855&to=50958564&strand=true\n",
      "https://www.ncbi.nlm.nih.gov/sviewer/viewer.fcgi?id=568815578&db=nuccore&report=genbank&conwithfeat=on&basic_feat=on&hide-cdd=on&from=50934855&to=50958564&strand=on&retmode=html&withmarkup=on&tool=portal&log$=seqview&maxdownloadsize=1000000\n",
      "84617\n",
      "done!\n",
      "SCYL3\n",
      "https://www.ncbi.nlm.nih.gov//nuccore/NC_000001.11?report=genbank&from=169849631&to=169894268&strand=true\n",
      "https://www.ncbi.nlm.nih.gov/sviewer/viewer.fcgi?id=568815597&db=nuccore&report=genbank&conwithfeat=on&basic_feat=on&hide-cdd=on&from=169849631&to=169894268&strand=on&retmode=html&withmarkup=on&tool=portal&log$=seqview&maxdownloadsize=1000000\n",
      "199657\n",
      "done!\n",
      "C1orf112\n",
      "https://www.ncbi.nlm.nih.gov//nuccore/NC_000001.11?report=genbank&from=169783837&to=169854080\n",
      "https://www.ncbi.nlm.nih.gov/sviewer/viewer.fcgi?id=568815597&db=nuccore&report=genbank&conwithfeat=on&basic_feat=on&hide-cdd=on&from=169783837&to=169854080&strand=off&retmode=html&withmarkup=on&tool=portal&log$=seqview&maxdownloadsize=1000000\n",
      "285762\n",
      "done!\n",
      "FGR\n",
      "https://www.ncbi.nlm.nih.gov//nuccore/NC_000001.11?report=genbank&from=27612064&to=27635185&strand=true\n",
      "https://www.ncbi.nlm.nih.gov/sviewer/viewer.fcgi?id=568815597&db=nuccore&report=genbank&conwithfeat=on&basic_feat=on&hide-cdd=on&from=27612064&to=27635185&strand=on&retmode=html&withmarkup=on&tool=portal&log$=seqview&maxdownloadsize=1000000\n",
      "73778\n",
      "done!\n",
      "CFH\n",
      "https://www.ncbi.nlm.nih.gov//nuccore/NC_000001.11?report=genbank&from=196652043&to=196747504\n",
      "https://www.ncbi.nlm.nih.gov/sviewer/viewer.fcgi?id=568815597&db=nuccore&report=genbank&conwithfeat=on&basic_feat=on&hide-cdd=on&from=196652043&to=196747504&strand=off&retmode=html&withmarkup=on&tool=portal&log$=seqview&maxdownloadsize=1000000\n",
      "237191\n",
      "done!\n",
      "FUCA2\n",
      "https://www.ncbi.nlm.nih.gov//nuccore/NC_000006.12?report=genbank&from=143494812&to=143511720&strand=true\n",
      "https://www.ncbi.nlm.nih.gov/sviewer/viewer.fcgi?id=568815592&db=nuccore&report=genbank&conwithfeat=on&basic_feat=on&hide-cdd=on&from=143494812&to=143511720&strand=on&retmode=html&withmarkup=on&tool=portal&log$=seqview&maxdownloadsize=1000000\n",
      "52864\n",
      "done!\n",
      "GCLC\n",
      "https://www.ncbi.nlm.nih.gov//nuccore/NC_000006.12?report=genbank&from=53497341&to=53545101&strand=true\n",
      "https://www.ncbi.nlm.nih.gov/sviewer/viewer.fcgi?id=568815592&db=nuccore&report=genbank&conwithfeat=on&basic_feat=on&hide-cdd=on&from=53497341&to=53545101&strand=on&retmode=html&withmarkup=on&tool=portal&log$=seqview&maxdownloadsize=1000000\n",
      "126141\n",
      "done!\n",
      "NFYA\n",
      "https://www.ncbi.nlm.nih.gov//nuccore/NC_000006.12?report=genbank&from=41072974&to=41102403\n",
      "https://www.ncbi.nlm.nih.gov/sviewer/viewer.fcgi?id=568815592&db=nuccore&report=genbank&conwithfeat=on&basic_feat=on&hide-cdd=on&from=41072974&to=41102403&strand=off&retmode=html&withmarkup=on&tool=portal&log$=seqview&maxdownloadsize=1000000\n",
      "86840\n",
      "done!\n",
      "STPG1\n",
      "https://www.ncbi.nlm.nih.gov//nuccore/NC_000001.11?report=genbank&from=24356999&to=24415044&strand=true\n",
      "https://www.ncbi.nlm.nih.gov/sviewer/viewer.fcgi?id=568815597&db=nuccore&report=genbank&conwithfeat=on&basic_feat=on&hide-cdd=on&from=24356999&to=24415044&strand=on&retmode=html&withmarkup=on&tool=portal&log$=seqview&maxdownloadsize=1000000\n",
      "169082\n",
      "done!\n",
      "NIPAL3\n",
      "https://www.ncbi.nlm.nih.gov//nuccore/NC_000001.11?report=genbank&from=24413524&to=24472983\n",
      "https://www.ncbi.nlm.nih.gov/sviewer/viewer.fcgi?id=568815597&db=nuccore&report=genbank&conwithfeat=on&basic_feat=on&hide-cdd=on&from=24413524&to=24472983&strand=off&retmode=html&withmarkup=on&tool=portal&log$=seqview&maxdownloadsize=1000000\n",
      "215616\n",
      "done!\n",
      "LAS1L\n",
      "https://www.ncbi.nlm.nih.gov//nuccore/NC_000023.11?report=genbank&from=65512582&to=65534787&strand=true\n",
      "https://www.ncbi.nlm.nih.gov/sviewer/viewer.fcgi?id=568815575&db=nuccore&report=genbank&conwithfeat=on&basic_feat=on&hide-cdd=on&from=65512582&to=65534787&strand=on&retmode=html&withmarkup=on&tool=portal&log$=seqview&maxdownloadsize=1000000\n",
      "147628\n",
      "done!\n",
      "ENPP4\n",
      "https://www.ncbi.nlm.nih.gov//nuccore/NC_000006.12?report=genbank&from=46129989&to=46146688\n",
      "https://www.ncbi.nlm.nih.gov/sviewer/viewer.fcgi?id=568815592&db=nuccore&report=genbank&conwithfeat=on&basic_feat=on&hide-cdd=on&from=46129989&to=46146688&strand=off&retmode=html&withmarkup=on&tool=portal&log$=seqview&maxdownloadsize=1000000\n",
      "50967\n",
      "done!\n",
      "SEMA3F\n",
      "https://www.ncbi.nlm.nih.gov//nuccore/NC_000003.12?report=genbank&from=50155058&to=50189075\n",
      "https://www.ncbi.nlm.nih.gov/sviewer/viewer.fcgi?id=568815595&db=nuccore&report=genbank&conwithfeat=on&basic_feat=on&hide-cdd=on&from=50155058&to=50189075&strand=off&retmode=html&withmarkup=on&tool=portal&log$=seqview&maxdownloadsize=1000000\n",
      "139225\n",
      "done!\n",
      "CFTR\n",
      "https://www.ncbi.nlm.nih.gov//nuccore/NC_000007.14?report=genbank&from=117480025&to=117668665\n",
      "https://www.ncbi.nlm.nih.gov/sviewer/viewer.fcgi?id=568815591&db=nuccore&report=genbank&conwithfeat=on&basic_feat=on&hide-cdd=on&from=117480025&to=117668665&strand=off&retmode=html&withmarkup=on&tool=portal&log$=seqview&maxdownloadsize=1000000\n",
      "426302\n",
      "done!\n",
      "ANKIB1\n",
      "https://www.ncbi.nlm.nih.gov//nuccore/NC_000007.14?report=genbank&from=92245974&to=92401383\n",
      "https://www.ncbi.nlm.nih.gov/sviewer/viewer.fcgi?id=568815591&db=nuccore&report=genbank&conwithfeat=on&basic_feat=on&hide-cdd=on&from=92245974&to=92401383&strand=off&retmode=html&withmarkup=on&tool=portal&log$=seqview&maxdownloadsize=1000000\n",
      "385879\n",
      "done!\n",
      "CYP51A1\n",
      "https://www.ncbi.nlm.nih.gov//nuccore/NC_000007.14?report=genbank&from=92112153&to=92134803&strand=true\n",
      "https://www.ncbi.nlm.nih.gov/sviewer/viewer.fcgi?id=568815591&db=nuccore&report=genbank&conwithfeat=on&basic_feat=on&hide-cdd=on&from=92112153&to=92134803&strand=on&retmode=html&withmarkup=on&tool=portal&log$=seqview&maxdownloadsize=1000000\n",
      "69671\n",
      "done!\n",
      "KRIT1\n",
      "https://www.ncbi.nlm.nih.gov//nuccore/NC_000007.14?report=genbank&from=92198969&to=92246100&strand=true\n",
      "https://www.ncbi.nlm.nih.gov/sviewer/viewer.fcgi?id=568815591&db=nuccore&report=genbank&conwithfeat=on&basic_feat=on&hide-cdd=on&from=92198969&to=92246100&strand=on&retmode=html&withmarkup=on&tool=portal&log$=seqview&maxdownloadsize=1000000\n",
      "264650\n",
      "done!\n",
      "RAD52\n",
      "https://www.ncbi.nlm.nih.gov//nuccore/NC_000012.12?report=genbank&from=911736&to=991122&strand=true\n",
      "https://www.ncbi.nlm.nih.gov/sviewer/viewer.fcgi?id=568815586&db=nuccore&report=genbank&conwithfeat=on&basic_feat=on&hide-cdd=on&from=911736&to=991122&strand=on&retmode=html&withmarkup=on&tool=portal&log$=seqview&maxdownloadsize=1000000\n",
      "279907\n",
      "done!\n",
      "BAD\n",
      "https://www.ncbi.nlm.nih.gov//nuccore/NC_000011.10?report=genbank&from=64269828&to=64284704&strand=true\n",
      "https://www.ncbi.nlm.nih.gov/sviewer/viewer.fcgi?id=568815587&db=nuccore&report=genbank&conwithfeat=on&basic_feat=on&hide-cdd=on&from=64269828&to=64284704&strand=on&retmode=html&withmarkup=on&tool=portal&log$=seqview&maxdownloadsize=1000000\n",
      "59160\n",
      "done!\n",
      "LAP3\n",
      "https://www.ncbi.nlm.nih.gov//nuccore/NC_000004.12?report=genbank&from=17577198&to=17607970\n",
      "https://www.ncbi.nlm.nih.gov/sviewer/viewer.fcgi?id=568815594&db=nuccore&report=genbank&conwithfeat=on&basic_feat=on&hide-cdd=on&from=17577198&to=17607970&strand=off&retmode=html&withmarkup=on&tool=portal&log$=seqview&maxdownloadsize=1000000\n",
      "81100\n",
      "done!\n",
      "CD99\n",
      "https://www.ncbi.nlm.nih.gov//nuccore/NC_000023.11?report=genbank&from=2691295&to=2741309\n",
      "https://www.ncbi.nlm.nih.gov/sviewer/viewer.fcgi?id=568815575&db=nuccore&report=genbank&conwithfeat=on&basic_feat=on&hide-cdd=on&from=2691295&to=2741309&strand=off&retmode=html&withmarkup=on&tool=portal&log$=seqview&maxdownloadsize=1000000\n",
      "141017\n",
      "done!\n",
      "HS3ST1\n",
      "https://www.ncbi.nlm.nih.gov//nuccore/NC_000004.12?report=genbank&from=11393150&to=11434327&strand=true\n",
      "https://www.ncbi.nlm.nih.gov/sviewer/viewer.fcgi?id=568815594&db=nuccore&report=genbank&conwithfeat=on&basic_feat=on&hide-cdd=on&from=11393150&to=11434327&strand=on&retmode=html&withmarkup=on&tool=portal&log$=seqview&maxdownloadsize=1000000\n",
      "106362\n",
      "failed\n",
      "'NoneType' object has no attribute 'groups'\n",
      "AOC1\n",
      "https://www.ncbi.nlm.nih.gov//nuccore/NC_000007.14?report=genbank&from=150852120&to=150861504\n",
      "https://www.ncbi.nlm.nih.gov/sviewer/viewer.fcgi?id=568815591&db=nuccore&report=genbank&conwithfeat=on&basic_feat=on&hide-cdd=on&from=150852120&to=150861504&strand=off&retmode=html&withmarkup=on&tool=portal&log$=seqview&maxdownloadsize=1000000\n",
      "53022\n",
      "done!\n",
      "WNT16\n",
      "https://www.ncbi.nlm.nih.gov//nuccore/NC_000007.14?report=genbank&from=121325367&to=121341104\n",
      "https://www.ncbi.nlm.nih.gov/sviewer/viewer.fcgi?id=568815591&db=nuccore&report=genbank&conwithfeat=on&basic_feat=on&hide-cdd=on&from=121325367&to=121341104&strand=off&retmode=html&withmarkup=on&tool=portal&log$=seqview&maxdownloadsize=1000000\n",
      "50479\n",
      "done!\n",
      "HECW1\n",
      "https://www.ncbi.nlm.nih.gov//nuccore/NC_000007.14?report=genbank&from=43112647&to=43566001\n",
      "https://www.ncbi.nlm.nih.gov/sviewer/viewer.fcgi?id=568815591&db=nuccore&report=genbank&conwithfeat=on&basic_feat=on&hide-cdd=on&from=43112647&to=43566001&strand=off&retmode=html&withmarkup=on&tool=portal&log$=seqview&maxdownloadsize=1000000\n",
      "15\n",
      "failed\n",
      "'NoneType' object has no attribute 'groups'\n",
      "MAD1L1\n",
      "https://www.ncbi.nlm.nih.gov//nuccore/NC_000007.14?report=genbank&from=1815795&to=2232945&strand=true\n",
      "https://www.ncbi.nlm.nih.gov/sviewer/viewer.fcgi?id=568815591&db=nuccore&report=genbank&conwithfeat=on&basic_feat=on&hide-cdd=on&from=1815795&to=2232945&strand=on&retmode=html&withmarkup=on&tool=portal&log$=seqview&maxdownloadsize=1000000\n",
      "950487\n",
      "done!\n",
      "LASP1\n",
      "https://www.ncbi.nlm.nih.gov//nuccore/NC_000017.11?report=genbank&from=38870058&to=38921770\n",
      "https://www.ncbi.nlm.nih.gov/sviewer/viewer.fcgi?id=568815581&db=nuccore&report=genbank&conwithfeat=on&basic_feat=on&hide-cdd=on&from=38870058&to=38921770&strand=off&retmode=html&withmarkup=on&tool=portal&log$=seqview&maxdownloadsize=1000000\n",
      "135673\n",
      "done!\n",
      "SNX11\n",
      "https://www.ncbi.nlm.nih.gov//nuccore/NC_000017.11?report=genbank&from=48107523&to=48123601\n",
      "https://www.ncbi.nlm.nih.gov/sviewer/viewer.fcgi?id=568815581&db=nuccore&report=genbank&conwithfeat=on&basic_feat=on&hide-cdd=on&from=48107523&to=48123601&strand=off&retmode=html&withmarkup=on&tool=portal&log$=seqview&maxdownloadsize=1000000\n",
      "68214\n",
      "done!\n",
      "TMEM176A\n",
      "https://www.ncbi.nlm.nih.gov//nuccore/NC_000007.14?report=genbank&from=150800769&to=150805118\n",
      "https://www.ncbi.nlm.nih.gov/sviewer/viewer.fcgi?id=568815591&db=nuccore&report=genbank&conwithfeat=on&basic_feat=on&hide-cdd=on&from=150800769&to=150805118&strand=off&retmode=html&withmarkup=on&tool=portal&log$=seqview&maxdownloadsize=1000000\n",
      "35938\n",
      "done!\n",
      "M6PR\n",
      "https://www.ncbi.nlm.nih.gov//nuccore/NC_000012.12?report=genbank&from=8940361&to=8949645&strand=true\n",
      "https://www.ncbi.nlm.nih.gov/sviewer/viewer.fcgi?id=568815586&db=nuccore&report=genbank&conwithfeat=on&basic_feat=on&hide-cdd=on&from=8940361&to=8949645&strand=on&retmode=html&withmarkup=on&tool=portal&log$=seqview&maxdownloadsize=1000000\n",
      "55677\n",
      "done!\n",
      "KLHL13\n",
      "https://www.ncbi.nlm.nih.gov//nuccore/NC_000023.11?report=genbank&from=117897813&to=118131050&strand=true\n",
      "https://www.ncbi.nlm.nih.gov/sviewer/viewer.fcgi?id=568815575&db=nuccore&report=genbank&conwithfeat=on&basic_feat=on&hide-cdd=on&from=117897813&to=118131050&strand=on&retmode=html&withmarkup=on&tool=portal&log$=seqview&maxdownloadsize=1000000\n",
      "575980\n",
      "done!\n",
      "CYP26B1\n",
      "https://www.ncbi.nlm.nih.gov//nuccore/NC_000002.12?report=genbank&from=72129238&to=72147862&strand=true\n",
      "https://www.ncbi.nlm.nih.gov/sviewer/viewer.fcgi?id=568815596&db=nuccore&report=genbank&conwithfeat=on&basic_feat=on&hide-cdd=on&from=72129238&to=72147862&strand=on&retmode=html&withmarkup=on&tool=portal&log$=seqview&maxdownloadsize=1000000\n",
      "70258\n",
      "done!\n",
      "ICA1\n",
      "https://www.ncbi.nlm.nih.gov//nuccore/NC_000007.14?report=genbank&from=8113184&to=8262555&strand=true\n",
      "https://www.ncbi.nlm.nih.gov/sviewer/viewer.fcgi?id=568815591&db=nuccore&report=genbank&conwithfeat=on&basic_feat=on&hide-cdd=on&from=8113184&to=8262555&strand=on&retmode=html&withmarkup=on&tool=portal&log$=seqview&maxdownloadsize=1000000\n",
      "474527\n",
      "done!\n",
      "DBNDD1\n",
      "https://www.ncbi.nlm.nih.gov//nuccore/NC_000016.10?report=genbank&from=90004871&to=90019890&strand=true\n",
      "https://www.ncbi.nlm.nih.gov/sviewer/viewer.fcgi?id=568815582&db=nuccore&report=genbank&conwithfeat=on&basic_feat=on&hide-cdd=on&from=90004871&to=90019890&strand=on&retmode=html&withmarkup=on&tool=portal&log$=seqview&maxdownloadsize=1000000\n",
      "58187\n",
      "done!\n",
      "ALS2\n",
      "https://www.ncbi.nlm.nih.gov//nuccore/NC_000002.12?report=genbank&from=201700267&to=201780933&strand=true\n",
      "https://www.ncbi.nlm.nih.gov/sviewer/viewer.fcgi?id=568815596&db=nuccore&report=genbank&conwithfeat=on&basic_feat=on&hide-cdd=on&from=201700267&to=201780933&strand=on&retmode=html&withmarkup=on&tool=portal&log$=seqview&maxdownloadsize=1000000\n",
      "242305\n",
      "done!\n",
      "CASP10\n",
      "https://www.ncbi.nlm.nih.gov//nuccore/NC_000002.12?report=genbank&from=201183141&to=201229406\n",
      "https://www.ncbi.nlm.nih.gov/sviewer/viewer.fcgi?id=568815596&db=nuccore&report=genbank&conwithfeat=on&basic_feat=on&hide-cdd=on&from=201183141&to=201229406&strand=off&retmode=html&withmarkup=on&tool=portal&log$=seqview&maxdownloadsize=1000000\n",
      "147390\n",
      "done!\n",
      "CFLAR\n",
      "https://www.ncbi.nlm.nih.gov//nuccore/NC_000002.12?report=genbank&from=201116164&to=201176687\n",
      "https://www.ncbi.nlm.nih.gov/sviewer/viewer.fcgi?id=568815596&db=nuccore&report=genbank&conwithfeat=on&basic_feat=on&hide-cdd=on&from=201116164&to=201176687&strand=off&retmode=html&withmarkup=on&tool=portal&log$=seqview&maxdownloadsize=1000000\n",
      "251507\n",
      "done!\n",
      "TFPI\n",
      "https://www.ncbi.nlm.nih.gov//nuccore/NC_000002.12?report=genbank&from=187464230&to=187554435&strand=true\n",
      "https://www.ncbi.nlm.nih.gov/sviewer/viewer.fcgi?id=568815596&db=nuccore&report=genbank&conwithfeat=on&basic_feat=on&hide-cdd=on&from=187464230&to=187554435&strand=on&retmode=html&withmarkup=on&tool=portal&log$=seqview&maxdownloadsize=1000000\n",
      "255862\n",
      "done!\n",
      "NDUFAF7\n"
     ]
    }
   ],
   "source": [
    "for gene in test_genes:\n",
    "    try:\n",
    "        print(gene)\n",
    "        result = get_bp_and_cds(gene)\n",
    "        with open(\"gathered_data/raw_gene_results/{}.pickle\",\"wb+\".format(gene)) as f:\n",
    "            dump(result,f)\n",
    "    except Exception as e:\n",
    "        print(\"failed\")\n",
    "        print(e)\n",
    "        with open(problem_file,\"a+\") as f:\n",
    "            f.write(\"{}\\n\".format(gene))"
   ]
  }
 ],
 "metadata": {
  "kernelspec": {
   "display_name": "Python 3 (ipykernel)",
   "language": "python",
   "name": "python3"
  },
  "language_info": {
   "codemirror_mode": {
    "name": "ipython",
    "version": 3
   },
   "file_extension": ".py",
   "mimetype": "text/x-python",
   "name": "python",
   "nbconvert_exporter": "python",
   "pygments_lexer": "ipython3",
   "version": "3.9.13"
  }
 },
 "nbformat": 4,
 "nbformat_minor": 5
}
